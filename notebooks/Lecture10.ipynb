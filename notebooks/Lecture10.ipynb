{
 "cells": [
  {
   "cell_type": "markdown",
   "id": "e993524b-545b-4ee2-8c20-e05cbcfd4400",
   "metadata": {},
   "source": [
    "## Lecture 10 Notebook and Numpy"
   ]
  },
  {
   "cell_type": "code",
   "execution_count": 1,
   "id": "573a8838-7d53-4a84-9205-16062124cb1f",
   "metadata": {
    "tags": []
   },
   "outputs": [],
   "source": [
    "a = 10"
   ]
  },
  {
   "cell_type": "code",
   "execution_count": 2,
   "id": "83a3beb9-08d2-43ee-bac2-72c5c48bcd91",
   "metadata": {
    "tags": []
   },
   "outputs": [
    {
     "data": {
      "text/plain": [
       "10"
      ]
     },
     "execution_count": 2,
     "metadata": {},
     "output_type": "execute_result"
    }
   ],
   "source": [
    "a"
   ]
  },
  {
   "cell_type": "code",
   "execution_count": 3,
   "id": "a0f64046-adca-4dea-a8c4-742295c04183",
   "metadata": {
    "tags": []
   },
   "outputs": [],
   "source": [
    "b = 25 "
   ]
  },
  {
   "cell_type": "code",
   "execution_count": 4,
   "id": "657445d7-d70e-4f72-85ff-8a562320244f",
   "metadata": {
    "tags": []
   },
   "outputs": [
    {
     "name": "stdout",
     "output_type": "stream",
     "text": [
      "25\n"
     ]
    }
   ],
   "source": [
    "print(b)"
   ]
  },
  {
   "cell_type": "code",
   "execution_count": 7,
   "id": "7c0aae4f-bee7-4b20-b2f4-166f6f3e8d2e",
   "metadata": {
    "tags": []
   },
   "outputs": [
    {
     "name": "stdout",
     "output_type": "stream",
     "text": [
      "hi\n"
     ]
    }
   ],
   "source": [
    "print(c)"
   ]
  },
  {
   "cell_type": "code",
   "execution_count": 6,
   "id": "1099c2f4-311e-4b04-bdfe-0fa35c557ee4",
   "metadata": {
    "tags": []
   },
   "outputs": [],
   "source": [
    "c = 'hi'"
   ]
  },
  {
   "cell_type": "code",
   "execution_count": 9,
   "id": "18c0d92d-921a-4320-a937-e2875c8d76b1",
   "metadata": {
    "tags": []
   },
   "outputs": [
    {
     "name": "stdout",
     "output_type": "stream",
     "text": [
      "Lecture10.ipynb\n"
     ]
    }
   ],
   "source": [
    "! ls"
   ]
  },
  {
   "cell_type": "code",
   "execution_count": 10,
   "id": "03107a33-b2ce-4971-924d-cf283227f3c5",
   "metadata": {
    "tags": []
   },
   "outputs": [
    {
     "name": "stdout",
     "output_type": "stream",
     "text": [
      "/home/jdehart/scratch/cs5293sp23/notebooks\n"
     ]
    }
   ],
   "source": [
    "! pwd"
   ]
  },
  {
   "cell_type": "code",
   "execution_count": 11,
   "id": "e23737fe-587f-42df-ba4a-0ced9c08d7d0",
   "metadata": {
    "tags": []
   },
   "outputs": [
    {
     "name": "stdout",
     "output_type": "stream",
     "text": [
      "/home/jdehart/scratch/cs5293sp23/notebooks\n"
     ]
    }
   ],
   "source": [
    "%%bash\n",
    "pwd"
   ]
  },
  {
   "cell_type": "code",
   "execution_count": 12,
   "id": "d2763623-f6d1-4665-a411-965a79f4e370",
   "metadata": {
    "tags": []
   },
   "outputs": [
    {
     "name": "stdout",
     "output_type": "stream",
     "text": [
      "Lecture10.ipynb\n"
     ]
    }
   ],
   "source": [
    "%ls"
   ]
  },
  {
   "cell_type": "code",
   "execution_count": 13,
   "id": "1288cdda-73ae-4388-b1c4-c8debde3a023",
   "metadata": {
    "tags": []
   },
   "outputs": [],
   "source": [
    "import numpy as np"
   ]
  },
  {
   "cell_type": "code",
   "execution_count": 14,
   "id": "e85ad032-4813-4d2e-8eb4-b5b127a98cc7",
   "metadata": {
    "tags": []
   },
   "outputs": [
    {
     "data": {
      "text/plain": [
       "array([0.36122897, 0.55263311, 0.48720681, 0.18487196, 0.18435612,\n",
       "       0.82688914, 0.4839504 , 0.50172798, 0.20524668, 0.89777676])"
      ]
     },
     "execution_count": 14,
     "metadata": {},
     "output_type": "execute_result"
    }
   ],
   "source": [
    "np.random.sample(10)"
   ]
  },
  {
   "cell_type": "code",
   "execution_count": 15,
   "id": "7c2abe66-38b9-493c-861c-ba01180ded04",
   "metadata": {
    "tags": []
   },
   "outputs": [
    {
     "data": {
      "text/plain": [
       "\u001b[0;31mType:\u001b[0m        module\n",
       "\u001b[0;31mString form:\u001b[0m <module 'numpy.random' from '/home/jdehart/.local/share/virtualenvs/cs5293sp23-rt2e3u6p/lib/python3.11/site-packages/numpy/random/__init__.py'>\n",
       "\u001b[0;31mFile:\u001b[0m        ~/.local/share/virtualenvs/cs5293sp23-rt2e3u6p/lib/python3.11/site-packages/numpy/random/__init__.py\n",
       "\u001b[0;31mDocstring:\u001b[0m  \n",
       "========================\n",
       "Random Number Generation\n",
       "========================\n",
       "\n",
       "Use ``default_rng()`` to create a `Generator` and call its methods.\n",
       "\n",
       "=============== =========================================================\n",
       "Generator\n",
       "--------------- ---------------------------------------------------------\n",
       "Generator       Class implementing all of the random number distributions\n",
       "default_rng     Default constructor for ``Generator``\n",
       "=============== =========================================================\n",
       "\n",
       "============================================= ===\n",
       "BitGenerator Streams that work with Generator\n",
       "--------------------------------------------- ---\n",
       "MT19937\n",
       "PCG64\n",
       "PCG64DXSM\n",
       "Philox\n",
       "SFC64\n",
       "============================================= ===\n",
       "\n",
       "============================================= ===\n",
       "Getting entropy to initialize a BitGenerator\n",
       "--------------------------------------------- ---\n",
       "SeedSequence\n",
       "============================================= ===\n",
       "\n",
       "\n",
       "Legacy\n",
       "------\n",
       "\n",
       "For backwards compatibility with previous versions of numpy before 1.17, the\n",
       "various aliases to the global `RandomState` methods are left alone and do not\n",
       "use the new `Generator` API.\n",
       "\n",
       "==================== =========================================================\n",
       "Utility functions\n",
       "-------------------- ---------------------------------------------------------\n",
       "random               Uniformly distributed floats over ``[0, 1)``\n",
       "bytes                Uniformly distributed random bytes.\n",
       "permutation          Randomly permute a sequence / generate a random sequence.\n",
       "shuffle              Randomly permute a sequence in place.\n",
       "choice               Random sample from 1-D array.\n",
       "==================== =========================================================\n",
       "\n",
       "==================== =========================================================\n",
       "Compatibility\n",
       "functions - removed\n",
       "in the new API\n",
       "-------------------- ---------------------------------------------------------\n",
       "rand                 Uniformly distributed values.\n",
       "randn                Normally distributed values.\n",
       "ranf                 Uniformly distributed floating point numbers.\n",
       "random_integers      Uniformly distributed integers in a given range.\n",
       "                     (deprecated, use ``integers(..., closed=True)`` instead)\n",
       "random_sample        Alias for `random_sample`\n",
       "randint              Uniformly distributed integers in a given range\n",
       "seed                 Seed the legacy random number generator.\n",
       "==================== =========================================================\n",
       "\n",
       "==================== =========================================================\n",
       "Univariate\n",
       "distributions\n",
       "-------------------- ---------------------------------------------------------\n",
       "beta                 Beta distribution over ``[0, 1]``.\n",
       "binomial             Binomial distribution.\n",
       "chisquare            :math:`\\chi^2` distribution.\n",
       "exponential          Exponential distribution.\n",
       "f                    F (Fisher-Snedecor) distribution.\n",
       "gamma                Gamma distribution.\n",
       "geometric            Geometric distribution.\n",
       "gumbel               Gumbel distribution.\n",
       "hypergeometric       Hypergeometric distribution.\n",
       "laplace              Laplace distribution.\n",
       "logistic             Logistic distribution.\n",
       "lognormal            Log-normal distribution.\n",
       "logseries            Logarithmic series distribution.\n",
       "negative_binomial    Negative binomial distribution.\n",
       "noncentral_chisquare Non-central chi-square distribution.\n",
       "noncentral_f         Non-central F distribution.\n",
       "normal               Normal / Gaussian distribution.\n",
       "pareto               Pareto distribution.\n",
       "poisson              Poisson distribution.\n",
       "power                Power distribution.\n",
       "rayleigh             Rayleigh distribution.\n",
       "triangular           Triangular distribution.\n",
       "uniform              Uniform distribution.\n",
       "vonmises             Von Mises circular distribution.\n",
       "wald                 Wald (inverse Gaussian) distribution.\n",
       "weibull              Weibull distribution.\n",
       "zipf                 Zipf's distribution over ranked data.\n",
       "==================== =========================================================\n",
       "\n",
       "==================== ==========================================================\n",
       "Multivariate\n",
       "distributions\n",
       "-------------------- ----------------------------------------------------------\n",
       "dirichlet            Multivariate generalization of Beta distribution.\n",
       "multinomial          Multivariate generalization of the binomial distribution.\n",
       "multivariate_normal  Multivariate generalization of the normal distribution.\n",
       "==================== ==========================================================\n",
       "\n",
       "==================== =========================================================\n",
       "Standard\n",
       "distributions\n",
       "-------------------- ---------------------------------------------------------\n",
       "standard_cauchy      Standard Cauchy-Lorentz distribution.\n",
       "standard_exponential Standard exponential distribution.\n",
       "standard_gamma       Standard Gamma distribution.\n",
       "standard_normal      Standard normal distribution.\n",
       "standard_t           Standard Student's t-distribution.\n",
       "==================== =========================================================\n",
       "\n",
       "==================== =========================================================\n",
       "Internal functions\n",
       "-------------------- ---------------------------------------------------------\n",
       "get_state            Get tuple representing internal state of generator.\n",
       "set_state            Set state of generator.\n",
       "==================== ========================================================="
      ]
     },
     "metadata": {},
     "output_type": "display_data"
    }
   ],
   "source": [
    "np.random?"
   ]
  },
  {
   "cell_type": "code",
   "execution_count": 16,
   "id": "01915581-a5fb-4663-a519-d2ec19cf0109",
   "metadata": {
    "tags": []
   },
   "outputs": [],
   "source": [
    "data = np.random.randn(15,5)"
   ]
  },
  {
   "cell_type": "code",
   "execution_count": 17,
   "id": "216ef873-992d-4643-8c37-1c116b4e633b",
   "metadata": {
    "tags": []
   },
   "outputs": [
    {
     "data": {
      "text/plain": [
       "array([[ 0.93534705,  0.65404858,  0.03215577,  0.0664249 , -0.04945197],\n",
       "       [-0.32616552, -0.32619058, -0.86305382,  0.01863396, -0.18711546],\n",
       "       [ 0.49077919,  1.59477367,  0.28087063,  0.53369047,  0.58248726],\n",
       "       [-1.93207191, -0.09978927,  0.4661371 , -0.91790653, -0.55351003],\n",
       "       [ 1.23107908, -0.65663759,  0.72001663, -0.57786323,  0.05481515],\n",
       "       [-1.78940439, -0.02778095, -0.08492125, -0.65500757, -0.92868992],\n",
       "       [-1.26040388,  0.24709263,  1.2090187 ,  0.1980609 ,  0.35978369],\n",
       "       [ 1.16813754, -0.5766926 , -0.97679378, -0.61096082, -1.39733679],\n",
       "       [-1.76719695, -1.24974469,  1.72646902, -2.02600073, -0.68782447],\n",
       "       [-0.67319704, -0.67624774,  2.85591034,  1.58203663, -1.40755064],\n",
       "       [ 1.71720927,  0.44555995, -0.15537052, -0.4388035 ,  0.14597784],\n",
       "       [-0.28768079, -0.24944985,  1.14575091,  1.51888652,  0.95619913],\n",
       "       [-0.10284181,  1.61690054,  1.5640135 ,  1.48262468, -0.2173583 ],\n",
       "       [-0.10957448,  0.01829774, -0.68828869, -0.57201666, -0.14153755],\n",
       "       [-0.44127793, -0.78699212, -0.73834652, -0.14041397, -0.8043348 ]])"
      ]
     },
     "execution_count": 17,
     "metadata": {},
     "output_type": "execute_result"
    }
   ],
   "source": [
    "data"
   ]
  },
  {
   "cell_type": "code",
   "execution_count": 18,
   "id": "7f952ca9-caa7-4de2-bf72-ac7c786ae709",
   "metadata": {
    "tags": []
   },
   "outputs": [
    {
     "data": {
      "text/plain": [
       "\u001b[0;31mDocstring:\u001b[0m\n",
       "randn(d0, d1, ..., dn)\n",
       "\n",
       "Return a sample (or samples) from the \"standard normal\" distribution.\n",
       "\n",
       ".. note::\n",
       "    This is a convenience function for users porting code from Matlab,\n",
       "    and wraps `standard_normal`. That function takes a\n",
       "    tuple to specify the size of the output, which is consistent with\n",
       "    other NumPy functions like `numpy.zeros` and `numpy.ones`.\n",
       "\n",
       ".. note::\n",
       "    New code should use the\n",
       "    `~numpy.random.Generator.standard_normal`\n",
       "    method of a `~numpy.random.Generator` instance instead;\n",
       "    please see the :ref:`random-quick-start`.\n",
       "\n",
       "If positive int_like arguments are provided, `randn` generates an array\n",
       "of shape ``(d0, d1, ..., dn)``, filled\n",
       "with random floats sampled from a univariate \"normal\" (Gaussian)\n",
       "distribution of mean 0 and variance 1. A single float randomly sampled\n",
       "from the distribution is returned if no argument is provided.\n",
       "\n",
       "Parameters\n",
       "----------\n",
       "d0, d1, ..., dn : int, optional\n",
       "    The dimensions of the returned array, must be non-negative.\n",
       "    If no argument is given a single Python float is returned.\n",
       "\n",
       "Returns\n",
       "-------\n",
       "Z : ndarray or float\n",
       "    A ``(d0, d1, ..., dn)``-shaped array of floating-point samples from\n",
       "    the standard normal distribution, or a single such float if\n",
       "    no parameters were supplied.\n",
       "\n",
       "See Also\n",
       "--------\n",
       "standard_normal : Similar, but takes a tuple as its argument.\n",
       "normal : Also accepts mu and sigma arguments.\n",
       "random.Generator.standard_normal: which should be used for new code.\n",
       "\n",
       "Notes\n",
       "-----\n",
       "For random samples from the normal distribution with mean ``mu`` and\n",
       "standard deviation ``sigma``, use::\n",
       "\n",
       "    sigma * np.random.randn(...) + mu\n",
       "\n",
       "Examples\n",
       "--------\n",
       ">>> np.random.randn()\n",
       "2.1923875335537315  # random\n",
       "\n",
       "Two-by-four array of samples from the normal distribution with\n",
       "mean 3 and standard deviation 2.5:\n",
       "\n",
       ">>> 3 + 2.5 * np.random.randn(2, 4)\n",
       "array([[-4.49401501,  4.00950034, -1.81814867,  7.29718677],   # random\n",
       "       [ 0.39924804,  4.68456316,  4.99394529,  4.84057254]])  # random\n",
       "\u001b[0;31mType:\u001b[0m      builtin_function_or_method"
      ]
     },
     "metadata": {},
     "output_type": "display_data"
    }
   ],
   "source": [
    "np.random.randn?"
   ]
  },
  {
   "cell_type": "code",
   "execution_count": 19,
   "id": "763d899a-e582-4d61-a8af-5f92991ddfc6",
   "metadata": {
    "tags": []
   },
   "outputs": [
    {
     "data": {
      "text/plain": [
       "(15, 5)"
      ]
     },
     "execution_count": 19,
     "metadata": {},
     "output_type": "execute_result"
    }
   ],
   "source": [
    "data.shape"
   ]
  },
  {
   "cell_type": "code",
   "execution_count": 20,
   "id": "8d80d68d-ff54-4b71-8d9d-04faf877f4d7",
   "metadata": {
    "tags": []
   },
   "outputs": [
    {
     "data": {
      "text/plain": [
       "dtype('float64')"
      ]
     },
     "execution_count": 20,
     "metadata": {},
     "output_type": "execute_result"
    }
   ],
   "source": [
    "data.dtype"
   ]
  },
  {
   "cell_type": "code",
   "execution_count": 21,
   "id": "1b2ddb05-9698-41fd-bec2-fe5f09745b46",
   "metadata": {
    "tags": []
   },
   "outputs": [
    {
     "data": {
      "text/plain": [
       "array([[0., 0., 0., 0., 0.],\n",
       "       [0., 0., 0., 0., 0.],\n",
       "       [0., 0., 0., 0., 0.],\n",
       "       [0., 0., 0., 0., 0.],\n",
       "       [0., 0., 0., 0., 0.],\n",
       "       [0., 0., 0., 0., 0.],\n",
       "       [0., 0., 0., 0., 0.],\n",
       "       [0., 0., 0., 0., 0.],\n",
       "       [0., 0., 0., 0., 0.],\n",
       "       [0., 0., 0., 0., 0.],\n",
       "       [0., 0., 0., 0., 0.],\n",
       "       [0., 0., 0., 0., 0.],\n",
       "       [0., 0., 0., 0., 0.],\n",
       "       [0., 0., 0., 0., 0.],\n",
       "       [0., 0., 0., 0., 0.]])"
      ]
     },
     "execution_count": 21,
     "metadata": {},
     "output_type": "execute_result"
    }
   ],
   "source": [
    "np.zeros((15,5))"
   ]
  },
  {
   "cell_type": "code",
   "execution_count": 22,
   "id": "5d7f7583-6329-4a9a-9ace-d1937241d942",
   "metadata": {
    "tags": []
   },
   "outputs": [
    {
     "data": {
      "text/plain": [
       "array([[1., 1., 1., 1., 1.],\n",
       "       [1., 1., 1., 1., 1.],\n",
       "       [1., 1., 1., 1., 1.],\n",
       "       [1., 1., 1., 1., 1.],\n",
       "       [1., 1., 1., 1., 1.],\n",
       "       [1., 1., 1., 1., 1.],\n",
       "       [1., 1., 1., 1., 1.],\n",
       "       [1., 1., 1., 1., 1.],\n",
       "       [1., 1., 1., 1., 1.],\n",
       "       [1., 1., 1., 1., 1.],\n",
       "       [1., 1., 1., 1., 1.],\n",
       "       [1., 1., 1., 1., 1.],\n",
       "       [1., 1., 1., 1., 1.],\n",
       "       [1., 1., 1., 1., 1.],\n",
       "       [1., 1., 1., 1., 1.]])"
      ]
     },
     "execution_count": 22,
     "metadata": {},
     "output_type": "execute_result"
    }
   ],
   "source": [
    "np.ones((15,5))"
   ]
  },
  {
   "cell_type": "code",
   "execution_count": 23,
   "id": "919c614e-5a82-4edf-9dff-8d0a5b84c5d2",
   "metadata": {
    "tags": []
   },
   "outputs": [
    {
     "data": {
      "text/plain": [
       "array([ 0,  1,  2,  3,  4,  5,  6,  7,  8,  9, 10, 11, 12, 13, 14])"
      ]
     },
     "execution_count": 23,
     "metadata": {},
     "output_type": "execute_result"
    }
   ],
   "source": [
    "np.arange(15)"
   ]
  },
  {
   "cell_type": "markdown",
   "id": "09b30bf7-f9a6-4d6e-8d5c-82b896e098e9",
   "metadata": {},
   "source": [
    "### np.where"
   ]
  },
  {
   "cell_type": "code",
   "execution_count": 24,
   "id": "20b10e5f-e81b-4172-94b8-e64a42285b9c",
   "metadata": {
    "tags": []
   },
   "outputs": [
    {
     "data": {
      "text/plain": [
       "(array([ 2,  4,  6,  7,  8,  9,  9, 10, 11, 11, 12, 12, 12]),\n",
       " array([1, 0, 2, 0, 2, 2, 3, 0, 2, 3, 1, 2, 3]))"
      ]
     },
     "execution_count": 24,
     "metadata": {},
     "output_type": "execute_result"
    }
   ],
   "source": [
    "np.where(data>1)"
   ]
  },
  {
   "cell_type": "code",
   "execution_count": 25,
   "id": "e39be2cb-dadc-4aff-8126-42d256daf1fa",
   "metadata": {
    "tags": []
   },
   "outputs": [
    {
     "data": {
      "text/plain": [
       "\u001b[0;31mDocstring:\u001b[0m\n",
       "where(condition, [x, y], /)\n",
       "\n",
       "Return elements chosen from `x` or `y` depending on `condition`.\n",
       "\n",
       ".. note::\n",
       "    When only `condition` is provided, this function is a shorthand for\n",
       "    ``np.asarray(condition).nonzero()``. Using `nonzero` directly should be\n",
       "    preferred, as it behaves correctly for subclasses. The rest of this\n",
       "    documentation covers only the case where all three arguments are\n",
       "    provided.\n",
       "\n",
       "Parameters\n",
       "----------\n",
       "condition : array_like, bool\n",
       "    Where True, yield `x`, otherwise yield `y`.\n",
       "x, y : array_like\n",
       "    Values from which to choose. `x`, `y` and `condition` need to be\n",
       "    broadcastable to some shape.\n",
       "\n",
       "Returns\n",
       "-------\n",
       "out : ndarray\n",
       "    An array with elements from `x` where `condition` is True, and elements\n",
       "    from `y` elsewhere.\n",
       "\n",
       "See Also\n",
       "--------\n",
       "choose\n",
       "nonzero : The function that is called when x and y are omitted\n",
       "\n",
       "Notes\n",
       "-----\n",
       "If all the arrays are 1-D, `where` is equivalent to::\n",
       "\n",
       "    [xv if c else yv\n",
       "     for c, xv, yv in zip(condition, x, y)]\n",
       "\n",
       "Examples\n",
       "--------\n",
       ">>> a = np.arange(10)\n",
       ">>> a\n",
       "array([0, 1, 2, 3, 4, 5, 6, 7, 8, 9])\n",
       ">>> np.where(a < 5, a, 10*a)\n",
       "array([ 0,  1,  2,  3,  4, 50, 60, 70, 80, 90])\n",
       "\n",
       "This can be used on multidimensional arrays too:\n",
       "\n",
       ">>> np.where([[True, False], [True, True]],\n",
       "...          [[1, 2], [3, 4]],\n",
       "...          [[9, 8], [7, 6]])\n",
       "array([[1, 8],\n",
       "       [3, 4]])\n",
       "\n",
       "The shapes of x, y, and the condition are broadcast together:\n",
       "\n",
       ">>> x, y = np.ogrid[:3, :4]\n",
       ">>> np.where(x < y, x, 10 + y)  # both x and 10+y are broadcast\n",
       "array([[10,  0,  0,  0],\n",
       "       [10, 11,  1,  1],\n",
       "       [10, 11, 12,  2]])\n",
       "\n",
       ">>> a = np.array([[0, 1, 2],\n",
       "...               [0, 2, 4],\n",
       "...               [0, 3, 6]])\n",
       ">>> np.where(a < 4, a, -1)  # -1 is broadcast\n",
       "array([[ 0,  1,  2],\n",
       "       [ 0,  2, -1],\n",
       "       [ 0,  3, -1]])\n",
       "\u001b[0;31mType:\u001b[0m      function"
      ]
     },
     "metadata": {},
     "output_type": "display_data"
    }
   ],
   "source": [
    "np.where?"
   ]
  },
  {
   "cell_type": "code",
   "execution_count": 26,
   "id": "ac39453d-f22b-49e4-baca-5059cfbfc402",
   "metadata": {
    "tags": []
   },
   "outputs": [
    {
     "data": {
      "text/plain": [
       "array([[ 0.93534705,  0.65404858,  0.03215577,  0.0664249 , -0.04945197],\n",
       "       [-0.32616552, -0.32619058, -0.86305382,  0.01863396, -0.18711546],\n",
       "       [ 0.49077919, -1.        ,  0.28087063,  0.53369047,  0.58248726],\n",
       "       [-1.93207191, -0.09978927,  0.4661371 , -0.91790653, -0.55351003],\n",
       "       [-1.        , -0.65663759,  0.72001663, -0.57786323,  0.05481515],\n",
       "       [-1.78940439, -0.02778095, -0.08492125, -0.65500757, -0.92868992],\n",
       "       [-1.26040388,  0.24709263, -1.        ,  0.1980609 ,  0.35978369],\n",
       "       [-1.        , -0.5766926 , -0.97679378, -0.61096082, -1.39733679],\n",
       "       [-1.76719695, -1.24974469, -1.        , -2.02600073, -0.68782447],\n",
       "       [-0.67319704, -0.67624774, -1.        , -1.        , -1.40755064],\n",
       "       [-1.        ,  0.44555995, -0.15537052, -0.4388035 ,  0.14597784],\n",
       "       [-0.28768079, -0.24944985, -1.        , -1.        ,  0.95619913],\n",
       "       [-0.10284181, -1.        , -1.        , -1.        , -0.2173583 ],\n",
       "       [-0.10957448,  0.01829774, -0.68828869, -0.57201666, -0.14153755],\n",
       "       [-0.44127793, -0.78699212, -0.73834652, -0.14041397, -0.8043348 ]])"
      ]
     },
     "execution_count": 26,
     "metadata": {},
     "output_type": "execute_result"
    }
   ],
   "source": [
    "np.where(data>1, -1, data)"
   ]
  },
  {
   "cell_type": "code",
   "execution_count": 27,
   "id": "b9a07f5a-0e83-4042-8dae-3577a141d1d5",
   "metadata": {
    "tags": []
   },
   "outputs": [
    {
     "data": {
      "text/plain": [
       "\u001b[0;31mSignature:\u001b[0m\n",
       "\u001b[0mnp\u001b[0m\u001b[0;34m.\u001b[0m\u001b[0munique\u001b[0m\u001b[0;34m(\u001b[0m\u001b[0;34m\u001b[0m\n",
       "\u001b[0;34m\u001b[0m    \u001b[0mar\u001b[0m\u001b[0;34m,\u001b[0m\u001b[0;34m\u001b[0m\n",
       "\u001b[0;34m\u001b[0m    \u001b[0mreturn_index\u001b[0m\u001b[0;34m=\u001b[0m\u001b[0;32mFalse\u001b[0m\u001b[0;34m,\u001b[0m\u001b[0;34m\u001b[0m\n",
       "\u001b[0;34m\u001b[0m    \u001b[0mreturn_inverse\u001b[0m\u001b[0;34m=\u001b[0m\u001b[0;32mFalse\u001b[0m\u001b[0;34m,\u001b[0m\u001b[0;34m\u001b[0m\n",
       "\u001b[0;34m\u001b[0m    \u001b[0mreturn_counts\u001b[0m\u001b[0;34m=\u001b[0m\u001b[0;32mFalse\u001b[0m\u001b[0;34m,\u001b[0m\u001b[0;34m\u001b[0m\n",
       "\u001b[0;34m\u001b[0m    \u001b[0maxis\u001b[0m\u001b[0;34m=\u001b[0m\u001b[0;32mNone\u001b[0m\u001b[0;34m,\u001b[0m\u001b[0;34m\u001b[0m\n",
       "\u001b[0;34m\u001b[0m    \u001b[0;34m*\u001b[0m\u001b[0;34m,\u001b[0m\u001b[0;34m\u001b[0m\n",
       "\u001b[0;34m\u001b[0m    \u001b[0mequal_nan\u001b[0m\u001b[0;34m=\u001b[0m\u001b[0;32mTrue\u001b[0m\u001b[0;34m,\u001b[0m\u001b[0;34m\u001b[0m\n",
       "\u001b[0;34m\u001b[0m\u001b[0;34m)\u001b[0m\u001b[0;34m\u001b[0m\u001b[0;34m\u001b[0m\u001b[0m\n",
       "\u001b[0;31mDocstring:\u001b[0m\n",
       "Find the unique elements of an array.\n",
       "\n",
       "Returns the sorted unique elements of an array. There are three optional\n",
       "outputs in addition to the unique elements:\n",
       "\n",
       "* the indices of the input array that give the unique values\n",
       "* the indices of the unique array that reconstruct the input array\n",
       "* the number of times each unique value comes up in the input array\n",
       "\n",
       "Parameters\n",
       "----------\n",
       "ar : array_like\n",
       "    Input array. Unless `axis` is specified, this will be flattened if it\n",
       "    is not already 1-D.\n",
       "return_index : bool, optional\n",
       "    If True, also return the indices of `ar` (along the specified axis,\n",
       "    if provided, or in the flattened array) that result in the unique array.\n",
       "return_inverse : bool, optional\n",
       "    If True, also return the indices of the unique array (for the specified\n",
       "    axis, if provided) that can be used to reconstruct `ar`.\n",
       "return_counts : bool, optional\n",
       "    If True, also return the number of times each unique item appears\n",
       "    in `ar`.\n",
       "axis : int or None, optional\n",
       "    The axis to operate on. If None, `ar` will be flattened. If an integer,\n",
       "    the subarrays indexed by the given axis will be flattened and treated\n",
       "    as the elements of a 1-D array with the dimension of the given axis,\n",
       "    see the notes for more details.  Object arrays or structured arrays\n",
       "    that contain objects are not supported if the `axis` kwarg is used. The\n",
       "    default is None.\n",
       "\n",
       "    .. versionadded:: 1.13.0\n",
       "\n",
       "equal_nan : bool, optional\n",
       "    If True, collapses multiple NaN values in the return array into one.\n",
       "\n",
       "    .. versionadded:: 1.24\n",
       "\n",
       "Returns\n",
       "-------\n",
       "unique : ndarray\n",
       "    The sorted unique values.\n",
       "unique_indices : ndarray, optional\n",
       "    The indices of the first occurrences of the unique values in the\n",
       "    original array. Only provided if `return_index` is True.\n",
       "unique_inverse : ndarray, optional\n",
       "    The indices to reconstruct the original array from the\n",
       "    unique array. Only provided if `return_inverse` is True.\n",
       "unique_counts : ndarray, optional\n",
       "    The number of times each of the unique values comes up in the\n",
       "    original array. Only provided if `return_counts` is True.\n",
       "\n",
       "    .. versionadded:: 1.9.0\n",
       "\n",
       "See Also\n",
       "--------\n",
       "numpy.lib.arraysetops : Module with a number of other functions for\n",
       "                        performing set operations on arrays.\n",
       "repeat : Repeat elements of an array.\n",
       "\n",
       "Notes\n",
       "-----\n",
       "When an axis is specified the subarrays indexed by the axis are sorted.\n",
       "This is done by making the specified axis the first dimension of the array\n",
       "(move the axis to the first dimension to keep the order of the other axes)\n",
       "and then flattening the subarrays in C order. The flattened subarrays are\n",
       "then viewed as a structured type with each element given a label, with the\n",
       "effect that we end up with a 1-D array of structured types that can be\n",
       "treated in the same way as any other 1-D array. The result is that the\n",
       "flattened subarrays are sorted in lexicographic order starting with the\n",
       "first element.\n",
       "\n",
       ".. versionchanged: NumPy 1.21\n",
       "    If nan values are in the input array, a single nan is put\n",
       "    to the end of the sorted unique values.\n",
       "\n",
       "    Also for complex arrays all NaN values are considered equivalent\n",
       "    (no matter whether the NaN is in the real or imaginary part).\n",
       "    As the representant for the returned array the smallest one in the\n",
       "    lexicographical order is chosen - see np.sort for how the lexicographical\n",
       "    order is defined for complex arrays.\n",
       "\n",
       "Examples\n",
       "--------\n",
       ">>> np.unique([1, 1, 2, 2, 3, 3])\n",
       "array([1, 2, 3])\n",
       ">>> a = np.array([[1, 1], [2, 3]])\n",
       ">>> np.unique(a)\n",
       "array([1, 2, 3])\n",
       "\n",
       "Return the unique rows of a 2D array\n",
       "\n",
       ">>> a = np.array([[1, 0, 0], [1, 0, 0], [2, 3, 4]])\n",
       ">>> np.unique(a, axis=0)\n",
       "array([[1, 0, 0], [2, 3, 4]])\n",
       "\n",
       "Return the indices of the original array that give the unique values:\n",
       "\n",
       ">>> a = np.array(['a', 'b', 'b', 'c', 'a'])\n",
       ">>> u, indices = np.unique(a, return_index=True)\n",
       ">>> u\n",
       "array(['a', 'b', 'c'], dtype='<U1')\n",
       ">>> indices\n",
       "array([0, 1, 3])\n",
       ">>> a[indices]\n",
       "array(['a', 'b', 'c'], dtype='<U1')\n",
       "\n",
       "Reconstruct the input array from the unique values and inverse:\n",
       "\n",
       ">>> a = np.array([1, 2, 6, 4, 2, 3, 2])\n",
       ">>> u, indices = np.unique(a, return_inverse=True)\n",
       ">>> u\n",
       "array([1, 2, 3, 4, 6])\n",
       ">>> indices\n",
       "array([0, 1, 4, 3, 1, 2, 1])\n",
       ">>> u[indices]\n",
       "array([1, 2, 6, 4, 2, 3, 2])\n",
       "\n",
       "Reconstruct the input values from the unique values and counts:\n",
       "\n",
       ">>> a = np.array([1, 2, 6, 4, 2, 3, 2])\n",
       ">>> values, counts = np.unique(a, return_counts=True)\n",
       ">>> values\n",
       "array([1, 2, 3, 4, 6])\n",
       ">>> counts\n",
       "array([1, 3, 1, 1, 1])\n",
       ">>> np.repeat(values, counts)\n",
       "array([1, 2, 2, 2, 3, 4, 6])    # original order not preserved\n",
       "\u001b[0;31mFile:\u001b[0m      ~/.local/share/virtualenvs/cs5293sp23-rt2e3u6p/lib/python3.11/site-packages/numpy/lib/arraysetops.py\n",
       "\u001b[0;31mType:\u001b[0m      function"
      ]
     },
     "metadata": {},
     "output_type": "display_data"
    }
   ],
   "source": [
    "np.unique?"
   ]
  },
  {
   "cell_type": "code",
   "execution_count": 29,
   "id": "21124b4d-f5b7-48ab-8139-54e5d37a31f0",
   "metadata": {
    "tags": []
   },
   "outputs": [
    {
     "data": {
      "text/plain": [
       "array([ 1,  3,  5,  6,  9, 11, 12])"
      ]
     },
     "execution_count": 29,
     "metadata": {},
     "output_type": "execute_result"
    }
   ],
   "source": [
    "bday_month = [5, 3, 1, 6, 6, 9, 11, 12, 12, 12, 12, 11]\n",
    "bday_arr = np.array(bday_month)\n",
    "\n",
    "np.unique(bday_arr)"
   ]
  },
  {
   "cell_type": "code",
   "execution_count": 30,
   "id": "3859c209-a6dc-4c08-ae48-f7428e60e2b8",
   "metadata": {
    "tags": []
   },
   "outputs": [],
   "source": [
    "bday_arr.sort()"
   ]
  },
  {
   "cell_type": "code",
   "execution_count": 32,
   "id": "b1010912-6637-46ee-9d99-6d5ba012c3a8",
   "metadata": {
    "tags": []
   },
   "outputs": [
    {
     "data": {
      "text/plain": [
       "array([ 1,  3,  5,  6,  6,  9, 11, 11, 12, 12, 12, 12])"
      ]
     },
     "execution_count": 32,
     "metadata": {},
     "output_type": "execute_result"
    }
   ],
   "source": [
    "bday_arr"
   ]
  },
  {
   "cell_type": "markdown",
   "id": "cd0731fb-e9b5-4328-a7e9-12af965a4cf8",
   "metadata": {},
   "source": [
    "### slicing and indexing"
   ]
  },
  {
   "cell_type": "code",
   "execution_count": 33,
   "id": "f7895760-267e-4e12-a3c5-38c39cc2cdfb",
   "metadata": {
    "tags": []
   },
   "outputs": [
    {
     "data": {
      "text/plain": [
       "array([0, 1, 2, 3, 4, 5, 6, 7, 8, 9])"
      ]
     },
     "execution_count": 33,
     "metadata": {},
     "output_type": "execute_result"
    }
   ],
   "source": [
    "dim1 = np.arange(10)\n",
    "dim1"
   ]
  },
  {
   "cell_type": "code",
   "execution_count": 34,
   "id": "535c39f1-633b-4d48-9016-1bc29f012fe4",
   "metadata": {
    "tags": []
   },
   "outputs": [],
   "source": [
    "dim2 = np.random.randn(10,2)"
   ]
  },
  {
   "cell_type": "code",
   "execution_count": 35,
   "id": "a4b50dfe-973f-4e3a-b886-3a15ca3962ef",
   "metadata": {
    "tags": []
   },
   "outputs": [
    {
     "data": {
      "text/plain": [
       "array([[-1.67659875, -1.18580005],\n",
       "       [-0.3017179 , -0.17707462],\n",
       "       [-0.15078069, -0.31791762],\n",
       "       [-0.292092  ,  1.7317632 ],\n",
       "       [-0.72802019, -0.19098222],\n",
       "       [-0.36902527, -0.6168025 ],\n",
       "       [ 0.02042248,  0.63793039],\n",
       "       [ 0.77261417,  0.01005123],\n",
       "       [ 0.41914261, -0.22160991],\n",
       "       [-0.39588564,  1.63866607]])"
      ]
     },
     "execution_count": 35,
     "metadata": {},
     "output_type": "execute_result"
    }
   ],
   "source": [
    "dim2"
   ]
  },
  {
   "cell_type": "code",
   "execution_count": 36,
   "id": "c6104d66-4103-4919-8d81-8da427c2d010",
   "metadata": {
    "tags": []
   },
   "outputs": [],
   "source": [
    "dim3 = np.random.randint(20, size=(2,4,6))"
   ]
  },
  {
   "cell_type": "code",
   "execution_count": 37,
   "id": "88815c34-86eb-4431-bccd-740dd31853cc",
   "metadata": {
    "tags": []
   },
   "outputs": [
    {
     "data": {
      "text/plain": [
       "array([[[ 5,  3, 19,  7, 19, 17],\n",
       "        [12,  1,  4,  5,  4, 16],\n",
       "        [ 5,  8,  3,  2, 19, 13],\n",
       "        [ 4,  4,  2, 11,  3, 12]],\n",
       "\n",
       "       [[ 4, 15, 10,  4, 11, 18],\n",
       "        [ 7,  9,  3,  6, 14,  6],\n",
       "        [12,  7,  8, 18,  2,  3],\n",
       "        [12, 17, 13, 10, 19, 13]]])"
      ]
     },
     "execution_count": 37,
     "metadata": {},
     "output_type": "execute_result"
    }
   ],
   "source": [
    "dim3"
   ]
  },
  {
   "cell_type": "code",
   "execution_count": 38,
   "id": "8afd41cb-5ed6-47a8-b759-942f0c453948",
   "metadata": {
    "tags": []
   },
   "outputs": [
    {
     "data": {
      "text/plain": [
       "0"
      ]
     },
     "execution_count": 38,
     "metadata": {},
     "output_type": "execute_result"
    }
   ],
   "source": [
    "dim1[0]"
   ]
  },
  {
   "cell_type": "code",
   "execution_count": 40,
   "id": "00db4b41-4d07-4e4a-b1b2-59d636c3447f",
   "metadata": {
    "tags": []
   },
   "outputs": [
    {
     "data": {
      "text/plain": [
       "-1.6765987520674541"
      ]
     },
     "execution_count": 40,
     "metadata": {},
     "output_type": "execute_result"
    }
   ],
   "source": [
    "dim2[0,0]"
   ]
  },
  {
   "cell_type": "code",
   "execution_count": 42,
   "id": "0be8fe02-92aa-4a0d-9cce-7786fbc3735b",
   "metadata": {
    "tags": []
   },
   "outputs": [
    {
     "data": {
      "text/plain": [
       "array([10,  3,  8, 13])"
      ]
     },
     "execution_count": 42,
     "metadata": {},
     "output_type": "execute_result"
    }
   ],
   "source": [
    "dim3[1,:,2]"
   ]
  },
  {
   "cell_type": "code",
   "execution_count": 43,
   "id": "806584d8-45a2-41b8-9938-61301097d622",
   "metadata": {
    "tags": []
   },
   "outputs": [
    {
     "data": {
      "text/plain": [
       "array([0, 1, 2, 3, 4, 5, 6, 7, 8, 9])"
      ]
     },
     "execution_count": 43,
     "metadata": {},
     "output_type": "execute_result"
    }
   ],
   "source": [
    "dim1"
   ]
  },
  {
   "cell_type": "code",
   "execution_count": 44,
   "id": "cfc9140d-d76a-44ad-9c51-b1ac8db730ab",
   "metadata": {
    "tags": []
   },
   "outputs": [
    {
     "data": {
      "text/plain": [
       "9"
      ]
     },
     "execution_count": 44,
     "metadata": {},
     "output_type": "execute_result"
    }
   ],
   "source": [
    "dim1[9]"
   ]
  },
  {
   "cell_type": "code",
   "execution_count": 46,
   "id": "e63adbe8-457f-4feb-9cc2-36aacdac161b",
   "metadata": {
    "tags": []
   },
   "outputs": [
    {
     "data": {
      "text/plain": [
       "6"
      ]
     },
     "execution_count": 46,
     "metadata": {},
     "output_type": "execute_result"
    }
   ],
   "source": [
    "dim1[-4]"
   ]
  },
  {
   "cell_type": "code",
   "execution_count": 47,
   "id": "6f7db1c7-d802-46cc-a17f-6d149381adbb",
   "metadata": {
    "tags": []
   },
   "outputs": [
    {
     "data": {
      "text/plain": [
       "-1.6765987520674541"
      ]
     },
     "execution_count": 47,
     "metadata": {},
     "output_type": "execute_result"
    }
   ],
   "source": [
    "dim2[0,-2]"
   ]
  },
  {
   "cell_type": "code",
   "execution_count": 48,
   "id": "72556e4b-6f68-4fed-a154-56e66f7ca967",
   "metadata": {
    "tags": []
   },
   "outputs": [
    {
     "data": {
      "text/plain": [
       "array([2, 3, 4, 5, 6])"
      ]
     },
     "execution_count": 48,
     "metadata": {},
     "output_type": "execute_result"
    }
   ],
   "source": [
    "dim1[2:7]"
   ]
  },
  {
   "cell_type": "code",
   "execution_count": 49,
   "id": "7c969d23-f536-465d-bd50-407f0dcf080a",
   "metadata": {
    "tags": []
   },
   "outputs": [
    {
     "data": {
      "text/plain": [
       "array([0, 1, 2, 3, 4, 5, 6, 7, 8, 9])"
      ]
     },
     "execution_count": 49,
     "metadata": {},
     "output_type": "execute_result"
    }
   ],
   "source": [
    "dim1"
   ]
  },
  {
   "cell_type": "code",
   "execution_count": 50,
   "id": "e49c1ad4-82c0-4d9e-bd74-6437a9046bba",
   "metadata": {
    "tags": []
   },
   "outputs": [],
   "source": [
    "new_arr = dim2[5:8].copy()"
   ]
  },
  {
   "cell_type": "code",
   "execution_count": 51,
   "id": "0155a360-fb51-4ecc-afc3-17e9d552cd9c",
   "metadata": {
    "tags": []
   },
   "outputs": [
    {
     "data": {
      "text/plain": [
       "array([[-0.36902527, -0.6168025 ],\n",
       "       [ 0.02042248,  0.63793039],\n",
       "       [ 0.77261417,  0.01005123]])"
      ]
     },
     "execution_count": 51,
     "metadata": {},
     "output_type": "execute_result"
    }
   ],
   "source": [
    "new_arr"
   ]
  },
  {
   "cell_type": "code",
   "execution_count": 52,
   "id": "dcde21f8-2f6f-4589-b236-9bdf5992fae2",
   "metadata": {
    "tags": []
   },
   "outputs": [
    {
     "data": {
      "text/plain": [
       "array([[0, 1, 2, 3, 4],\n",
       "       [5, 6, 7, 8, 9]])"
      ]
     },
     "execution_count": 52,
     "metadata": {},
     "output_type": "execute_result"
    }
   ],
   "source": [
    "dim1.reshape(2,5)"
   ]
  },
  {
   "cell_type": "code",
   "execution_count": 53,
   "id": "485b6edc-f6f5-4429-88c2-9847c4883253",
   "metadata": {
    "tags": []
   },
   "outputs": [
    {
     "data": {
      "text/plain": [
       "array([[-1.67659875, -0.3017179 , -0.15078069, -0.292092  , -0.72802019,\n",
       "        -0.36902527,  0.02042248,  0.77261417,  0.41914261, -0.39588564],\n",
       "       [-1.18580005, -0.17707462, -0.31791762,  1.7317632 , -0.19098222,\n",
       "        -0.6168025 ,  0.63793039,  0.01005123, -0.22160991,  1.63866607]])"
      ]
     },
     "execution_count": 53,
     "metadata": {},
     "output_type": "execute_result"
    }
   ],
   "source": [
    "dim2.T"
   ]
  },
  {
   "cell_type": "code",
   "execution_count": 54,
   "id": "181e68a0-cdab-4b3e-8198-27ca86feb5ee",
   "metadata": {
    "tags": []
   },
   "outputs": [
    {
     "data": {
      "text/plain": [
       "(10, 2)"
      ]
     },
     "execution_count": 54,
     "metadata": {},
     "output_type": "execute_result"
    }
   ],
   "source": [
    "dim2.shape"
   ]
  },
  {
   "cell_type": "markdown",
   "id": "8b53b684-a3e2-49f6-b90d-3826b70ffdce",
   "metadata": {},
   "source": [
    "## math functions"
   ]
  },
  {
   "cell_type": "code",
   "execution_count": 55,
   "id": "5898fdce-fa60-4409-a338-db2d4bc0c999",
   "metadata": {
    "tags": []
   },
   "outputs": [],
   "source": [
    "mat1 = np.random.randint(10000, size=(1000,1000))\n",
    "mat2 = np.random.randint(10000, size=(1000,1000))"
   ]
  },
  {
   "cell_type": "code",
   "execution_count": 56,
   "id": "178a52d0-f607-4dad-b182-8d716fe98af9",
   "metadata": {
    "tags": []
   },
   "outputs": [
    {
     "data": {
      "text/plain": [
       "array([[7430, 4903, 3225, ..., 8179, 4148, 2193],\n",
       "       [ 898, 3639,  498, ..., 7453, 6886, 9203],\n",
       "       [9943, 9040, 1080, ..., 1121, 3356, 1117],\n",
       "       ...,\n",
       "       [2447, 8824, 8938, ..., 8602, 2822, 4273],\n",
       "       [8333, 6242, 3534, ..., 2532, 8262,  257],\n",
       "       [4889, 6092, 4636, ..., 7731, 1048, 2637]])"
      ]
     },
     "execution_count": 56,
     "metadata": {},
     "output_type": "execute_result"
    }
   ],
   "source": [
    "mat1"
   ]
  },
  {
   "cell_type": "code",
   "execution_count": 57,
   "id": "e4fb9b64-893d-4604-8e6c-d069f2cc8b8a",
   "metadata": {
    "tags": []
   },
   "outputs": [
    {
     "data": {
      "text/plain": [
       "array([[1485, 2807, 2831, ..., 5940,  791, 1972],\n",
       "       [6658, 1930, 4144, ..., 5916, 5919,  256],\n",
       "       [8996, 3423, 1789, ..., 4050, 7100,   88],\n",
       "       ...,\n",
       "       [6475,  982, 4808, ..., 3452, 2854, 5061],\n",
       "       [2980, 5402, 4655, ..., 2543, 9025,  307],\n",
       "       [ 823, 8672, 9492, ...,  916, 3996, 8273]])"
      ]
     },
     "execution_count": 57,
     "metadata": {},
     "output_type": "execute_result"
    }
   ],
   "source": [
    "mat2"
   ]
  },
  {
   "cell_type": "code",
   "execution_count": 58,
   "id": "0650efd4-caf7-4595-9f94-63ffe6771e03",
   "metadata": {
    "tags": []
   },
   "outputs": [
    {
     "data": {
      "text/plain": [
       "array([[11033550, 13762721,  9129975, ..., 48583260,  3281068,  4324596],\n",
       "       [ 5978884,  7023270,  2063712, ..., 44091948, 40758234,  2355968],\n",
       "       [89447228, 30943920,  1932120, ...,  4540050, 23827600,    98296],\n",
       "       ...,\n",
       "       [15844325,  8665168, 42973904, ..., 29694104,  8053988, 21625653],\n",
       "       [24832340, 33719284, 16450770, ...,  6438876, 74564550,    78899],\n",
       "       [ 4023647, 52829824, 44004912, ...,  7081596,  4187808, 21815901]])"
      ]
     },
     "execution_count": 58,
     "metadata": {},
     "output_type": "execute_result"
    }
   ],
   "source": [
    "mat1*mat2"
   ]
  },
  {
   "cell_type": "code",
   "execution_count": 59,
   "id": "a5371922-daaf-4c99-9dd5-14a4592f6ce1",
   "metadata": {
    "tags": []
   },
   "outputs": [
    {
     "data": {
      "text/plain": [
       "array([[ 5945,  2096,   394, ...,  2239,  3357,   221],\n",
       "       [-5760,  1709, -3646, ...,  1537,   967,  8947],\n",
       "       [  947,  5617,  -709, ..., -2929, -3744,  1029],\n",
       "       ...,\n",
       "       [-4028,  7842,  4130, ...,  5150,   -32,  -788],\n",
       "       [ 5353,   840, -1121, ...,   -11,  -763,   -50],\n",
       "       [ 4066, -2580, -4856, ...,  6815, -2948, -5636]])"
      ]
     },
     "execution_count": 59,
     "metadata": {},
     "output_type": "execute_result"
    }
   ],
   "source": [
    "mat1-mat2"
   ]
  },
  {
   "cell_type": "code",
   "execution_count": 60,
   "id": "a21af551-fa9c-47ec-98bd-e49ee4c8fbca",
   "metadata": {
    "tags": []
   },
   "outputs": [
    {
     "data": {
      "text/plain": [
       "array([[ 8915,  7710,  6056, ..., 14119,  4939,  4165],\n",
       "       [ 7556,  5569,  4642, ..., 13369, 12805,  9459],\n",
       "       [18939, 12463,  2869, ...,  5171, 10456,  1205],\n",
       "       ...,\n",
       "       [ 8922,  9806, 13746, ..., 12054,  5676,  9334],\n",
       "       [11313, 11644,  8189, ...,  5075, 17287,   564],\n",
       "       [ 5712, 14764, 14128, ...,  8647,  5044, 10910]])"
      ]
     },
     "execution_count": 60,
     "metadata": {},
     "output_type": "execute_result"
    }
   ],
   "source": [
    "mat1+mat2"
   ]
  },
  {
   "cell_type": "code",
   "execution_count": 61,
   "id": "fb1059cf-1850-4fba-b522-fa6dfa9934e6",
   "metadata": {
    "tags": []
   },
   "outputs": [
    {
     "data": {
      "text/plain": [
       "4996150429"
      ]
     },
     "execution_count": 61,
     "metadata": {},
     "output_type": "execute_result"
    }
   ],
   "source": [
    "np.sum(mat1)"
   ]
  },
  {
   "cell_type": "code",
   "execution_count": 62,
   "id": "4bd87538-010f-429d-b86d-740344891080",
   "metadata": {
    "tags": []
   },
   "outputs": [
    {
     "data": {
      "text/plain": [
       "array([[25016486872, 25342095540, 24894310843, ..., 25322188268,\n",
       "        24654889229, 25029155849],\n",
       "       [25647453133, 26188484856, 25273862515, ..., 25509531529,\n",
       "        24757958891, 25070104327],\n",
       "       [24803698054, 25051894649, 24460287781, ..., 24920696146,\n",
       "        23963222202, 24426839843],\n",
       "       ...,\n",
       "       [25358609410, 25928643478, 24663242961, ..., 25117156698,\n",
       "        25238335949, 25233736674],\n",
       "       [26156040310, 25813671538, 25706252302, ..., 26024772793,\n",
       "        25956788249, 25515499749],\n",
       "       [25275915417, 25636991260, 24681166806, ..., 24869087611,\n",
       "        24435196016, 24846644367]])"
      ]
     },
     "execution_count": 62,
     "metadata": {},
     "output_type": "execute_result"
    }
   ],
   "source": [
    "mat1.dot(mat2)"
   ]
  },
  {
   "cell_type": "code",
   "execution_count": 64,
   "id": "a4d50fc3-d36f-4ebb-bb39-e746b18d001c",
   "metadata": {
    "tags": []
   },
   "outputs": [
    {
     "name": "stdout",
     "output_type": "stream",
     "text": [
      "1.33 s ± 29.8 ms per loop (mean ± std. dev. of 7 runs, 1 loop each)\n"
     ]
    }
   ],
   "source": [
    "%timeit mat1.dot(mat2)"
   ]
  },
  {
   "cell_type": "code",
   "execution_count": 65,
   "id": "b5773c9e-ab75-4f83-8891-4b3e087fb18e",
   "metadata": {
    "tags": []
   },
   "outputs": [
    {
     "name": "stderr",
     "output_type": "stream",
     "text": [
      "/tmp/ipykernel_1490/2503624607.py:1: RuntimeWarning: divide by zero encountered in remainder\n",
      "  np.remainder(mat1, mat2)\n"
     ]
    },
    {
     "data": {
      "text/plain": [
       "array([[   5, 2096,  394, ..., 2239,  193,  221],\n",
       "       [ 898, 1709,  498, ..., 1537,  967,  243],\n",
       "       [ 947, 2194, 1080, ..., 1121, 3356,   61],\n",
       "       ...,\n",
       "       [2447,  968, 4130, ..., 1698, 2822, 4273],\n",
       "       [2373,  840, 3534, ..., 2532, 8262,  257],\n",
       "       [ 774, 6092, 4636, ...,  403, 1048, 2637]])"
      ]
     },
     "execution_count": 65,
     "metadata": {},
     "output_type": "execute_result"
    }
   ],
   "source": [
    "np.remainder(mat1, mat2)"
   ]
  },
  {
   "cell_type": "code",
   "execution_count": 66,
   "id": "f8070aa5-04a6-4afb-8937-b6a148715efb",
   "metadata": {
    "tags": []
   },
   "outputs": [
    {
     "name": "stderr",
     "output_type": "stream",
     "text": [
      "/tmp/ipykernel_1490/616303396.py:1: RuntimeWarning: divide by zero encountered in remainder\n",
      "  mat1%mat2\n"
     ]
    },
    {
     "data": {
      "text/plain": [
       "array([[   5, 2096,  394, ..., 2239,  193,  221],\n",
       "       [ 898, 1709,  498, ..., 1537,  967,  243],\n",
       "       [ 947, 2194, 1080, ..., 1121, 3356,   61],\n",
       "       ...,\n",
       "       [2447,  968, 4130, ..., 1698, 2822, 4273],\n",
       "       [2373,  840, 3534, ..., 2532, 8262,  257],\n",
       "       [ 774, 6092, 4636, ...,  403, 1048, 2637]])"
      ]
     },
     "execution_count": 66,
     "metadata": {},
     "output_type": "execute_result"
    }
   ],
   "source": [
    "mat1%mat2"
   ]
  },
  {
   "cell_type": "markdown",
   "id": "3240427e-7bb9-4fb3-9835-d00488fb390e",
   "metadata": {},
   "source": [
    "### example graphs"
   ]
  },
  {
   "cell_type": "code",
   "execution_count": 67,
   "id": "2680e82a-a5e7-48b7-843c-bd0f9675fae8",
   "metadata": {
    "tags": []
   },
   "outputs": [],
   "source": [
    "import matplotlib.pyplot as plt"
   ]
  },
  {
   "cell_type": "code",
   "execution_count": 68,
   "id": "b7e19001-3f41-4d11-8f0a-4f19662b72bd",
   "metadata": {
    "tags": []
   },
   "outputs": [],
   "source": [
    "x = np.arange(1, 11)\n",
    "y = x*x"
   ]
  },
  {
   "cell_type": "code",
   "execution_count": 69,
   "id": "52ed774f-3616-416e-b616-2da67ea7df99",
   "metadata": {
    "tags": []
   },
   "outputs": [
    {
     "data": {
      "image/png": "[encoded data removed]",
      "text/plain": [
       "<Figure size 640x480 with 1 Axes>"
      ]
     },
     "metadata": {},
     "output_type": "display_data"
    }
   ],
   "source": [
    "plt.title(\"line graph\")\n",
    "plt.xlabel(\"x axis\")\n",
    "plt.ylabel(\"y axis\")\n",
    "\n",
    "plt.plot(x, y, color = 'blue')\n",
    "plt.show()"
   ]
  },
  {
   "cell_type": "code",
   "execution_count": 70,
   "id": "4cd71c6e-6b6a-4c2e-b9e3-2b7588b81858",
   "metadata": {
    "tags": []
   },
   "outputs": [],
   "source": [
    "n = np.random.randn(100)"
   ]
  },
  {
   "cell_type": "code",
   "execution_count": 72,
   "id": "5e087ada-0826-4bed-be0a-dc6d479f7ffe",
   "metadata": {
    "tags": []
   },
   "outputs": [
    {
     "data": {
      "image/png": "[encoded data removed]",
      "text/plain": [
       "<Figure size 640x480 with 1 Axes>"
      ]
     },
     "metadata": {},
     "output_type": "display_data"
    }
   ],
   "source": [
    "plt.plot(n, color='blue')\n",
    "plt.show()"
   ]
  },
  {
   "cell_type": "code",
   "execution_count": 74,
   "id": "de44698e-33fe-47d4-8573-3b0b13dc35b7",
   "metadata": {
    "tags": []
   },
   "outputs": [
    {
     "data": {
      "image/png": "[encoded data removed]",
      "text/plain": [
       "<Figure size 640x480 with 1 Axes>"
      ]
     },
     "metadata": {},
     "output_type": "display_data"
    }
   ],
   "source": [
    "fig = plt.figure()\n",
    "\n",
    "plt.plot(np.exp(x), color='m')\n",
    "plt.show()\n",
    "\n",
    "fig.savefig('temp.png')"
   ]
  },
  {
   "cell_type": "code",
   "execution_count": null,
   "id": "6bf0fa6a-5aca-4166-abc8-201cadd01782",
   "metadata": {},
   "outputs": [],
   "source": [
    "fig = plt.figure()\n",
    "\n",
    "subplot1 = fig.add_subplot(3,1,1)\n",
    "subplot1.plot(np.tan(x), color='c')\n",
    "\n",
    "subplot2 = fig.add_subplot(3,1,2)\n",
    "subplot2.plot(np.cos(x), color='g')\n",
    "\n",
    "subplot3 = fig.add_subplot(3,1,3)\n",
    "subplot3.text(0.3, 0.5, '3rd Subplot')\n",
    "\n",
    "fig.suptitle('subplot examples')\n",
    "plt.show()\n",
    "\n",
    "fig.savefig('temp1.png')"
   ]
  }
 ],
 "metadata": {
  "kernelspec": {
   "display_name": "Python 3 (ipykernel)",
   "language": "python",
   "name": "python3"
  },
  "language_info": {
   "codemirror_mode": {
    "name": "ipython",
    "version": 3
   },
   "file_extension": ".py",
   "mimetype": "text/x-python",
   "name": "python",
   "nbconvert_exporter": "python",
   "pygments_lexer": "ipython3",
   "version": "3.11.1"
  }
 },
 "nbformat": 4,
 "nbformat_minor": 5
}
