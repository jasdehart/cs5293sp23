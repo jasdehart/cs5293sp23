{
 "cells": [
  {
   "cell_type": "markdown",
   "id": "5d8f04b8-1fc3-4cf0-8d82-9dbfb60a778f",
   "metadata": {},
   "source": [
    "# Spacy Tutorial"
   ]
  },
  {
   "cell_type": "code",
   "execution_count": 2,
   "id": "22d5267c-b072-4a7f-8bbb-8bc108e1961a",
   "metadata": {},
   "outputs": [],
   "source": [
    "import spacy"
   ]
  },
  {
   "cell_type": "code",
   "execution_count": 3,
   "id": "bdda9275-1330-4af1-983f-37208fea2c90",
   "metadata": {},
   "outputs": [
    {
     "name": "stdout",
     "output_type": "stream",
     "text": [
      "\u001b[39m\u001b[1mInstalling \u001b[32m\u001b[1mspacy\u001b[39m\u001b[22m...\u001b[39m\u001b[22m\n",
      "\u001b[K\u001b[39m\u001b[1mAdding\u001b[39m\u001b[22m \u001b[32m\u001b[1mspacy\u001b[39m\u001b[22m \u001b[39m\u001b[1mto Pipfile's\u001b[39m\u001b[22m \u001b[33m\u001b[1m[packages]\u001b[39m\u001b[22m\u001b[39m\u001b[1m...\u001b[39m\u001b[22m\n",
      "\u001b[K\u001b[?25h✔ Installation Succeeded\u001b[0m \n",
      "\u001b[39m\u001b[1mInstalling dependencies from Pipfile.lock (110078)...\u001b[39m\u001b[22m\n",
      "/home/christangrant/.local/lib/python3.9/site-packages/pipenv/patched/notpip/_internal/operations/prepare.py:218: PipDeprecationWarning: DEPRECATION: A future pip version will change local packages to be built in-place without first copying to a temporary directory. We recommend you use --use-feature=in-tree-build to test your packages with this new behavior before it becomes the default.\n",
      " pip 21.3 will remove support for this functionality. You can find discussion regarding this at https://github.com/pypa/pip/issues/7555.\n",
      "  deprecated(\n",
      "  🐍   \u001b[32m\u001b[1m▉\u001b[39m\u001b[22m\u001b[32m\u001b[1m▉\u001b[39m\u001b[22m\u001b[32m\u001b[1m▉\u001b[39m\u001b[22m\u001b[32m\u001b[1m▉\u001b[39m\u001b[22m\u001b[32m\u001b[1m▉\u001b[39m\u001b[22m\u001b[32m\u001b[1m▉\u001b[39m\u001b[22m\u001b[32m\u001b[1m▉\u001b[39m\u001b[22m\u001b[32m\u001b[1m▉\u001b[39m\u001b[22m\u001b[32m\u001b[1m▉\u001b[39m\u001b[22m\u001b[32m\u001b[1m▉\u001b[39m\u001b[22m\u001b[32m\u001b[1m▉\u001b[39m\u001b[22m\u001b[32m\u001b[1m▉\u001b[39m\u001b[22m\u001b[32m\u001b[1m▉\u001b[39m\u001b[22m\u001b[32m\u001b[1m▉\u001b[39m\u001b[22m\u001b[32m\u001b[1m▉\u001b[39m\u001b[22m\u001b[32m\u001b[1m▉\u001b[39m\u001b[22m\u001b[32m\u001b[1m▉\u001b[39m\u001b[22m\u001b[32m\u001b[1m▉\u001b[39m\u001b[22m\u001b[32m\u001b[1m▉\u001b[39m\u001b[22m\u001b[32m\u001b[1m▉\u001b[39m\u001b[22m\u001b[32m\u001b[1m▉\u001b[39m\u001b[22m\u001b[32m\u001b[1m▉\u001b[39m\u001b[22m\u001b[32m\u001b[1m▉\u001b[39m\u001b[22m\u001b[32m\u001b[1m▉\u001b[39m\u001b[22m\u001b[32m\u001b[1m▉\u001b[39m\u001b[22m\u001b[32m\u001b[1m▉\u001b[39m\u001b[22m\u001b[32m\u001b[1m▉\u001b[39m\u001b[22m\u001b[32m\u001b[1m▉\u001b[39m\u001b[22m\u001b[32m\u001b[1m▉\u001b[39m\u001b[22m\u001b[32m\u001b[1m▉\u001b[39m\u001b[22m\u001b[32m\u001b[1m▉\u001b[39m\u001b[22m\u001b[32m\u001b[1m▉\u001b[39m\u001b[22m 2/2 — \u001b[30m\u001b[22m00:00:00\u001b[39m\u001b[22m:00:00\u001b[39m\u001b[22m:00:00\u001b[39m\u001b[22m\n",
      "\u001b[0m"
     ]
    }
   ],
   "source": [
    "! pipenv install spacy"
   ]
  },
  {
   "cell_type": "code",
   "execution_count": 4,
   "id": "8e7992ca-a8ff-4a93-9c7f-a7905dcc818f",
   "metadata": {},
   "outputs": [
    {
     "data": {
      "text/plain": [
       "{'spacy_version': '3.2.2',\n",
       " 'location': '/home/christangrant/.local/share/virtualenvs/cs5293sp22-WqRDOD2N/lib/python3.10/site-packages/spacy',\n",
       " 'platform': 'Linux-5.13.0-1015-gcp-x86_64-with-glibc2.34',\n",
       " 'python_version': '3.10.2',\n",
       " 'pipelines': {'en_core_web_sm': '3.2.0', 'en_core_web_lg': '3.2.0'}}"
      ]
     },
     "execution_count": 4,
     "metadata": {},
     "output_type": "execute_result"
    }
   ],
   "source": [
    "spacy.info()"
   ]
  },
  {
   "cell_type": "code",
   "execution_count": 5,
   "id": "c608084c-53c0-46fe-9ac4-eed3a4aa72f3",
   "metadata": {},
   "outputs": [],
   "source": [
    "nlp = spacy.blank(\"en\")"
   ]
  },
  {
   "cell_type": "code",
   "execution_count": 6,
   "id": "8f27235f-556f-4673-bf56-8a35710fe7ed",
   "metadata": {},
   "outputs": [
    {
     "data": {
      "text/plain": [
       "\u001b[0;31mSignature:\u001b[0m      \n",
       "\u001b[0mnlp\u001b[0m\u001b[0;34m(\u001b[0m\u001b[0;34m\u001b[0m\n",
       "\u001b[0;34m\u001b[0m    \u001b[0mtext\u001b[0m\u001b[0;34m:\u001b[0m \u001b[0mUnion\u001b[0m\u001b[0;34m[\u001b[0m\u001b[0mstr\u001b[0m\u001b[0;34m,\u001b[0m \u001b[0mspacy\u001b[0m\u001b[0;34m.\u001b[0m\u001b[0mtokens\u001b[0m\u001b[0;34m.\u001b[0m\u001b[0mdoc\u001b[0m\u001b[0;34m.\u001b[0m\u001b[0mDoc\u001b[0m\u001b[0;34m]\u001b[0m\u001b[0;34m,\u001b[0m\u001b[0;34m\u001b[0m\n",
       "\u001b[0;34m\u001b[0m    \u001b[0;34m*\u001b[0m\u001b[0;34m,\u001b[0m\u001b[0;34m\u001b[0m\n",
       "\u001b[0;34m\u001b[0m    \u001b[0mdisable\u001b[0m\u001b[0;34m:\u001b[0m \u001b[0mIterable\u001b[0m\u001b[0;34m[\u001b[0m\u001b[0mstr\u001b[0m\u001b[0;34m]\u001b[0m \u001b[0;34m=\u001b[0m \u001b[0;34m[\u001b[0m\u001b[0;34m]\u001b[0m\u001b[0;34m,\u001b[0m\u001b[0;34m\u001b[0m\n",
       "\u001b[0;34m\u001b[0m    \u001b[0mcomponent_cfg\u001b[0m\u001b[0;34m:\u001b[0m \u001b[0mOptional\u001b[0m\u001b[0;34m[\u001b[0m\u001b[0mDict\u001b[0m\u001b[0;34m[\u001b[0m\u001b[0mstr\u001b[0m\u001b[0;34m,\u001b[0m \u001b[0mDict\u001b[0m\u001b[0;34m[\u001b[0m\u001b[0mstr\u001b[0m\u001b[0;34m,\u001b[0m \u001b[0mAny\u001b[0m\u001b[0;34m]\u001b[0m\u001b[0;34m]\u001b[0m\u001b[0;34m]\u001b[0m \u001b[0;34m=\u001b[0m \u001b[0;32mNone\u001b[0m\u001b[0;34m,\u001b[0m\u001b[0;34m\u001b[0m\n",
       "\u001b[0;34m\u001b[0m\u001b[0;34m)\u001b[0m \u001b[0;34m->\u001b[0m \u001b[0mspacy\u001b[0m\u001b[0;34m.\u001b[0m\u001b[0mtokens\u001b[0m\u001b[0;34m.\u001b[0m\u001b[0mdoc\u001b[0m\u001b[0;34m.\u001b[0m\u001b[0mDoc\u001b[0m\u001b[0;34m\u001b[0m\u001b[0;34m\u001b[0m\u001b[0m\n",
       "\u001b[0;31mType:\u001b[0m            English\n",
       "\u001b[0;31mString form:\u001b[0m     <spacy.lang.en.English object at 0x7f3ab39df8b0>\n",
       "\u001b[0;31mFile:\u001b[0m            ~/.local/share/virtualenvs/cs5293sp22-WqRDOD2N/lib/python3.10/site-packages/spacy/lang/en/__init__.py\n",
       "\u001b[0;31mDocstring:\u001b[0m       <no docstring>\n",
       "\u001b[0;31mClass docstring:\u001b[0m\n",
       "A text-processing pipeline. Usually you'll load this once per process,\n",
       "and pass the instance around your application.\n",
       "\n",
       "Defaults (class): Settings, data and factory methods for creating the `nlp`\n",
       "    object and processing pipeline.\n",
       "lang (str): IETF language code, such as 'en'.\n",
       "\n",
       "DOCS: https://spacy.io/api/language\n",
       "\u001b[0;31mInit docstring:\u001b[0m \n",
       "Initialise a Language object.\n",
       "\n",
       "vocab (Vocab): A `Vocab` object. If `True`, a vocab is created.\n",
       "meta (dict): Custom meta data for the Language class. Is written to by\n",
       "    models to add model meta data.\n",
       "max_length (int): Maximum number of characters in a single text. The\n",
       "    current models may run out memory on extremely long texts, due to\n",
       "    large internal allocations. You should segment these texts into\n",
       "    meaningful units, e.g. paragraphs, subsections etc, before passing\n",
       "    them to spaCy. Default maximum length is 1,000,000 charas (1mb). As\n",
       "    a rule of thumb, if all pipeline components are enabled, spaCy's\n",
       "    default models currently requires roughly 1GB of temporary memory per\n",
       "    100,000 characters in one text.\n",
       "create_tokenizer (Callable): Function that takes the nlp object and\n",
       "    returns a tokenizer.\n",
       "batch_size (int): Default batch size for pipe and evaluate.\n",
       "\n",
       "DOCS: https://spacy.io/api/language#init\n",
       "\u001b[0;31mCall docstring:\u001b[0m \n",
       "Apply the pipeline to some text. The text can span multiple sentences,\n",
       "and can contain arbitrary whitespace. Alignment into the original string\n",
       "is preserved.\n",
       "\n",
       "text (Union[str, Doc]): If `str`, the text to be processed. If `Doc`,\n",
       "    the doc will be passed directly to the pipeline, skipping\n",
       "    `Language.make_doc`.\n",
       "disable (List[str]): Names of the pipeline components to disable.\n",
       "component_cfg (Dict[str, dict]): An optional dictionary with extra\n",
       "    keyword arguments for specific components.\n",
       "RETURNS (Doc): A container for accessing the annotations.\n",
       "\n",
       "DOCS: https://spacy.io/api/language#call\n"
      ]
     },
     "metadata": {},
     "output_type": "display_data"
    }
   ],
   "source": [
    "nlp?"
   ]
  },
  {
   "cell_type": "code",
   "execution_count": 7,
   "id": "f46cf8d2-703d-45e9-bdfd-762105ac0b21",
   "metadata": {},
   "outputs": [],
   "source": [
    "nlp_es = spacy.blank(\"es\")\n",
    "nlp_de = spacy.blank(\"de\") # xx"
   ]
  },
  {
   "cell_type": "code",
   "execution_count": 8,
   "id": "bb6edda0-8786-4524-8399-f67ccd579c48",
   "metadata": {},
   "outputs": [],
   "source": [
    "doc = nlp(\"Brandon's the quick brown fox jumped over the lazy dog! Thirty\")"
   ]
  },
  {
   "cell_type": "code",
   "execution_count": 9,
   "id": "e0f2f1c9-7307-4d6b-8fd5-62f8978af219",
   "metadata": {},
   "outputs": [
    {
     "name": "stdout",
     "output_type": "stream",
     "text": [
      "Brandon\n",
      "'s\n",
      "the\n",
      "quick\n",
      "brown\n",
      "fox\n",
      "jumped\n",
      "over\n",
      "the\n",
      "lazy\n",
      "dog\n",
      "!\n",
      "Thirty\n"
     ]
    }
   ],
   "source": [
    "for token in doc:\n",
    "    print(f\"{token.text}\")"
   ]
  },
  {
   "cell_type": "code",
   "execution_count": 10,
   "id": "9b432dd9-4a3f-41cc-90f7-91fdac612c7e",
   "metadata": {},
   "outputs": [
    {
     "data": {
      "text/plain": [
       "spacy.tokens.token.Token"
      ]
     },
     "execution_count": 10,
     "metadata": {},
     "output_type": "execute_result"
    }
   ],
   "source": [
    "tok = doc[5]\n",
    "type(tok)"
   ]
  },
  {
   "cell_type": "code",
   "execution_count": 11,
   "id": "05557a38-0ebb-48c3-97f5-40fc5edeb58e",
   "metadata": {},
   "outputs": [
    {
     "data": {
      "text/plain": [
       "spacy.tokens.span.Span"
      ]
     },
     "execution_count": 11,
     "metadata": {},
     "output_type": "execute_result"
    }
   ],
   "source": [
    "span1 = doc[3:6]\n",
    "type(span1)"
   ]
  },
  {
   "cell_type": "code",
   "execution_count": 12,
   "id": "51af74ac-717e-43ac-a0b5-357718225acf",
   "metadata": {},
   "outputs": [
    {
     "data": {
      "text/plain": [
       "5"
      ]
     },
     "execution_count": 12,
     "metadata": {},
     "output_type": "execute_result"
    }
   ],
   "source": [
    "tok.i"
   ]
  },
  {
   "cell_type": "code",
   "execution_count": 13,
   "id": "ee0ef94e-b2df-49b4-b67e-d91afbcf772f",
   "metadata": {},
   "outputs": [
    {
     "data": {
      "text/plain": [
       "True"
      ]
     },
     "execution_count": 13,
     "metadata": {},
     "output_type": "execute_result"
    }
   ],
   "source": [
    "tok.is_alpha"
   ]
  },
  {
   "cell_type": "code",
   "execution_count": 14,
   "id": "b2411f0f-1156-4ea0-a9fa-fa4ccdaba43f",
   "metadata": {},
   "outputs": [
    {
     "data": {
      "text/plain": [
       "False"
      ]
     },
     "execution_count": 14,
     "metadata": {},
     "output_type": "execute_result"
    }
   ],
   "source": [
    "tok.is_punct"
   ]
  },
  {
   "cell_type": "code",
   "execution_count": 15,
   "id": "d6865572-88d4-4174-9a9f-7a4925d47803",
   "metadata": {},
   "outputs": [
    {
     "data": {
      "text/plain": [
       "False"
      ]
     },
     "execution_count": 15,
     "metadata": {},
     "output_type": "execute_result"
    }
   ],
   "source": [
    "tok.like_num"
   ]
  },
  {
   "cell_type": "code",
   "execution_count": 16,
   "id": "5f3d8801-6677-4848-833d-8a650d4dafca",
   "metadata": {},
   "outputs": [
    {
     "data": {
      "text/plain": [
       "True"
      ]
     },
     "execution_count": 16,
     "metadata": {},
     "output_type": "execute_result"
    }
   ],
   "source": [
    "doc[-1].like_num # Works for numbers and textul representations of numbers"
   ]
  },
  {
   "cell_type": "code",
   "execution_count": 17,
   "id": "65612a0c-e8b9-4119-bd57-8e5f377dca5b",
   "metadata": {},
   "outputs": [
    {
     "name": "stdout",
     "output_type": "stream",
     "text": [
      "Collecting en-core-web-sm==3.2.0\n",
      "  Downloading https://github.com/explosion/spacy-models/releases/download/en_core_web_sm-3.2.0/en_core_web_sm-3.2.0-py3-none-any.whl (13.9 MB)\n",
      "\u001b[2K     \u001b[90m━━━━━━━━━━━━━━━━━━━━━━━━━━━━━━━━━━━━━━━━\u001b[0m \u001b[32m13.9/13.9 MB\u001b[0m \u001b[31m31.5 MB/s\u001b[0m eta \u001b[36m0:00:00\u001b[0m00:01\u001b[0m0:01\u001b[0m\n",
      "\u001b[?25hRequirement already satisfied: spacy<3.3.0,>=3.2.0 in /home/christangrant/.local/share/virtualenvs/cs5293sp22-WqRDOD2N/lib/python3.10/site-packages (from en-core-web-sm==3.2.0) (3.2.2)\n",
      "Requirement already satisfied: spacy-legacy<3.1.0,>=3.0.8 in /home/christangrant/.local/share/virtualenvs/cs5293sp22-WqRDOD2N/lib/python3.10/site-packages (from spacy<3.3.0,>=3.2.0->en-core-web-sm==3.2.0) (3.0.9)\n",
      "Requirement already satisfied: spacy-loggers<2.0.0,>=1.0.0 in /home/christangrant/.local/share/virtualenvs/cs5293sp22-WqRDOD2N/lib/python3.10/site-packages (from spacy<3.3.0,>=3.2.0->en-core-web-sm==3.2.0) (1.0.1)\n",
      "Requirement already satisfied: preshed<3.1.0,>=3.0.2 in /home/christangrant/.local/share/virtualenvs/cs5293sp22-WqRDOD2N/lib/python3.10/site-packages (from spacy<3.3.0,>=3.2.0->en-core-web-sm==3.2.0) (3.0.6)\n",
      "Requirement already satisfied: packaging>=20.0 in /home/christangrant/.local/share/virtualenvs/cs5293sp22-WqRDOD2N/lib/python3.10/site-packages (from spacy<3.3.0,>=3.2.0->en-core-web-sm==3.2.0) (21.3)\n",
      "Requirement already satisfied: srsly<3.0.0,>=2.4.1 in /home/christangrant/.local/share/virtualenvs/cs5293sp22-WqRDOD2N/lib/python3.10/site-packages (from spacy<3.3.0,>=3.2.0->en-core-web-sm==3.2.0) (2.4.2)\n",
      "Requirement already satisfied: thinc<8.1.0,>=8.0.12 in /home/christangrant/.local/share/virtualenvs/cs5293sp22-WqRDOD2N/lib/python3.10/site-packages (from spacy<3.3.0,>=3.2.0->en-core-web-sm==3.2.0) (8.0.13)\n",
      "Requirement already satisfied: tqdm<5.0.0,>=4.38.0 in /home/christangrant/.local/share/virtualenvs/cs5293sp22-WqRDOD2N/lib/python3.10/site-packages (from spacy<3.3.0,>=3.2.0->en-core-web-sm==3.2.0) (4.62.3)\n",
      "Requirement already satisfied: requests<3.0.0,>=2.13.0 in /home/christangrant/.local/share/virtualenvs/cs5293sp22-WqRDOD2N/lib/python3.10/site-packages (from spacy<3.3.0,>=3.2.0->en-core-web-sm==3.2.0) (2.27.1)\n",
      "Requirement already satisfied: pathy>=0.3.5 in /home/christangrant/.local/share/virtualenvs/cs5293sp22-WqRDOD2N/lib/python3.10/site-packages (from spacy<3.3.0,>=3.2.0->en-core-web-sm==3.2.0) (0.6.1)\n",
      "Requirement already satisfied: numpy>=1.15.0 in /home/christangrant/.local/share/virtualenvs/cs5293sp22-WqRDOD2N/lib/python3.10/site-packages (from spacy<3.3.0,>=3.2.0->en-core-web-sm==3.2.0) (1.22.2)\n",
      "Requirement already satisfied: setuptools in /home/christangrant/.local/share/virtualenvs/cs5293sp22-WqRDOD2N/lib/python3.10/site-packages (from spacy<3.3.0,>=3.2.0->en-core-web-sm==3.2.0) (60.9.3)\n",
      "Requirement already satisfied: cymem<2.1.0,>=2.0.2 in /home/christangrant/.local/share/virtualenvs/cs5293sp22-WqRDOD2N/lib/python3.10/site-packages (from spacy<3.3.0,>=3.2.0->en-core-web-sm==3.2.0) (2.0.6)\n",
      "Requirement already satisfied: wasabi<1.1.0,>=0.8.1 in /home/christangrant/.local/share/virtualenvs/cs5293sp22-WqRDOD2N/lib/python3.10/site-packages (from spacy<3.3.0,>=3.2.0->en-core-web-sm==3.2.0) (0.9.0)\n",
      "Requirement already satisfied: typer<0.5.0,>=0.3.0 in /home/christangrant/.local/share/virtualenvs/cs5293sp22-WqRDOD2N/lib/python3.10/site-packages (from spacy<3.3.0,>=3.2.0->en-core-web-sm==3.2.0) (0.4.0)\n",
      "Requirement already satisfied: langcodes<4.0.0,>=3.2.0 in /home/christangrant/.local/share/virtualenvs/cs5293sp22-WqRDOD2N/lib/python3.10/site-packages (from spacy<3.3.0,>=3.2.0->en-core-web-sm==3.2.0) (3.3.0)\n",
      "Requirement already satisfied: pydantic!=1.8,!=1.8.1,<1.9.0,>=1.7.4 in /home/christangrant/.local/share/virtualenvs/cs5293sp22-WqRDOD2N/lib/python3.10/site-packages (from spacy<3.3.0,>=3.2.0->en-core-web-sm==3.2.0) (1.8.2)\n",
      "Requirement already satisfied: jinja2 in /home/christangrant/.local/share/virtualenvs/cs5293sp22-WqRDOD2N/lib/python3.10/site-packages (from spacy<3.3.0,>=3.2.0->en-core-web-sm==3.2.0) (3.0.3)\n",
      "Requirement already satisfied: murmurhash<1.1.0,>=0.28.0 in /home/christangrant/.local/share/virtualenvs/cs5293sp22-WqRDOD2N/lib/python3.10/site-packages (from spacy<3.3.0,>=3.2.0->en-core-web-sm==3.2.0) (1.0.6)\n",
      "Requirement already satisfied: catalogue<2.1.0,>=2.0.6 in /home/christangrant/.local/share/virtualenvs/cs5293sp22-WqRDOD2N/lib/python3.10/site-packages (from spacy<3.3.0,>=3.2.0->en-core-web-sm==3.2.0) (2.0.6)\n",
      "Requirement already satisfied: blis<0.8.0,>=0.4.0 in /home/christangrant/.local/share/virtualenvs/cs5293sp22-WqRDOD2N/lib/python3.10/site-packages (from spacy<3.3.0,>=3.2.0->en-core-web-sm==3.2.0) (0.7.5)\n",
      "Requirement already satisfied: pyparsing!=3.0.5,>=2.0.2 in /home/christangrant/.local/share/virtualenvs/cs5293sp22-WqRDOD2N/lib/python3.10/site-packages (from packaging>=20.0->spacy<3.3.0,>=3.2.0->en-core-web-sm==3.2.0) (3.0.7)\n",
      "Requirement already satisfied: smart-open<6.0.0,>=5.0.0 in /home/christangrant/.local/share/virtualenvs/cs5293sp22-WqRDOD2N/lib/python3.10/site-packages (from pathy>=0.3.5->spacy<3.3.0,>=3.2.0->en-core-web-sm==3.2.0) (5.2.1)\n",
      "Requirement already satisfied: typing-extensions>=3.7.4.3 in /home/christangrant/.local/share/virtualenvs/cs5293sp22-WqRDOD2N/lib/python3.10/site-packages (from pydantic!=1.8,!=1.8.1,<1.9.0,>=1.7.4->spacy<3.3.0,>=3.2.0->en-core-web-sm==3.2.0) (4.1.1)\n",
      "Requirement already satisfied: urllib3<1.27,>=1.21.1 in /home/christangrant/.local/share/virtualenvs/cs5293sp22-WqRDOD2N/lib/python3.10/site-packages (from requests<3.0.0,>=2.13.0->spacy<3.3.0,>=3.2.0->en-core-web-sm==3.2.0) (1.26.8)\n",
      "Requirement already satisfied: charset-normalizer~=2.0.0 in /home/christangrant/.local/share/virtualenvs/cs5293sp22-WqRDOD2N/lib/python3.10/site-packages (from requests<3.0.0,>=2.13.0->spacy<3.3.0,>=3.2.0->en-core-web-sm==3.2.0) (2.0.12)\n",
      "Requirement already satisfied: idna<4,>=2.5 in /home/christangrant/.local/share/virtualenvs/cs5293sp22-WqRDOD2N/lib/python3.10/site-packages (from requests<3.0.0,>=2.13.0->spacy<3.3.0,>=3.2.0->en-core-web-sm==3.2.0) (3.3)\n",
      "Requirement already satisfied: certifi>=2017.4.17 in /home/christangrant/.local/share/virtualenvs/cs5293sp22-WqRDOD2N/lib/python3.10/site-packages (from requests<3.0.0,>=2.13.0->spacy<3.3.0,>=3.2.0->en-core-web-sm==3.2.0) (2021.10.8)\n",
      "Requirement already satisfied: click<9.0.0,>=7.1.1 in /home/christangrant/.local/share/virtualenvs/cs5293sp22-WqRDOD2N/lib/python3.10/site-packages (from typer<0.5.0,>=0.3.0->spacy<3.3.0,>=3.2.0->en-core-web-sm==3.2.0) (8.0.4)\n",
      "Requirement already satisfied: MarkupSafe>=2.0 in /home/christangrant/.local/share/virtualenvs/cs5293sp22-WqRDOD2N/lib/python3.10/site-packages (from jinja2->spacy<3.3.0,>=3.2.0->en-core-web-sm==3.2.0) (2.1.0)\n",
      "\u001b[38;5;2m✔ Download and installation successful\u001b[0m\n",
      "You can now load the package via spacy.load('en_core_web_sm')\n"
     ]
    }
   ],
   "source": [
    "! pipenv run python -m spacy download en_core_web_sm"
   ]
  },
  {
   "cell_type": "code",
   "execution_count": 18,
   "id": "e65b9353-9ce6-41db-80a6-66b41c12b0d1",
   "metadata": {},
   "outputs": [],
   "source": [
    "nlp = spacy.load('en_core_web_sm')"
   ]
  },
  {
   "cell_type": "code",
   "execution_count": 19,
   "id": "ced30740-02fc-41ea-979f-60cba7ac2473",
   "metadata": {},
   "outputs": [],
   "source": [
    "doc = nlp(\"How much wood could a Woodchuck chuck if a wood chuck could chuck wood.\")"
   ]
  },
  {
   "cell_type": "code",
   "execution_count": 20,
   "id": "7c09dd32-2fd9-4e4d-a24d-a757f8ec1010",
   "metadata": {},
   "outputs": [
    {
     "name": "stdout",
     "output_type": "stream",
     "text": [
      "How--SCONJ\n",
      "much--ADJ\n",
      "wood--NOUN\n",
      "could--AUX\n",
      "a--DET\n",
      "Woodchuck--PROPN\n",
      "chuck--NOUN\n",
      "if--SCONJ\n",
      "a--DET\n",
      "wood--NOUN\n",
      "chuck--NOUN\n",
      "could--AUX\n",
      "chuck--VERB\n",
      "wood--NOUN\n",
      ".--PUNCT\n"
     ]
    }
   ],
   "source": [
    "for token in doc:\n",
    "    print(f\"{token.text}--{token.pos_}\")"
   ]
  },
  {
   "cell_type": "code",
   "execution_count": 21,
   "id": "5eeb7858-42b1-4d4b-b7c4-fbb886dbb11b",
   "metadata": {},
   "outputs": [
    {
     "name": "stdout",
     "output_type": "stream",
     "text": [
      "How--SCONJ--advmod--much\n",
      "much--ADJ--amod--wood\n",
      "wood--NOUN--dobj--chuck\n",
      "could--AUX--aux--chuck\n",
      "a--DET--det--chuck\n",
      "Woodchuck--PROPN--compound--chuck\n",
      "chuck--NOUN--ROOT--chuck\n",
      "if--SCONJ--mark--chuck\n",
      "a--DET--det--chuck\n",
      "wood--NOUN--compound--chuck\n",
      "chuck--NOUN--nsubj--chuck\n",
      "could--AUX--aux--chuck\n",
      "chuck--VERB--advcl--chuck\n",
      "wood--NOUN--dobj--chuck\n",
      ".--PUNCT--punct--chuck\n"
     ]
    }
   ],
   "source": [
    "for token in doc:\n",
    "    print(f\"{token.text}--{token.pos_}--{token.dep_}--{token.head.text}\")"
   ]
  },
  {
   "cell_type": "code",
   "execution_count": 22,
   "id": "a0a631dd-dfc2-4157-8f40-f198369e08bb",
   "metadata": {},
   "outputs": [
    {
     "data": {
      "text/html": [
       "<span class=\"tex2jax_ignore\"><svg xmlns=\"http://www.w3.org/2000/svg\" xmlns:xlink=\"http://www.w3.org/1999/xlink\" xml:lang=\"en\" id=\"2864a8311f12495dab0fa622ee298eb1-0\" class=\"displacy\" width=\"2500\" height=\"662.0\" direction=\"ltr\" style=\"max-width: none; height: 662.0px; color: #000000; background: #ffffff; font-family: Arial; direction: ltr\">\n",
       "<text class=\"displacy-token\" fill=\"currentColor\" text-anchor=\"middle\" y=\"572.0\">\n",
       "    <tspan class=\"displacy-word\" fill=\"currentColor\" x=\"50\">How</tspan>\n",
       "    <tspan class=\"displacy-tag\" dy=\"2em\" fill=\"currentColor\" x=\"50\">SCONJ</tspan>\n",
       "</text>\n",
       "\n",
       "<text class=\"displacy-token\" fill=\"currentColor\" text-anchor=\"middle\" y=\"572.0\">\n",
       "    <tspan class=\"displacy-word\" fill=\"currentColor\" x=\"225\">much</tspan>\n",
       "    <tspan class=\"displacy-tag\" dy=\"2em\" fill=\"currentColor\" x=\"225\">ADJ</tspan>\n",
       "</text>\n",
       "\n",
       "<text class=\"displacy-token\" fill=\"currentColor\" text-anchor=\"middle\" y=\"572.0\">\n",
       "    <tspan class=\"displacy-word\" fill=\"currentColor\" x=\"400\">wood</tspan>\n",
       "    <tspan class=\"displacy-tag\" dy=\"2em\" fill=\"currentColor\" x=\"400\">NOUN</tspan>\n",
       "</text>\n",
       "\n",
       "<text class=\"displacy-token\" fill=\"currentColor\" text-anchor=\"middle\" y=\"572.0\">\n",
       "    <tspan class=\"displacy-word\" fill=\"currentColor\" x=\"575\">could</tspan>\n",
       "    <tspan class=\"displacy-tag\" dy=\"2em\" fill=\"currentColor\" x=\"575\">AUX</tspan>\n",
       "</text>\n",
       "\n",
       "<text class=\"displacy-token\" fill=\"currentColor\" text-anchor=\"middle\" y=\"572.0\">\n",
       "    <tspan class=\"displacy-word\" fill=\"currentColor\" x=\"750\">a</tspan>\n",
       "    <tspan class=\"displacy-tag\" dy=\"2em\" fill=\"currentColor\" x=\"750\">DET</tspan>\n",
       "</text>\n",
       "\n",
       "<text class=\"displacy-token\" fill=\"currentColor\" text-anchor=\"middle\" y=\"572.0\">\n",
       "    <tspan class=\"displacy-word\" fill=\"currentColor\" x=\"925\">Woodchuck</tspan>\n",
       "    <tspan class=\"displacy-tag\" dy=\"2em\" fill=\"currentColor\" x=\"925\">PROPN</tspan>\n",
       "</text>\n",
       "\n",
       "<text class=\"displacy-token\" fill=\"currentColor\" text-anchor=\"middle\" y=\"572.0\">\n",
       "    <tspan class=\"displacy-word\" fill=\"currentColor\" x=\"1100\">chuck</tspan>\n",
       "    <tspan class=\"displacy-tag\" dy=\"2em\" fill=\"currentColor\" x=\"1100\">NOUN</tspan>\n",
       "</text>\n",
       "\n",
       "<text class=\"displacy-token\" fill=\"currentColor\" text-anchor=\"middle\" y=\"572.0\">\n",
       "    <tspan class=\"displacy-word\" fill=\"currentColor\" x=\"1275\">if</tspan>\n",
       "    <tspan class=\"displacy-tag\" dy=\"2em\" fill=\"currentColor\" x=\"1275\">SCONJ</tspan>\n",
       "</text>\n",
       "\n",
       "<text class=\"displacy-token\" fill=\"currentColor\" text-anchor=\"middle\" y=\"572.0\">\n",
       "    <tspan class=\"displacy-word\" fill=\"currentColor\" x=\"1450\">a</tspan>\n",
       "    <tspan class=\"displacy-tag\" dy=\"2em\" fill=\"currentColor\" x=\"1450\">DET</tspan>\n",
       "</text>\n",
       "\n",
       "<text class=\"displacy-token\" fill=\"currentColor\" text-anchor=\"middle\" y=\"572.0\">\n",
       "    <tspan class=\"displacy-word\" fill=\"currentColor\" x=\"1625\">wood</tspan>\n",
       "    <tspan class=\"displacy-tag\" dy=\"2em\" fill=\"currentColor\" x=\"1625\">NOUN</tspan>\n",
       "</text>\n",
       "\n",
       "<text class=\"displacy-token\" fill=\"currentColor\" text-anchor=\"middle\" y=\"572.0\">\n",
       "    <tspan class=\"displacy-word\" fill=\"currentColor\" x=\"1800\">chuck</tspan>\n",
       "    <tspan class=\"displacy-tag\" dy=\"2em\" fill=\"currentColor\" x=\"1800\">NOUN</tspan>\n",
       "</text>\n",
       "\n",
       "<text class=\"displacy-token\" fill=\"currentColor\" text-anchor=\"middle\" y=\"572.0\">\n",
       "    <tspan class=\"displacy-word\" fill=\"currentColor\" x=\"1975\">could</tspan>\n",
       "    <tspan class=\"displacy-tag\" dy=\"2em\" fill=\"currentColor\" x=\"1975\">AUX</tspan>\n",
       "</text>\n",
       "\n",
       "<text class=\"displacy-token\" fill=\"currentColor\" text-anchor=\"middle\" y=\"572.0\">\n",
       "    <tspan class=\"displacy-word\" fill=\"currentColor\" x=\"2150\">chuck</tspan>\n",
       "    <tspan class=\"displacy-tag\" dy=\"2em\" fill=\"currentColor\" x=\"2150\">VERB</tspan>\n",
       "</text>\n",
       "\n",
       "<text class=\"displacy-token\" fill=\"currentColor\" text-anchor=\"middle\" y=\"572.0\">\n",
       "    <tspan class=\"displacy-word\" fill=\"currentColor\" x=\"2325\">wood.</tspan>\n",
       "    <tspan class=\"displacy-tag\" dy=\"2em\" fill=\"currentColor\" x=\"2325\">NOUN</tspan>\n",
       "</text>\n",
       "\n",
       "<g class=\"displacy-arrow\">\n",
       "    <path class=\"displacy-arc\" id=\"arrow-2864a8311f12495dab0fa622ee298eb1-0-0\" stroke-width=\"2px\" d=\"M70,527.0 C70,439.5 200.0,439.5 200.0,527.0\" fill=\"none\" stroke=\"currentColor\"/>\n",
       "    <text dy=\"1.25em\" style=\"font-size: 0.8em; letter-spacing: 1px\">\n",
       "        <textPath xlink:href=\"#arrow-2864a8311f12495dab0fa622ee298eb1-0-0\" class=\"displacy-label\" startOffset=\"50%\" side=\"left\" fill=\"currentColor\" text-anchor=\"middle\">advmod</textPath>\n",
       "    </text>\n",
       "    <path class=\"displacy-arrowhead\" d=\"M70,529.0 L62,517.0 78,517.0\" fill=\"currentColor\"/>\n",
       "</g>\n",
       "\n",
       "<g class=\"displacy-arrow\">\n",
       "    <path class=\"displacy-arc\" id=\"arrow-2864a8311f12495dab0fa622ee298eb1-0-1\" stroke-width=\"2px\" d=\"M245,527.0 C245,439.5 375.0,439.5 375.0,527.0\" fill=\"none\" stroke=\"currentColor\"/>\n",
       "    <text dy=\"1.25em\" style=\"font-size: 0.8em; letter-spacing: 1px\">\n",
       "        <textPath xlink:href=\"#arrow-2864a8311f12495dab0fa622ee298eb1-0-1\" class=\"displacy-label\" startOffset=\"50%\" side=\"left\" fill=\"currentColor\" text-anchor=\"middle\">amod</textPath>\n",
       "    </text>\n",
       "    <path class=\"displacy-arrowhead\" d=\"M245,529.0 L237,517.0 253,517.0\" fill=\"currentColor\"/>\n",
       "</g>\n",
       "\n",
       "<g class=\"displacy-arrow\">\n",
       "    <path class=\"displacy-arc\" id=\"arrow-2864a8311f12495dab0fa622ee298eb1-0-2\" stroke-width=\"2px\" d=\"M420,527.0 C420,177.0 1090.0,177.0 1090.0,527.0\" fill=\"none\" stroke=\"currentColor\"/>\n",
       "    <text dy=\"1.25em\" style=\"font-size: 0.8em; letter-spacing: 1px\">\n",
       "        <textPath xlink:href=\"#arrow-2864a8311f12495dab0fa622ee298eb1-0-2\" class=\"displacy-label\" startOffset=\"50%\" side=\"left\" fill=\"currentColor\" text-anchor=\"middle\">dobj</textPath>\n",
       "    </text>\n",
       "    <path class=\"displacy-arrowhead\" d=\"M420,529.0 L412,517.0 428,517.0\" fill=\"currentColor\"/>\n",
       "</g>\n",
       "\n",
       "<g class=\"displacy-arrow\">\n",
       "    <path class=\"displacy-arc\" id=\"arrow-2864a8311f12495dab0fa622ee298eb1-0-3\" stroke-width=\"2px\" d=\"M595,527.0 C595,264.5 1085.0,264.5 1085.0,527.0\" fill=\"none\" stroke=\"currentColor\"/>\n",
       "    <text dy=\"1.25em\" style=\"font-size: 0.8em; letter-spacing: 1px\">\n",
       "        <textPath xlink:href=\"#arrow-2864a8311f12495dab0fa622ee298eb1-0-3\" class=\"displacy-label\" startOffset=\"50%\" side=\"left\" fill=\"currentColor\" text-anchor=\"middle\">aux</textPath>\n",
       "    </text>\n",
       "    <path class=\"displacy-arrowhead\" d=\"M595,529.0 L587,517.0 603,517.0\" fill=\"currentColor\"/>\n",
       "</g>\n",
       "\n",
       "<g class=\"displacy-arrow\">\n",
       "    <path class=\"displacy-arc\" id=\"arrow-2864a8311f12495dab0fa622ee298eb1-0-4\" stroke-width=\"2px\" d=\"M770,527.0 C770,352.0 1080.0,352.0 1080.0,527.0\" fill=\"none\" stroke=\"currentColor\"/>\n",
       "    <text dy=\"1.25em\" style=\"font-size: 0.8em; letter-spacing: 1px\">\n",
       "        <textPath xlink:href=\"#arrow-2864a8311f12495dab0fa622ee298eb1-0-4\" class=\"displacy-label\" startOffset=\"50%\" side=\"left\" fill=\"currentColor\" text-anchor=\"middle\">det</textPath>\n",
       "    </text>\n",
       "    <path class=\"displacy-arrowhead\" d=\"M770,529.0 L762,517.0 778,517.0\" fill=\"currentColor\"/>\n",
       "</g>\n",
       "\n",
       "<g class=\"displacy-arrow\">\n",
       "    <path class=\"displacy-arc\" id=\"arrow-2864a8311f12495dab0fa622ee298eb1-0-5\" stroke-width=\"2px\" d=\"M945,527.0 C945,439.5 1075.0,439.5 1075.0,527.0\" fill=\"none\" stroke=\"currentColor\"/>\n",
       "    <text dy=\"1.25em\" style=\"font-size: 0.8em; letter-spacing: 1px\">\n",
       "        <textPath xlink:href=\"#arrow-2864a8311f12495dab0fa622ee298eb1-0-5\" class=\"displacy-label\" startOffset=\"50%\" side=\"left\" fill=\"currentColor\" text-anchor=\"middle\">compound</textPath>\n",
       "    </text>\n",
       "    <path class=\"displacy-arrowhead\" d=\"M945,529.0 L937,517.0 953,517.0\" fill=\"currentColor\"/>\n",
       "</g>\n",
       "\n",
       "<g class=\"displacy-arrow\">\n",
       "    <path class=\"displacy-arc\" id=\"arrow-2864a8311f12495dab0fa622ee298eb1-0-6\" stroke-width=\"2px\" d=\"M1295,527.0 C1295,89.5 2145.0,89.5 2145.0,527.0\" fill=\"none\" stroke=\"currentColor\"/>\n",
       "    <text dy=\"1.25em\" style=\"font-size: 0.8em; letter-spacing: 1px\">\n",
       "        <textPath xlink:href=\"#arrow-2864a8311f12495dab0fa622ee298eb1-0-6\" class=\"displacy-label\" startOffset=\"50%\" side=\"left\" fill=\"currentColor\" text-anchor=\"middle\">mark</textPath>\n",
       "    </text>\n",
       "    <path class=\"displacy-arrowhead\" d=\"M1295,529.0 L1287,517.0 1303,517.0\" fill=\"currentColor\"/>\n",
       "</g>\n",
       "\n",
       "<g class=\"displacy-arrow\">\n",
       "    <path class=\"displacy-arc\" id=\"arrow-2864a8311f12495dab0fa622ee298eb1-0-7\" stroke-width=\"2px\" d=\"M1470,527.0 C1470,352.0 1780.0,352.0 1780.0,527.0\" fill=\"none\" stroke=\"currentColor\"/>\n",
       "    <text dy=\"1.25em\" style=\"font-size: 0.8em; letter-spacing: 1px\">\n",
       "        <textPath xlink:href=\"#arrow-2864a8311f12495dab0fa622ee298eb1-0-7\" class=\"displacy-label\" startOffset=\"50%\" side=\"left\" fill=\"currentColor\" text-anchor=\"middle\">det</textPath>\n",
       "    </text>\n",
       "    <path class=\"displacy-arrowhead\" d=\"M1470,529.0 L1462,517.0 1478,517.0\" fill=\"currentColor\"/>\n",
       "</g>\n",
       "\n",
       "<g class=\"displacy-arrow\">\n",
       "    <path class=\"displacy-arc\" id=\"arrow-2864a8311f12495dab0fa622ee298eb1-0-8\" stroke-width=\"2px\" d=\"M1645,527.0 C1645,439.5 1775.0,439.5 1775.0,527.0\" fill=\"none\" stroke=\"currentColor\"/>\n",
       "    <text dy=\"1.25em\" style=\"font-size: 0.8em; letter-spacing: 1px\">\n",
       "        <textPath xlink:href=\"#arrow-2864a8311f12495dab0fa622ee298eb1-0-8\" class=\"displacy-label\" startOffset=\"50%\" side=\"left\" fill=\"currentColor\" text-anchor=\"middle\">compound</textPath>\n",
       "    </text>\n",
       "    <path class=\"displacy-arrowhead\" d=\"M1645,529.0 L1637,517.0 1653,517.0\" fill=\"currentColor\"/>\n",
       "</g>\n",
       "\n",
       "<g class=\"displacy-arrow\">\n",
       "    <path class=\"displacy-arc\" id=\"arrow-2864a8311f12495dab0fa622ee298eb1-0-9\" stroke-width=\"2px\" d=\"M1820,527.0 C1820,352.0 2130.0,352.0 2130.0,527.0\" fill=\"none\" stroke=\"currentColor\"/>\n",
       "    <text dy=\"1.25em\" style=\"font-size: 0.8em; letter-spacing: 1px\">\n",
       "        <textPath xlink:href=\"#arrow-2864a8311f12495dab0fa622ee298eb1-0-9\" class=\"displacy-label\" startOffset=\"50%\" side=\"left\" fill=\"currentColor\" text-anchor=\"middle\">nsubj</textPath>\n",
       "    </text>\n",
       "    <path class=\"displacy-arrowhead\" d=\"M1820,529.0 L1812,517.0 1828,517.0\" fill=\"currentColor\"/>\n",
       "</g>\n",
       "\n",
       "<g class=\"displacy-arrow\">\n",
       "    <path class=\"displacy-arc\" id=\"arrow-2864a8311f12495dab0fa622ee298eb1-0-10\" stroke-width=\"2px\" d=\"M1995,527.0 C1995,439.5 2125.0,439.5 2125.0,527.0\" fill=\"none\" stroke=\"currentColor\"/>\n",
       "    <text dy=\"1.25em\" style=\"font-size: 0.8em; letter-spacing: 1px\">\n",
       "        <textPath xlink:href=\"#arrow-2864a8311f12495dab0fa622ee298eb1-0-10\" class=\"displacy-label\" startOffset=\"50%\" side=\"left\" fill=\"currentColor\" text-anchor=\"middle\">aux</textPath>\n",
       "    </text>\n",
       "    <path class=\"displacy-arrowhead\" d=\"M1995,529.0 L1987,517.0 2003,517.0\" fill=\"currentColor\"/>\n",
       "</g>\n",
       "\n",
       "<g class=\"displacy-arrow\">\n",
       "    <path class=\"displacy-arc\" id=\"arrow-2864a8311f12495dab0fa622ee298eb1-0-11\" stroke-width=\"2px\" d=\"M1120,527.0 C1120,2.0 2150.0,2.0 2150.0,527.0\" fill=\"none\" stroke=\"currentColor\"/>\n",
       "    <text dy=\"1.25em\" style=\"font-size: 0.8em; letter-spacing: 1px\">\n",
       "        <textPath xlink:href=\"#arrow-2864a8311f12495dab0fa622ee298eb1-0-11\" class=\"displacy-label\" startOffset=\"50%\" side=\"left\" fill=\"currentColor\" text-anchor=\"middle\">advcl</textPath>\n",
       "    </text>\n",
       "    <path class=\"displacy-arrowhead\" d=\"M2150.0,529.0 L2158.0,517.0 2142.0,517.0\" fill=\"currentColor\"/>\n",
       "</g>\n",
       "\n",
       "<g class=\"displacy-arrow\">\n",
       "    <path class=\"displacy-arc\" id=\"arrow-2864a8311f12495dab0fa622ee298eb1-0-12\" stroke-width=\"2px\" d=\"M2170,527.0 C2170,439.5 2300.0,439.5 2300.0,527.0\" fill=\"none\" stroke=\"currentColor\"/>\n",
       "    <text dy=\"1.25em\" style=\"font-size: 0.8em; letter-spacing: 1px\">\n",
       "        <textPath xlink:href=\"#arrow-2864a8311f12495dab0fa622ee298eb1-0-12\" class=\"displacy-label\" startOffset=\"50%\" side=\"left\" fill=\"currentColor\" text-anchor=\"middle\">dobj</textPath>\n",
       "    </text>\n",
       "    <path class=\"displacy-arrowhead\" d=\"M2300.0,529.0 L2308.0,517.0 2292.0,517.0\" fill=\"currentColor\"/>\n",
       "</g>\n",
       "</svg></span>"
      ],
      "text/plain": [
       "<IPython.core.display.HTML object>"
      ]
     },
     "metadata": {},
     "output_type": "display_data"
    }
   ],
   "source": [
    "from spacy import displacy\n",
    "\n",
    "displacy.render(doc, style=\"dep\")"
   ]
  },
  {
   "cell_type": "code",
   "execution_count": 23,
   "id": "2bf0258d-a6c6-48f4-9023-d035a2b1bce3",
   "metadata": {},
   "outputs": [
    {
     "data": {
      "text/plain": [
       "How much wood could a Woodchuck chuck if a wood chuck could chuck wood."
      ]
     },
     "execution_count": 23,
     "metadata": {},
     "output_type": "execute_result"
    }
   ],
   "source": [
    "doc\n",
    "\n"
   ]
  },
  {
   "cell_type": "code",
   "execution_count": 24,
   "id": "a5d907f5-5a61-4ca2-b33b-296506b32191",
   "metadata": {},
   "outputs": [
    {
     "name": "stdout",
     "output_type": "stream",
     "text": [
      "Woodchuck->PERSON\n",
      "chuck wood->PERSON\n"
     ]
    }
   ],
   "source": [
    "for ent in doc.ents:\n",
    "    print(f\"{ent.text}->{ent.label_}\")"
   ]
  },
  {
   "cell_type": "code",
   "execution_count": 25,
   "id": "4ad4d256-94aa-442a-bf65-627585452c48",
   "metadata": {},
   "outputs": [],
   "source": [
    "doc = nlp(\"Apple shared tanked with the release of the buggy software written by Greg.\")"
   ]
  },
  {
   "cell_type": "code",
   "execution_count": 26,
   "id": "33888e3a-b808-485c-833a-cb135bc33354",
   "metadata": {},
   "outputs": [
    {
     "name": "stdout",
     "output_type": "stream",
     "text": [
      "Apple->ORG\n",
      "Greg->PERSON\n"
     ]
    }
   ],
   "source": [
    "for ent in doc.ents:\n",
    "    print(f\"{ent.text}->{ent.label_}\")"
   ]
  },
  {
   "cell_type": "code",
   "execution_count": 27,
   "id": "f599f324-e02e-45f6-bc51-72941728816b",
   "metadata": {},
   "outputs": [
    {
     "data": {
      "text/plain": [
       "'Companies, agencies, institutions, etc.'"
      ]
     },
     "execution_count": 27,
     "metadata": {},
     "output_type": "execute_result"
    }
   ],
   "source": [
    "spacy.explain(\"ORG\")"
   ]
  },
  {
   "cell_type": "code",
   "execution_count": 28,
   "id": "d15a208a-5330-45e8-8e58-b6c83f90bab5",
   "metadata": {},
   "outputs": [
    {
     "data": {
      "text/plain": [
       "'marker'"
      ]
     },
     "execution_count": 28,
     "metadata": {},
     "output_type": "execute_result"
    }
   ],
   "source": [
    "spacy.explain(\"mark\")"
   ]
  },
  {
   "cell_type": "code",
   "execution_count": 29,
   "id": "9e4f9273-109c-4032-8dc2-b919ea59a3a7",
   "metadata": {},
   "outputs": [
    {
     "name": "stdout",
     "output_type": "stream",
     "text": [
      "Buffalo--PROPN--compound--buffalo\n",
      "buffalo--PROPN--compound--buffalo\n",
      "Buffalo--PROPN--compound--buffalo\n",
      "buffalo--PROPN--compound--buffalo\n",
      "buffalo--PROPN--compound--buffalo\n",
      "buffalo--PROPN--compound--buffalo\n",
      "Buffalo--PROPN--compound--buffalo\n",
      "buffalo--PROPN--ROOT--buffalo\n"
     ]
    }
   ],
   "source": [
    "doc = nlp(\"Buffalo buffalo Buffalo buffalo buffalo buffalo Buffalo buffalo\")\n",
    "\n",
    "for ent in doc.ents:\n",
    "    print(f\"{ent.text}->{ent.label_}\")\n",
    "\n",
    "for token in doc:\n",
    "    print(f\"{token.text}--{token.pos_}--{token.dep_}--{token.head.text}\")"
   ]
  },
  {
   "cell_type": "code",
   "execution_count": 30,
   "id": "62acd0e8-a231-4aa3-a2d2-d8c4ebc8299f",
   "metadata": {},
   "outputs": [
    {
     "name": "stdout",
     "output_type": "stream",
     "text": [
      "Collecting en-core-web-lg==3.2.0\n",
      "  Downloading https://github.com/explosion/spacy-models/releases/download/en_core_web_lg-3.2.0/en_core_web_lg-3.2.0-py3-none-any.whl (777.4 MB)\n",
      "\u001b[2K     \u001b[90m━━━━━━━━━━━━━━━━━━━━━━━━━━━━━━━━━━━━━━━\u001b[0m \u001b[32m777.4/777.4 MB\u001b[0m \u001b[31m1.0 MB/s\u001b[0m eta \u001b[36m0:00:00\u001b[0m00:01\u001b[0m00:01\u001b[0m\n",
      "\u001b[?25hRequirement already satisfied: spacy<3.3.0,>=3.2.0 in /home/christangrant/.local/share/virtualenvs/cs5293sp22-WqRDOD2N/lib/python3.10/site-packages (from en-core-web-lg==3.2.0) (3.2.2)\n",
      "Requirement already satisfied: spacy-loggers<2.0.0,>=1.0.0 in /home/christangrant/.local/share/virtualenvs/cs5293sp22-WqRDOD2N/lib/python3.10/site-packages (from spacy<3.3.0,>=3.2.0->en-core-web-lg==3.2.0) (1.0.1)\n",
      "Requirement already satisfied: srsly<3.0.0,>=2.4.1 in /home/christangrant/.local/share/virtualenvs/cs5293sp22-WqRDOD2N/lib/python3.10/site-packages (from spacy<3.3.0,>=3.2.0->en-core-web-lg==3.2.0) (2.4.2)\n",
      "Requirement already satisfied: pydantic!=1.8,!=1.8.1,<1.9.0,>=1.7.4 in /home/christangrant/.local/share/virtualenvs/cs5293sp22-WqRDOD2N/lib/python3.10/site-packages (from spacy<3.3.0,>=3.2.0->en-core-web-lg==3.2.0) (1.8.2)\n",
      "Requirement already satisfied: packaging>=20.0 in /home/christangrant/.local/share/virtualenvs/cs5293sp22-WqRDOD2N/lib/python3.10/site-packages (from spacy<3.3.0,>=3.2.0->en-core-web-lg==3.2.0) (21.3)\n",
      "Requirement already satisfied: catalogue<2.1.0,>=2.0.6 in /home/christangrant/.local/share/virtualenvs/cs5293sp22-WqRDOD2N/lib/python3.10/site-packages (from spacy<3.3.0,>=3.2.0->en-core-web-lg==3.2.0) (2.0.6)\n",
      "Requirement already satisfied: numpy>=1.15.0 in /home/christangrant/.local/share/virtualenvs/cs5293sp22-WqRDOD2N/lib/python3.10/site-packages (from spacy<3.3.0,>=3.2.0->en-core-web-lg==3.2.0) (1.22.2)\n",
      "Requirement already satisfied: cymem<2.1.0,>=2.0.2 in /home/christangrant/.local/share/virtualenvs/cs5293sp22-WqRDOD2N/lib/python3.10/site-packages (from spacy<3.3.0,>=3.2.0->en-core-web-lg==3.2.0) (2.0.6)\n",
      "Requirement already satisfied: wasabi<1.1.0,>=0.8.1 in /home/christangrant/.local/share/virtualenvs/cs5293sp22-WqRDOD2N/lib/python3.10/site-packages (from spacy<3.3.0,>=3.2.0->en-core-web-lg==3.2.0) (0.9.0)\n",
      "Requirement already satisfied: thinc<8.1.0,>=8.0.12 in /home/christangrant/.local/share/virtualenvs/cs5293sp22-WqRDOD2N/lib/python3.10/site-packages (from spacy<3.3.0,>=3.2.0->en-core-web-lg==3.2.0) (8.0.13)\n",
      "Requirement already satisfied: requests<3.0.0,>=2.13.0 in /home/christangrant/.local/share/virtualenvs/cs5293sp22-WqRDOD2N/lib/python3.10/site-packages (from spacy<3.3.0,>=3.2.0->en-core-web-lg==3.2.0) (2.27.1)\n",
      "Requirement already satisfied: pathy>=0.3.5 in /home/christangrant/.local/share/virtualenvs/cs5293sp22-WqRDOD2N/lib/python3.10/site-packages (from spacy<3.3.0,>=3.2.0->en-core-web-lg==3.2.0) (0.6.1)\n",
      "Requirement already satisfied: langcodes<4.0.0,>=3.2.0 in /home/christangrant/.local/share/virtualenvs/cs5293sp22-WqRDOD2N/lib/python3.10/site-packages (from spacy<3.3.0,>=3.2.0->en-core-web-lg==3.2.0) (3.3.0)\n",
      "Requirement already satisfied: setuptools in /home/christangrant/.local/share/virtualenvs/cs5293sp22-WqRDOD2N/lib/python3.10/site-packages (from spacy<3.3.0,>=3.2.0->en-core-web-lg==3.2.0) (60.9.3)\n",
      "Requirement already satisfied: spacy-legacy<3.1.0,>=3.0.8 in /home/christangrant/.local/share/virtualenvs/cs5293sp22-WqRDOD2N/lib/python3.10/site-packages (from spacy<3.3.0,>=3.2.0->en-core-web-lg==3.2.0) (3.0.9)\n",
      "Requirement already satisfied: typer<0.5.0,>=0.3.0 in /home/christangrant/.local/share/virtualenvs/cs5293sp22-WqRDOD2N/lib/python3.10/site-packages (from spacy<3.3.0,>=3.2.0->en-core-web-lg==3.2.0) (0.4.0)\n",
      "Requirement already satisfied: tqdm<5.0.0,>=4.38.0 in /home/christangrant/.local/share/virtualenvs/cs5293sp22-WqRDOD2N/lib/python3.10/site-packages (from spacy<3.3.0,>=3.2.0->en-core-web-lg==3.2.0) (4.62.3)\n",
      "Requirement already satisfied: preshed<3.1.0,>=3.0.2 in /home/christangrant/.local/share/virtualenvs/cs5293sp22-WqRDOD2N/lib/python3.10/site-packages (from spacy<3.3.0,>=3.2.0->en-core-web-lg==3.2.0) (3.0.6)\n",
      "Requirement already satisfied: jinja2 in /home/christangrant/.local/share/virtualenvs/cs5293sp22-WqRDOD2N/lib/python3.10/site-packages (from spacy<3.3.0,>=3.2.0->en-core-web-lg==3.2.0) (3.0.3)\n",
      "Requirement already satisfied: murmurhash<1.1.0,>=0.28.0 in /home/christangrant/.local/share/virtualenvs/cs5293sp22-WqRDOD2N/lib/python3.10/site-packages (from spacy<3.3.0,>=3.2.0->en-core-web-lg==3.2.0) (1.0.6)\n",
      "Requirement already satisfied: blis<0.8.0,>=0.4.0 in /home/christangrant/.local/share/virtualenvs/cs5293sp22-WqRDOD2N/lib/python3.10/site-packages (from spacy<3.3.0,>=3.2.0->en-core-web-lg==3.2.0) (0.7.5)\n",
      "Requirement already satisfied: pyparsing!=3.0.5,>=2.0.2 in /home/christangrant/.local/share/virtualenvs/cs5293sp22-WqRDOD2N/lib/python3.10/site-packages (from packaging>=20.0->spacy<3.3.0,>=3.2.0->en-core-web-lg==3.2.0) (3.0.7)\n",
      "Requirement already satisfied: smart-open<6.0.0,>=5.0.0 in /home/christangrant/.local/share/virtualenvs/cs5293sp22-WqRDOD2N/lib/python3.10/site-packages (from pathy>=0.3.5->spacy<3.3.0,>=3.2.0->en-core-web-lg==3.2.0) (5.2.1)\n",
      "Requirement already satisfied: typing-extensions>=3.7.4.3 in /home/christangrant/.local/share/virtualenvs/cs5293sp22-WqRDOD2N/lib/python3.10/site-packages (from pydantic!=1.8,!=1.8.1,<1.9.0,>=1.7.4->spacy<3.3.0,>=3.2.0->en-core-web-lg==3.2.0) (4.1.1)\n",
      "Requirement already satisfied: urllib3<1.27,>=1.21.1 in /home/christangrant/.local/share/virtualenvs/cs5293sp22-WqRDOD2N/lib/python3.10/site-packages (from requests<3.0.0,>=2.13.0->spacy<3.3.0,>=3.2.0->en-core-web-lg==3.2.0) (1.26.8)\n",
      "Requirement already satisfied: certifi>=2017.4.17 in /home/christangrant/.local/share/virtualenvs/cs5293sp22-WqRDOD2N/lib/python3.10/site-packages (from requests<3.0.0,>=2.13.0->spacy<3.3.0,>=3.2.0->en-core-web-lg==3.2.0) (2021.10.8)\n",
      "Requirement already satisfied: charset-normalizer~=2.0.0 in /home/christangrant/.local/share/virtualenvs/cs5293sp22-WqRDOD2N/lib/python3.10/site-packages (from requests<3.0.0,>=2.13.0->spacy<3.3.0,>=3.2.0->en-core-web-lg==3.2.0) (2.0.12)\n",
      "Requirement already satisfied: idna<4,>=2.5 in /home/christangrant/.local/share/virtualenvs/cs5293sp22-WqRDOD2N/lib/python3.10/site-packages (from requests<3.0.0,>=2.13.0->spacy<3.3.0,>=3.2.0->en-core-web-lg==3.2.0) (3.3)\n",
      "Requirement already satisfied: click<9.0.0,>=7.1.1 in /home/christangrant/.local/share/virtualenvs/cs5293sp22-WqRDOD2N/lib/python3.10/site-packages (from typer<0.5.0,>=0.3.0->spacy<3.3.0,>=3.2.0->en-core-web-lg==3.2.0) (8.0.4)\n",
      "Requirement already satisfied: MarkupSafe>=2.0 in /home/christangrant/.local/share/virtualenvs/cs5293sp22-WqRDOD2N/lib/python3.10/site-packages (from jinja2->spacy<3.3.0,>=3.2.0->en-core-web-lg==3.2.0) (2.1.0)\n",
      "\u001b[38;5;2m✔ Download and installation successful\u001b[0m\n",
      "You can now load the package via spacy.load('en_core_web_lg')\n"
     ]
    }
   ],
   "source": [
    "! pipenv run python -m spacy download en_core_web_lg"
   ]
  },
  {
   "cell_type": "code",
   "execution_count": 31,
   "id": "bb2f785f-0c63-41a9-8d87-684badb59630",
   "metadata": {},
   "outputs": [],
   "source": [
    "nlp = spacy.load('en_core_web_lg')"
   ]
  },
  {
   "cell_type": "code",
   "execution_count": 32,
   "id": "63a00b8b-9bad-4313-baac-9cd3d54624ce",
   "metadata": {},
   "outputs": [],
   "source": [
    "doc = nlp(\"Buffalo buffalo Buffalo buffalo buffalo buffalo Buffalo buffalo\")"
   ]
  },
  {
   "cell_type": "code",
   "execution_count": 33,
   "id": "5c40a7ca-8c00-47eb-a51a-00dd1f94670a",
   "metadata": {},
   "outputs": [
    {
     "name": "stdout",
     "output_type": "stream",
     "text": [
      "Buffalo buffalo Buffalo buffalo buffalo buffalo Buffalo->ORG\n",
      "Buffalo--PROPN--compound--buffalo\n",
      "buffalo--PROPN--compound--buffalo\n",
      "Buffalo--PROPN--compound--buffalo\n",
      "buffalo--PROPN--compound--buffalo\n",
      "buffalo--PROPN--compound--buffalo\n",
      "buffalo--PROPN--compound--buffalo\n",
      "Buffalo--PROPN--compound--buffalo\n",
      "buffalo--PROPN--ROOT--buffalo\n"
     ]
    }
   ],
   "source": [
    "for ent in doc.ents:\n",
    "    print(f\"{ent.text}->{ent.label_}\")\n",
    "\n",
    "for token in doc:\n",
    "    print(f\"{token.text}--{token.pos_}--{token.dep_}--{token.head.text}\")"
   ]
  },
  {
   "cell_type": "markdown",
   "id": "2dcd3c15-02f0-4cb4-a51d-84aed62d4de4",
   "metadata": {},
   "source": [
    "# Matcher"
   ]
  },
  {
   "cell_type": "code",
   "execution_count": 34,
   "id": "4c66032f-918f-4e08-87ee-5ffe2594151b",
   "metadata": {},
   "outputs": [],
   "source": [
    "from spacy.matcher import Matcher"
   ]
  },
  {
   "cell_type": "code",
   "execution_count": 35,
   "id": "f07fbfe5-63f4-4875-ad21-deb98d690d67",
   "metadata": {},
   "outputs": [],
   "source": [
    "matcher = Matcher(nlp.vocab)"
   ]
  },
  {
   "cell_type": "code",
   "execution_count": 36,
   "id": "22a16f7b-a6bd-416d-8a5f-78efc7c7eac5",
   "metadata": {},
   "outputs": [],
   "source": [
    "pattern = [\n",
    "    {\"TEXT\": \"Android\"},\n",
    "    {\"TEXT\": \"X\"}\n",
    "]\n",
    "matcher.add(\"ANDROID_PATTERN\", [pattern])"
   ]
  },
  {
   "cell_type": "code",
   "execution_count": 37,
   "id": "8899aa10-bcac-43fe-adc1-9d77d587f6cd",
   "metadata": {},
   "outputs": [],
   "source": [
    "doc = nlp(\"The class had a farm with pigs, cows, and bombs and they managed it on their Android X phone.\")"
   ]
  },
  {
   "cell_type": "code",
   "execution_count": 38,
   "id": "4a01300e-5831-4914-9746-735acdddb1b9",
   "metadata": {},
   "outputs": [
    {
     "name": "stdout",
     "output_type": "stream",
     "text": [
      "The--DET--det--class\n",
      "class--NOUN--nsubj--had\n",
      "had--VERB--ROOT--had\n",
      "a--DET--det--farm\n",
      "farm--NOUN--dobj--had\n",
      "with--ADP--prep--farm\n",
      "pigs--NOUN--pobj--with\n",
      ",--PUNCT--punct--pigs\n",
      "cows--NOUN--conj--pigs\n",
      ",--PUNCT--punct--cows\n",
      "and--CCONJ--cc--cows\n",
      "bombs--NOUN--conj--cows\n",
      "and--CCONJ--cc--had\n",
      "they--PRON--nsubj--managed\n",
      "managed--VERB--conj--had\n",
      "it--PRON--dobj--managed\n",
      "on--ADP--prep--managed\n",
      "their--PRON--poss--phone\n",
      "Android--PROPN--compound--X\n",
      "X--PROPN--compound--phone\n",
      "phone--NOUN--pobj--on\n",
      ".--PUNCT--punct--managed\n"
     ]
    }
   ],
   "source": [
    "for ent in doc.ents:\n",
    "    print(f\"{ent.text}->{ent.label_}\")\n",
    "\n",
    "for token in doc:\n",
    "    print(f\"{token.text}--{token.pos_}--{token.dep_}--{token.head.text}\")"
   ]
  },
  {
   "cell_type": "code",
   "execution_count": 39,
   "id": "f8723186-0151-41af-aec6-d3a8e3b3a746",
   "metadata": {},
   "outputs": [
    {
     "data": {
      "text/plain": [
       "[(10465695285070383609, 18, 20)]"
      ]
     },
     "execution_count": 39,
     "metadata": {},
     "output_type": "execute_result"
    }
   ],
   "source": [
    "matches = matcher(doc)\n",
    "matches"
   ]
  },
  {
   "cell_type": "code",
   "execution_count": 40,
   "id": "870ebddd-6e4a-495d-8d04-e1eceddd3242",
   "metadata": {},
   "outputs": [
    {
     "name": "stdout",
     "output_type": "stream",
     "text": [
      "Android X\n"
     ]
    }
   ],
   "source": [
    "for match_id, start, end in matches:\n",
    "    matched_span = doc[start:end]\n",
    "    print(f\"{matched_span.text}\")"
   ]
  },
  {
   "cell_type": "code",
   "execution_count": 41,
   "id": "90d8ecc4-a6df-42e8-bfd0-34cf2b79e3f8",
   "metadata": {},
   "outputs": [],
   "source": [
    "pattern1 = [\n",
    "    {\"TEXT\": \"Android\"},\n",
    "    {\"TEXT\": \"X\"},\n",
    "]\n",
    "pattern2 = [\n",
    "    {\"IS_DIGIT\", True},\n",
    "    {\"LOWER\", \"android\"},\n",
    "    {\"IS_PUNCT\": True, \"OP\": \"?\"},\n",
    "    {\"POS\": \"NOUN\"}\n",
    "]"
   ]
  },
  {
   "cell_type": "code",
   "execution_count": 42,
   "id": "2fd312f0-7ec8-49ea-95fd-6cc591c8d1b6",
   "metadata": {},
   "outputs": [
    {
     "data": {
      "text/plain": [
       "12859657019542931961"
      ]
     },
     "execution_count": 42,
     "metadata": {},
     "output_type": "execute_result"
    }
   ],
   "source": [
    "doc[1].orth"
   ]
  },
  {
   "cell_type": "code",
   "execution_count": 44,
   "id": "e93f278b-7ceb-4fdd-8da7-d26711825160",
   "metadata": {},
   "outputs": [
    {
     "data": {
      "text/plain": [
       "\u001b[0;31mType:\u001b[0m           Vocab\n",
       "\u001b[0;31mString form:\u001b[0m    <spacy.vocab.Vocab object at 0x7f3ae6d35f30>\n",
       "\u001b[0;31mLength:\u001b[0m         787\n",
       "\u001b[0;31mFile:\u001b[0m           ~/.local/share/virtualenvs/cs5293sp22-WqRDOD2N/lib/python3.10/site-packages/spacy/vocab.cpython-310-x86_64-linux-gnu.so\n",
       "\u001b[0;31mDocstring:\u001b[0m     \n",
       "Vocab(lex_attr_getters=None, strings=tuple(), lookups=None, oov_prob=-20., vectors_name=None, writing_system={}, get_noun_chunks=None, **deprecated_kwargs)\n",
       "A look-up table that allows you to access `Lexeme` objects. The `Vocab`\n",
       "    instance also provides access to the `StringStore`, and owns underlying\n",
       "    C-data that is shared between `Doc` objects.\n",
       "\n",
       "    DOCS: https://spacy.io/api/vocab\n",
       "    \n",
       "\u001b[0;31mInit docstring:\u001b[0m\n",
       "Create the vocabulary.\n",
       "\n",
       "lex_attr_getters (dict): A dictionary mapping attribute IDs to\n",
       "    functions to compute them. Defaults to `None`.\n",
       "strings (StringStore): StringStore that maps strings to integers, and\n",
       "    vice versa.\n",
       "lookups (Lookups): Container for large lookup tables and dictionaries.\n",
       "oov_prob (float): Default OOV probability.\n",
       "vectors_name (str): Optional name to identify the vectors table.\n",
       "get_noun_chunks (Optional[Callable[[Union[Doc, Span], Iterator[Tuple[int, int, int]]]]]):\n",
       "    A function that yields base noun phrases used for Doc.noun_chunks.\n"
      ]
     },
     "metadata": {},
     "output_type": "display_data"
    }
   ],
   "source": [
    "nlp.vocab?"
   ]
  },
  {
   "cell_type": "code",
   "execution_count": 46,
   "id": "908a961e-20ab-469f-91fc-6b37b8857e9e",
   "metadata": {},
   "outputs": [
    {
     "data": {
      "text/plain": [
       "3197928453018144401"
      ]
     },
     "execution_count": 46,
     "metadata": {},
     "output_type": "execute_result"
    }
   ],
   "source": [
    "nlp.vocab.strings[\"coffee\"]"
   ]
  },
  {
   "cell_type": "code",
   "execution_count": 50,
   "id": "5d8a0464-8489-46dd-8cc9-f9c0539c6ac3",
   "metadata": {},
   "outputs": [
    {
     "data": {
      "text/plain": [
       "1615321019953645392"
      ]
     },
     "execution_count": 50,
     "metadata": {},
     "output_type": "execute_result"
    }
   ],
   "source": [
    "nlp.vocab.strings[\"coffeeew\"]"
   ]
  },
  {
   "cell_type": "code",
   "execution_count": 48,
   "id": "73eef505-9e9d-41e7-8220-c80c611ae973",
   "metadata": {},
   "outputs": [
    {
     "data": {
      "text/plain": [
       "'coffee'"
      ]
     },
     "execution_count": 48,
     "metadata": {},
     "output_type": "execute_result"
    }
   ],
   "source": [
    "nlp.vocab.strings[3197928453018144401]"
   ]
  },
  {
   "cell_type": "code",
   "execution_count": 49,
   "id": "221de9d8-29bf-413c-b92e-0d60235ba7f3",
   "metadata": {},
   "outputs": [
    {
     "data": {
      "text/plain": [
       "'coffeee'"
      ]
     },
     "execution_count": 49,
     "metadata": {},
     "output_type": "execute_result"
    }
   ],
   "source": [
    "nlp.vocab.strings[12696802605381437503]"
   ]
  },
  {
   "cell_type": "code",
   "execution_count": 64,
   "id": "4037cf56-61d8-4648-ade1-3d81534570a6",
   "metadata": {},
   "outputs": [],
   "source": [
    "doc = nlp(\"I love coffee .com\")"
   ]
  },
  {
   "cell_type": "code",
   "execution_count": 65,
   "id": "d5f44ad5-b1f8-47e5-844f-821bab46aefe",
   "metadata": {},
   "outputs": [
    {
     "name": "stdout",
     "output_type": "stream",
     "text": [
      "coffee\n"
     ]
    }
   ],
   "source": [
    "t = doc[2]\n",
    "print(t)"
   ]
  },
  {
   "cell_type": "code",
   "execution_count": 66,
   "id": "1765246c-6a34-4baf-bcdd-a95827d1a16f",
   "metadata": {},
   "outputs": [
    {
     "data": {
      "text/plain": [
       "\u001b[0;31mType:\u001b[0m        Token\n",
       "\u001b[0;31mString form:\u001b[0m coffee\n",
       "\u001b[0;31mLength:\u001b[0m      6\n",
       "\u001b[0;31mFile:\u001b[0m        ~/.local/share/virtualenvs/cs5293sp22-WqRDOD2N/lib/python3.10/site-packages/spacy/tokens/token.cpython-310-x86_64-linux-gnu.so\n",
       "\u001b[0;31mDocstring:\u001b[0m  \n",
       "An individual token – i.e. a word, punctuation symbol, whitespace,\n",
       "etc.\n",
       "\n",
       "DOCS: https://spacy.io/api/token\n"
      ]
     },
     "metadata": {},
     "output_type": "display_data"
    }
   ],
   "source": [
    "t?"
   ]
  },
  {
   "cell_type": "code",
   "execution_count": 67,
   "id": "e119f44d-967f-426c-8871-69ec35088801",
   "metadata": {},
   "outputs": [
    {
     "data": {
      "text/plain": [
       "3197928453018144401"
      ]
     },
     "execution_count": 67,
     "metadata": {},
     "output_type": "execute_result"
    }
   ],
   "source": [
    "t.orth"
   ]
  },
  {
   "cell_type": "code",
   "execution_count": 68,
   "id": "c8884e2d-3d8d-4c5e-beb2-33910f34c75e",
   "metadata": {},
   "outputs": [],
   "source": [
    "lexeme = nlp.vocab[\"coffee\"]"
   ]
  },
  {
   "cell_type": "code",
   "execution_count": 69,
   "id": "c9f85abb-3b36-4757-ae05-adb975153f69",
   "metadata": {},
   "outputs": [
    {
     "data": {
      "text/plain": [
       "\u001b[0;31mType:\u001b[0m           Lexeme\n",
       "\u001b[0;31mString form:\u001b[0m    <spacy.lexeme.Lexeme object at 0x7f3ab1fb5a00>\n",
       "\u001b[0;31mFile:\u001b[0m           ~/.local/share/virtualenvs/cs5293sp22-WqRDOD2N/lib/python3.10/site-packages/spacy/lexeme.cpython-310-x86_64-linux-gnu.so\n",
       "\u001b[0;31mDocstring:\u001b[0m     \n",
       "Lexeme(Vocab vocab, attr_t orth)\n",
       "An entry in the vocabulary. A `Lexeme` has no string context – it's a\n",
       "    word-type, as opposed to a word token.  It therefore has no part-of-speech\n",
       "    tag, dependency parse, or lemma (lemmatization depends on the\n",
       "    part-of-speech tag).\n",
       "\n",
       "    DOCS: https://spacy.io/api/lexeme\n",
       "    \n",
       "\u001b[0;31mInit docstring:\u001b[0m\n",
       "Create a Lexeme object.\n",
       "\n",
       "vocab (Vocab): The parent vocabulary\n",
       "orth (uint64): The orth id of the lexeme.\n",
       "Returns (Lexeme): The newly constructd object.\n"
      ]
     },
     "metadata": {},
     "output_type": "display_data"
    }
   ],
   "source": [
    "lexeme?"
   ]
  },
  {
   "cell_type": "code",
   "execution_count": 70,
   "id": "fb53dcb6-6934-4302-baca-ec14f63da779",
   "metadata": {},
   "outputs": [],
   "source": [
    "nlp = spacy.blank(\"en\")\n",
    "\n",
    "from spacy.tokens import Doc"
   ]
  },
  {
   "cell_type": "code",
   "execution_count": 71,
   "id": "daf64aa1-4d4f-41de-8c31-87d9a0559833",
   "metadata": {},
   "outputs": [
    {
     "data": {
      "text/plain": [
       "\u001b[0;31mDocstring:\u001b[0m     \n",
       "Doc(Vocab vocab, words=None, spaces=None, user_data=None, *, tags=None, pos=None, morphs=None, lemmas=None, heads=None, deps=None, sent_starts=None, ents=None)\n",
       "A sequence of Token objects. Access sentences and named entities, export\n",
       "    annotations to numpy arrays, losslessly serialize to compressed binary\n",
       "    strings. The `Doc` object holds an array of `TokenC` structs. The\n",
       "    Python-level `Token` and `Span` objects are views of this array, i.e.\n",
       "    they don't own the data themselves.\n",
       "\n",
       "    EXAMPLE:\n",
       "        Construction 1\n",
       "        >>> doc = nlp(u'Some text')\n",
       "\n",
       "        Construction 2\n",
       "        >>> from spacy.tokens import Doc\n",
       "        >>> doc = Doc(nlp.vocab, words=[\"hello\", \"world\", \"!\"], spaces=[True, False, False])\n",
       "\n",
       "    DOCS: https://spacy.io/api/doc\n",
       "    \n",
       "\u001b[0;31mInit docstring:\u001b[0m\n",
       "Create a Doc object.\n",
       "\n",
       "vocab (Vocab): A vocabulary object, which must match any models you\n",
       "    want to use (e.g. tokenizer, parser, entity recognizer).\n",
       "words (Optional[List[Union[str, int]]]): A list of unicode strings or\n",
       "    hash values to add to the document as words. If `None`, defaults to\n",
       "    empty list.\n",
       "spaces (Optional[List[bool]]): A list of boolean values, of the same\n",
       "    length as `words`. `True` means that the word is followed by a space,\n",
       "    `False` means it is not. If `None`, defaults to `[True]*len(words)`\n",
       "user_data (dict or None): Optional extra data to attach to the Doc.\n",
       "tags (Optional[List[str]]): A list of unicode strings, of the same\n",
       "    length as words, to assign as token.tag. Defaults to None.\n",
       "pos (Optional[List[str]]): A list of unicode strings, of the same\n",
       "    length as words, to assign as token.pos. Defaults to None.\n",
       "morphs (Optional[List[str]]): A list of unicode strings, of the same\n",
       "    length as words, to assign as token.morph. Defaults to None.\n",
       "lemmas (Optional[List[str]]): A list of unicode strings, of the same\n",
       "    length as words, to assign as token.lemma. Defaults to None.\n",
       "heads (Optional[List[int]]): A list of values, of the same length as\n",
       "    words, to assign as heads. Head indices are the position of the\n",
       "    head in the doc. Defaults to None.\n",
       "deps (Optional[List[str]]): A list of unicode strings, of the same\n",
       "    length as words, to assign as token.dep. Defaults to None.\n",
       "sent_starts (Optional[List[Union[bool, None]]]): A list of values, of\n",
       "    the same length as words, to assign as token.is_sent_start. Will be\n",
       "    overridden by heads if heads is provided. Defaults to None.\n",
       "ents (Optional[List[str]]): A list of unicode strings, of the same\n",
       "    length as words, as IOB tags to assign as token.ent_iob and\n",
       "    token.ent_type. Defaults to None.\n",
       "\n",
       "DOCS: https://spacy.io/api/doc#init\n",
       "\u001b[0;31mFile:\u001b[0m           ~/.local/share/virtualenvs/cs5293sp22-WqRDOD2N/lib/python3.10/site-packages/spacy/tokens/doc.cpython-310-x86_64-linux-gnu.so\n",
       "\u001b[0;31mType:\u001b[0m           type\n",
       "\u001b[0;31mSubclasses:\u001b[0m     \n"
      ]
     },
     "metadata": {},
     "output_type": "display_data"
    }
   ],
   "source": [
    "Doc?"
   ]
  },
  {
   "cell_type": "code",
   "execution_count": 73,
   "id": "c0299259-9fae-4f83-b6f6-037bf146da5e",
   "metadata": {},
   "outputs": [],
   "source": [
    "words = [\"Go\", \"Oklahoma\", \"Sooners\", \"!\"]\n",
    "spaces = [True, True, True, False]"
   ]
  },
  {
   "cell_type": "code",
   "execution_count": 74,
   "id": "43acef4d-f75a-492e-8600-99868f7e4e65",
   "metadata": {},
   "outputs": [],
   "source": [
    "doc = Doc(nlp.vocab, words=words, spaces=spaces)"
   ]
  },
  {
   "cell_type": "code",
   "execution_count": 75,
   "id": "a577bbfa-3f2f-4b0e-8484-4cc25e2a7c24",
   "metadata": {},
   "outputs": [
    {
     "name": "stdout",
     "output_type": "stream",
     "text": [
      "Go\n",
      "Oklahoma\n",
      "Sooners\n",
      "!\n"
     ]
    }
   ],
   "source": [
    "for token in doc:\n",
    "    print(token)"
   ]
  },
  {
   "cell_type": "code",
   "execution_count": 76,
   "id": "d2728b80-8897-4adf-9ed4-2c01617b1be8",
   "metadata": {},
   "outputs": [
    {
     "data": {
      "text/plain": [
       "Oklahoma Sooners"
      ]
     },
     "execution_count": 76,
     "metadata": {},
     "output_type": "execute_result"
    }
   ],
   "source": [
    "doc[1:3]"
   ]
  },
  {
   "cell_type": "code",
   "execution_count": 77,
   "id": "13599c3b-88d4-46f1-938c-35e430a6fc30",
   "metadata": {},
   "outputs": [],
   "source": [
    "from spacy.tokens import Span"
   ]
  },
  {
   "cell_type": "code",
   "execution_count": 78,
   "id": "2d4af3d0-e46c-40e6-b036-c4d4e05f0564",
   "metadata": {},
   "outputs": [
    {
     "data": {
      "text/plain": [
       "\u001b[0;31mInit signature:\u001b[0m \u001b[0mSpan\u001b[0m\u001b[0;34m(\u001b[0m\u001b[0mself\u001b[0m\u001b[0;34m,\u001b[0m \u001b[0;34m/\u001b[0m\u001b[0;34m,\u001b[0m \u001b[0;34m*\u001b[0m\u001b[0margs\u001b[0m\u001b[0;34m,\u001b[0m \u001b[0;34m**\u001b[0m\u001b[0mkwargs\u001b[0m\u001b[0;34m)\u001b[0m\u001b[0;34m\u001b[0m\u001b[0;34m\u001b[0m\u001b[0m\n",
       "\u001b[0;31mDocstring:\u001b[0m     \n",
       "A slice from a Doc object.\n",
       "\n",
       "DOCS: https://spacy.io/api/span\n",
       "\u001b[0;31mFile:\u001b[0m           ~/.local/share/virtualenvs/cs5293sp22-WqRDOD2N/lib/python3.10/site-packages/spacy/tokens/span.cpython-310-x86_64-linux-gnu.so\n",
       "\u001b[0;31mType:\u001b[0m           type\n",
       "\u001b[0;31mSubclasses:\u001b[0m     \n"
      ]
     },
     "metadata": {},
     "output_type": "display_data"
    }
   ],
   "source": [
    "Span?"
   ]
  },
  {
   "cell_type": "code",
   "execution_count": 79,
   "id": "f842e200-889a-4e59-a900-b9f792ae83e0",
   "metadata": {},
   "outputs": [],
   "source": [
    "span = Span(doc, 1, 3, label=\"University Team\")"
   ]
  },
  {
   "cell_type": "code",
   "execution_count": 83,
   "id": "1ed58ebf-8bd0-4c64-9236-92c55afc8f65",
   "metadata": {},
   "outputs": [
    {
     "name": "stdout",
     "output_type": "stream",
     "text": [
      "Oklahoma Sooners University Team\n"
     ]
    }
   ],
   "source": [
    "doc.ents = [span]\n",
    "for ent in doc.ents:\n",
    "    print(ent.text, ent.label_)"
   ]
  },
  {
   "cell_type": "code",
   "execution_count": null,
   "id": "9026bd6d-196d-400f-841d-4328719ddd77",
   "metadata": {},
   "outputs": [],
   "source": []
  }
 ],
 "metadata": {
  "kernelspec": {
   "display_name": "Python 3 (ipykernel)",
   "language": "python",
   "name": "python3"
  },
  "language_info": {
   "codemirror_mode": {
    "name": "ipython",
    "version": 3
   },
   "file_extension": ".py",
   "mimetype": "text/x-python",
   "name": "python",
   "nbconvert_exporter": "python",
   "pygments_lexer": "ipython3",
   "version": "3.10.2"
  }
 },
 "nbformat": 4,
 "nbformat_minor": 5
}
