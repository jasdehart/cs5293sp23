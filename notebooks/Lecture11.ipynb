{
 "cells": [
  {
   "cell_type": "markdown",
   "id": "859b7bcf-e054-413c-9160-94b55469db79",
   "metadata": {},
   "source": [
    "## Intro to Pandas"
   ]
  },
  {
   "cell_type": "code",
   "execution_count": 1,
   "id": "1afe88a0-49a3-4b59-8bb2-e1b7a5de1065",
   "metadata": {
    "tags": []
   },
   "outputs": [],
   "source": [
    "import pandas as pd"
   ]
  },
  {
   "cell_type": "code",
   "execution_count": 2,
   "id": "fc36194b-b671-4882-b2d0-22bbdf561c2d",
   "metadata": {
    "tags": []
   },
   "outputs": [
    {
     "name": "stderr",
     "output_type": "stream",
     "text": [
      "/tmp/ipykernel_1442/1773785892.py:1: FutureWarning: The default dtype for empty Series will be 'object' instead of 'float64' in a future version. Specify a dtype explicitly to silence this warning.\n",
      "  a = pd.Series()\n"
     ]
    }
   ],
   "source": [
    "a = pd.Series()"
   ]
  },
  {
   "cell_type": "code",
   "execution_count": 3,
   "id": "10db17eb-eeec-4ad6-bedb-3022c19679e1",
   "metadata": {
    "tags": []
   },
   "outputs": [],
   "source": [
    "temperatures = [5, 62, 53, 63,99, 20]\n",
    "series = pd.Series(temperatures)"
   ]
  },
  {
   "cell_type": "code",
   "execution_count": 4,
   "id": "a26be4c0-4d11-49d8-b57d-bdb4f8efe254",
   "metadata": {
    "tags": []
   },
   "outputs": [
    {
     "data": {
      "text/plain": [
       "0     5\n",
       "1    62\n",
       "2    53\n",
       "3    63\n",
       "4    99\n",
       "5    20\n",
       "dtype: int64"
      ]
     },
     "execution_count": 4,
     "metadata": {},
     "output_type": "execute_result"
    }
   ],
   "source": [
    "series"
   ]
  },
  {
   "cell_type": "code",
   "execution_count": 5,
   "id": "10896791-defd-4247-9366-ac41f159dbc8",
   "metadata": {
    "tags": []
   },
   "outputs": [
    {
     "data": {
      "text/plain": [
       "pandas.core.series.Series"
      ]
     },
     "execution_count": 5,
     "metadata": {},
     "output_type": "execute_result"
    }
   ],
   "source": [
    "type(series)"
   ]
  },
  {
   "cell_type": "code",
   "execution_count": 6,
   "id": "95c98f2f-da84-43c4-9fb6-ea05813344b1",
   "metadata": {
    "tags": []
   },
   "outputs": [
    {
     "data": {
      "text/plain": [
       "count     6.000000\n",
       "mean     50.333333\n",
       "std      33.607539\n",
       "min       5.000000\n",
       "25%      28.250000\n",
       "50%      57.500000\n",
       "75%      62.750000\n",
       "max      99.000000\n",
       "dtype: float64"
      ]
     },
     "execution_count": 6,
     "metadata": {},
     "output_type": "execute_result"
    }
   ],
   "source": [
    "series.describe()"
   ]
  },
  {
   "cell_type": "code",
   "execution_count": 7,
   "id": "dc7413e9-073d-465e-a4e5-5089ec011389",
   "metadata": {
    "tags": []
   },
   "outputs": [
    {
     "data": {
      "text/plain": [
       "array([ 5, 62, 53, 63, 99, 20])"
      ]
     },
     "execution_count": 7,
     "metadata": {},
     "output_type": "execute_result"
    }
   ],
   "source": [
    "series.unique()"
   ]
  },
  {
   "cell_type": "code",
   "execution_count": 8,
   "id": "dd5d4df0-0896-4a64-a780-ee84c43904da",
   "metadata": {
    "tags": []
   },
   "outputs": [
    {
     "data": {
      "text/plain": [
       "99"
      ]
     },
     "execution_count": 8,
     "metadata": {},
     "output_type": "execute_result"
    }
   ],
   "source": [
    "series[4]"
   ]
  },
  {
   "cell_type": "code",
   "execution_count": 9,
   "id": "e5d06075-536d-4012-8586-75295fc9aced",
   "metadata": {
    "tags": []
   },
   "outputs": [
    {
     "data": {
      "text/plain": [
       "0      6\n",
       "1     63\n",
       "2     54\n",
       "3     64\n",
       "4    100\n",
       "5     21\n",
       "dtype: int64"
      ]
     },
     "execution_count": 9,
     "metadata": {},
     "output_type": "execute_result"
    }
   ],
   "source": [
    "series + 1"
   ]
  },
  {
   "cell_type": "code",
   "execution_count": 10,
   "id": "b8473ae4-192a-4288-be13-94a65bff3121",
   "metadata": {
    "tags": []
   },
   "outputs": [
    {
     "data": {
      "text/plain": [
       "0     5\n",
       "5    20\n",
       "2    53\n",
       "1    62\n",
       "3    63\n",
       "4    99\n",
       "dtype: int64"
      ]
     },
     "execution_count": 10,
     "metadata": {},
     "output_type": "execute_result"
    }
   ],
   "source": [
    "series.sort_values()"
   ]
  },
  {
   "cell_type": "code",
   "execution_count": 11,
   "id": "5c552709-3b4e-4e13-a3ff-7107473581af",
   "metadata": {
    "tags": []
   },
   "outputs": [
    {
     "data": {
      "text/plain": [
       "0     NaN\n",
       "1     NaN\n",
       "2     NaN\n",
       "3     NaN\n",
       "4    99.0\n",
       "5     NaN\n",
       "dtype: float64"
      ]
     },
     "execution_count": 11,
     "metadata": {},
     "output_type": "execute_result"
    }
   ],
   "source": [
    "series.where(series > 70)"
   ]
  },
  {
   "cell_type": "code",
   "execution_count": 12,
   "id": "f4a49924-ad93-4227-a67b-fc9c21f77692",
   "metadata": {
    "tags": []
   },
   "outputs": [
    {
     "data": {
      "text/plain": [
       "0     5.0\n",
       "1    62.0\n",
       "2    53.0\n",
       "3    63.0\n",
       "4     NaN\n",
       "5    20.0\n",
       "dtype: float64"
      ]
     },
     "execution_count": 12,
     "metadata": {},
     "output_type": "execute_result"
    }
   ],
   "source": [
    "series.mask(series >69)"
   ]
  },
  {
   "cell_type": "code",
   "execution_count": 13,
   "id": "568c2607-3c15-4042-85eb-9df17593c6da",
   "metadata": {
    "tags": []
   },
   "outputs": [
    {
     "data": {
      "text/plain": [
       "99"
      ]
     },
     "execution_count": 13,
     "metadata": {},
     "output_type": "execute_result"
    }
   ],
   "source": [
    "series.pop(4)"
   ]
  },
  {
   "cell_type": "code",
   "execution_count": 14,
   "id": "495de5d3-936b-49c0-a9dd-6312127ff525",
   "metadata": {
    "tags": []
   },
   "outputs": [
    {
     "data": {
      "text/plain": [
       "0     5\n",
       "1    62\n",
       "2    53\n",
       "3    63\n",
       "5    20\n",
       "dtype: int64"
      ]
     },
     "execution_count": 14,
     "metadata": {},
     "output_type": "execute_result"
    }
   ],
   "source": [
    "series"
   ]
  },
  {
   "cell_type": "code",
   "execution_count": 18,
   "id": "b9d8fc33-c715-4c46-93ec-da78b03a114f",
   "metadata": {
    "tags": []
   },
   "outputs": [],
   "source": [
    "series = series.drop(0)"
   ]
  },
  {
   "cell_type": "code",
   "execution_count": 19,
   "id": "105e4053-8515-462f-8434-62d8e4601ad8",
   "metadata": {
    "tags": []
   },
   "outputs": [],
   "source": [
    "series.reset_index(drop = True, inplace = True)"
   ]
  },
  {
   "cell_type": "code",
   "execution_count": 20,
   "id": "7f560a7a-1796-4b0b-ae91-207a08f142e7",
   "metadata": {
    "tags": []
   },
   "outputs": [
    {
     "data": {
      "text/plain": [
       "0    62\n",
       "1    53\n",
       "2    63\n",
       "3    20\n",
       "dtype: int64"
      ]
     },
     "execution_count": 20,
     "metadata": {},
     "output_type": "execute_result"
    }
   ],
   "source": [
    "series"
   ]
  },
  {
   "cell_type": "code",
   "execution_count": 22,
   "id": "4c845305-87f2-4213-aca6-04057d976013",
   "metadata": {
    "tags": []
   },
   "outputs": [
    {
     "data": {
      "text/plain": [
       "0    68\n",
       "1    62\n",
       "2    26\n",
       "3    64\n",
       "4    88\n",
       "5    17\n",
       "6    67\n",
       "7    17\n",
       "8    30\n",
       "dtype: int64"
      ]
     },
     "execution_count": 22,
     "metadata": {},
     "output_type": "execute_result"
    }
   ],
   "source": [
    "import numpy as np\n",
    "\n",
    "temp = np.random.randint(0,100, size=9)\n",
    "series2 = pd.Series(temp)\n",
    "series2"
   ]
  },
  {
   "cell_type": "code",
   "execution_count": 23,
   "id": "88fc7ab0-c2dd-433b-86f6-7c1f27e09d27",
   "metadata": {
    "tags": []
   },
   "outputs": [
    {
     "name": "stdout",
     "output_type": "stream",
     "text": [
      "The slowest run took 66.22 times longer than the fastest. This could mean that an intermediate result is being cached.\n",
      "5.31 ms ± 11.4 ms per loop (mean ± std. dev. of 7 runs, 1 loop each)\n"
     ]
    }
   ],
   "source": [
    "%timeit -n1 series+series2"
   ]
  },
  {
   "cell_type": "code",
   "execution_count": 24,
   "id": "80c05feb-6261-4260-8427-ecfa24a016c3",
   "metadata": {
    "tags": []
   },
   "outputs": [
    {
     "data": {
      "text/plain": [
       "0    130.0\n",
       "1    115.0\n",
       "2     89.0\n",
       "3     84.0\n",
       "4      NaN\n",
       "5      NaN\n",
       "6      NaN\n",
       "7      NaN\n",
       "8      NaN\n",
       "dtype: float64"
      ]
     },
     "execution_count": 24,
     "metadata": {},
     "output_type": "execute_result"
    }
   ],
   "source": [
    "series+series2"
   ]
  },
  {
   "cell_type": "code",
   "execution_count": 25,
   "id": "d365028d-12cc-42c9-b25b-c1ba464915e3",
   "metadata": {
    "tags": []
   },
   "outputs": [],
   "source": [
    "%timeit -q series.add(series2)"
   ]
  },
  {
   "cell_type": "code",
   "execution_count": 26,
   "id": "8d85aeaa-473f-4dbe-90c0-99a04f0ab557",
   "metadata": {
    "tags": []
   },
   "outputs": [
    {
     "name": "stdout",
     "output_type": "stream",
     "text": [
      "458 µs ± 1.35 µs per loop (mean ± std. dev. of 2 runs, 1,000 loops each)\n"
     ]
    }
   ],
   "source": [
    "%timeit -r2 series*series2"
   ]
  },
  {
   "cell_type": "code",
   "execution_count": 27,
   "id": "a6233e15-752b-4509-a1a6-5c1532e199ca",
   "metadata": {
    "tags": []
   },
   "outputs": [
    {
     "name": "stdout",
     "output_type": "stream",
     "text": [
      "343.27 µs ± 31.272 µs per loop (mean ± std. dev. of 7 runs, 1,000 loops each)\n"
     ]
    }
   ],
   "source": [
    "%timeit -p5 series.mul(series2)"
   ]
  },
  {
   "cell_type": "code",
   "execution_count": 28,
   "id": "91bbc12a-0c02-4951-9412-7a76faf465a0",
   "metadata": {
    "tags": []
   },
   "outputs": [
    {
     "data": {
      "text/plain": [
       "49.5"
      ]
     },
     "execution_count": 28,
     "metadata": {},
     "output_type": "execute_result"
    }
   ],
   "source": [
    "series.mean()"
   ]
  },
  {
   "cell_type": "code",
   "execution_count": 29,
   "id": "9b41ede0-79dd-4756-a013-8765862b07d5",
   "metadata": {
    "tags": []
   },
   "outputs": [
    {
     "data": {
      "text/plain": [
       "48.77777777777778"
      ]
     },
     "execution_count": 29,
     "metadata": {},
     "output_type": "execute_result"
    }
   ],
   "source": [
    "series2.mean()"
   ]
  },
  {
   "cell_type": "code",
   "execution_count": 30,
   "id": "99d20d2b-4fb4-4f38-b71e-81e403da0108",
   "metadata": {
    "tags": []
   },
   "outputs": [
    {
     "data": {
      "text/plain": [
       "20.174241001832016"
      ]
     },
     "execution_count": 30,
     "metadata": {},
     "output_type": "execute_result"
    }
   ],
   "source": [
    "series.std()"
   ]
  },
  {
   "cell_type": "code",
   "execution_count": 31,
   "id": "41ffd3aa-02f7-48ae-98e5-6b40f2c6b05a",
   "metadata": {
    "tags": []
   },
   "outputs": [
    {
     "data": {
      "text/plain": [
       "439"
      ]
     },
     "execution_count": 31,
     "metadata": {},
     "output_type": "execute_result"
    }
   ],
   "source": [
    "series2.sum()"
   ]
  },
  {
   "cell_type": "code",
   "execution_count": 32,
   "id": "9b3998ba-dfe4-4ab7-80e1-da3695b99e9d",
   "metadata": {
    "tags": []
   },
   "outputs": [
    {
     "data": {
      "text/plain": [
       "407.0"
      ]
     },
     "execution_count": 32,
     "metadata": {},
     "output_type": "execute_result"
    }
   ],
   "source": [
    "series.var()"
   ]
  },
  {
   "cell_type": "code",
   "execution_count": 33,
   "id": "9b8d70c0-ed0a-4264-a308-74c23c509454",
   "metadata": {
    "tags": []
   },
   "outputs": [
    {
     "data": {
      "text/plain": [
       "count     4.000000\n",
       "mean     49.500000\n",
       "std      20.174241\n",
       "min      20.000000\n",
       "25%      44.750000\n",
       "50%      57.500000\n",
       "75%      62.250000\n",
       "max      63.000000\n",
       "dtype: float64"
      ]
     },
     "execution_count": 33,
     "metadata": {},
     "output_type": "execute_result"
    }
   ],
   "source": [
    "series.describe()"
   ]
  },
  {
   "cell_type": "markdown",
   "id": "d3299f26-308d-43eb-be46-b89e927ed0af",
   "metadata": {},
   "source": [
    "## Dataframes"
   ]
  },
  {
   "cell_type": "code",
   "execution_count": 35,
   "id": "d900cb64-8679-4600-b9de-2f51314af4c3",
   "metadata": {
    "tags": []
   },
   "outputs": [],
   "source": [
    "day = pd.Series(np.arange(1,10))\n",
    "\n",
    "df = pd.DataFrame({ 'Day': day, 'Temp': temp})"
   ]
  },
  {
   "cell_type": "code",
   "execution_count": 36,
   "id": "651c6ec6-398c-4f3d-984d-98bf2df2c64a",
   "metadata": {
    "tags": []
   },
   "outputs": [
    {
     "data": {
      "text/html": [
       "<div>\n",
       "<style scoped>\n",
       "    .dataframe tbody tr th:only-of-type {\n",
       "        vertical-align: middle;\n",
       "    }\n",
       "\n",
       "    .dataframe tbody tr th {\n",
       "        vertical-align: top;\n",
       "    }\n",
       "\n",
       "    .dataframe thead th {\n",
       "        text-align: right;\n",
       "    }\n",
       "</style>\n",
       "<table border=\"1\" class=\"dataframe\">\n",
       "  <thead>\n",
       "    <tr style=\"text-align: right;\">\n",
       "      <th></th>\n",
       "      <th>Day</th>\n",
       "      <th>Temp</th>\n",
       "    </tr>\n",
       "  </thead>\n",
       "  <tbody>\n",
       "    <tr>\n",
       "      <th>0</th>\n",
       "      <td>1</td>\n",
       "      <td>68</td>\n",
       "    </tr>\n",
       "    <tr>\n",
       "      <th>1</th>\n",
       "      <td>2</td>\n",
       "      <td>62</td>\n",
       "    </tr>\n",
       "    <tr>\n",
       "      <th>2</th>\n",
       "      <td>3</td>\n",
       "      <td>26</td>\n",
       "    </tr>\n",
       "    <tr>\n",
       "      <th>3</th>\n",
       "      <td>4</td>\n",
       "      <td>64</td>\n",
       "    </tr>\n",
       "    <tr>\n",
       "      <th>4</th>\n",
       "      <td>5</td>\n",
       "      <td>88</td>\n",
       "    </tr>\n",
       "    <tr>\n",
       "      <th>5</th>\n",
       "      <td>6</td>\n",
       "      <td>17</td>\n",
       "    </tr>\n",
       "    <tr>\n",
       "      <th>6</th>\n",
       "      <td>7</td>\n",
       "      <td>67</td>\n",
       "    </tr>\n",
       "    <tr>\n",
       "      <th>7</th>\n",
       "      <td>8</td>\n",
       "      <td>17</td>\n",
       "    </tr>\n",
       "    <tr>\n",
       "      <th>8</th>\n",
       "      <td>9</td>\n",
       "      <td>30</td>\n",
       "    </tr>\n",
       "  </tbody>\n",
       "</table>\n",
       "</div>"
      ],
      "text/plain": [
       "   Day  Temp\n",
       "0    1    68\n",
       "1    2    62\n",
       "2    3    26\n",
       "3    4    64\n",
       "4    5    88\n",
       "5    6    17\n",
       "6    7    67\n",
       "7    8    17\n",
       "8    9    30"
      ]
     },
     "execution_count": 36,
     "metadata": {},
     "output_type": "execute_result"
    }
   ],
   "source": [
    "df"
   ]
  },
  {
   "cell_type": "code",
   "execution_count": 37,
   "id": "90e90030-cab6-49b9-b243-a4af98c42c35",
   "metadata": {
    "tags": []
   },
   "outputs": [
    {
     "data": {
      "text/html": [
       "<div>\n",
       "<style scoped>\n",
       "    .dataframe tbody tr th:only-of-type {\n",
       "        vertical-align: middle;\n",
       "    }\n",
       "\n",
       "    .dataframe tbody tr th {\n",
       "        vertical-align: top;\n",
       "    }\n",
       "\n",
       "    .dataframe thead th {\n",
       "        text-align: right;\n",
       "    }\n",
       "</style>\n",
       "<table border=\"1\" class=\"dataframe\">\n",
       "  <thead>\n",
       "    <tr style=\"text-align: right;\">\n",
       "      <th></th>\n",
       "      <th>Day</th>\n",
       "      <th>Temp</th>\n",
       "    </tr>\n",
       "  </thead>\n",
       "  <tbody>\n",
       "    <tr>\n",
       "      <th>count</th>\n",
       "      <td>9.000000</td>\n",
       "      <td>9.000000</td>\n",
       "    </tr>\n",
       "    <tr>\n",
       "      <th>mean</th>\n",
       "      <td>5.000000</td>\n",
       "      <td>48.777778</td>\n",
       "    </tr>\n",
       "    <tr>\n",
       "      <th>std</th>\n",
       "      <td>2.738613</td>\n",
       "      <td>26.309588</td>\n",
       "    </tr>\n",
       "    <tr>\n",
       "      <th>min</th>\n",
       "      <td>1.000000</td>\n",
       "      <td>17.000000</td>\n",
       "    </tr>\n",
       "    <tr>\n",
       "      <th>25%</th>\n",
       "      <td>3.000000</td>\n",
       "      <td>26.000000</td>\n",
       "    </tr>\n",
       "    <tr>\n",
       "      <th>50%</th>\n",
       "      <td>5.000000</td>\n",
       "      <td>62.000000</td>\n",
       "    </tr>\n",
       "    <tr>\n",
       "      <th>75%</th>\n",
       "      <td>7.000000</td>\n",
       "      <td>67.000000</td>\n",
       "    </tr>\n",
       "    <tr>\n",
       "      <th>max</th>\n",
       "      <td>9.000000</td>\n",
       "      <td>88.000000</td>\n",
       "    </tr>\n",
       "  </tbody>\n",
       "</table>\n",
       "</div>"
      ],
      "text/plain": [
       "            Day       Temp\n",
       "count  9.000000   9.000000\n",
       "mean   5.000000  48.777778\n",
       "std    2.738613  26.309588\n",
       "min    1.000000  17.000000\n",
       "25%    3.000000  26.000000\n",
       "50%    5.000000  62.000000\n",
       "75%    7.000000  67.000000\n",
       "max    9.000000  88.000000"
      ]
     },
     "execution_count": 37,
     "metadata": {},
     "output_type": "execute_result"
    }
   ],
   "source": [
    "df.describe()"
   ]
  },
  {
   "cell_type": "code",
   "execution_count": 38,
   "id": "7d989e3d-1f37-4397-b2ff-e8947136589a",
   "metadata": {
    "tags": []
   },
   "outputs": [
    {
     "data": {
      "text/html": [
       "<div>\n",
       "<style scoped>\n",
       "    .dataframe tbody tr th:only-of-type {\n",
       "        vertical-align: middle;\n",
       "    }\n",
       "\n",
       "    .dataframe tbody tr th {\n",
       "        vertical-align: top;\n",
       "    }\n",
       "\n",
       "    .dataframe thead th {\n",
       "        text-align: right;\n",
       "    }\n",
       "</style>\n",
       "<table border=\"1\" class=\"dataframe\">\n",
       "  <thead>\n",
       "    <tr style=\"text-align: right;\">\n",
       "      <th></th>\n",
       "      <th>_id</th>\n",
       "      <th>retweetCount</th>\n",
       "      <th>text</th>\n",
       "      <th>created_at</th>\n",
       "      <th>user</th>\n",
       "      <th>action</th>\n",
       "      <th>gnip</th>\n",
       "      <th>location</th>\n",
       "      <th>geo</th>\n",
       "    </tr>\n",
       "  </thead>\n",
       "  <tbody>\n",
       "    <tr>\n",
       "      <th>0</th>\n",
       "      <td>302658340964663296</td>\n",
       "      <td>0</td>\n",
       "      <td>\" His palms are sweaty, knees weak, arms are h...</td>\n",
       "      <td>{'$date': 1360994346000}</td>\n",
       "      <td>{'utc_offset': '-18000', 'statuses_count': 254...</td>\n",
       "      <td>post</td>\n",
       "      <td>{'matching_rules': [{'tag': None, 'value': 'vo...</td>\n",
       "      <td>NaN</td>\n",
       "      <td>NaN</td>\n",
       "    </tr>\n",
       "    <tr>\n",
       "      <th>1</th>\n",
       "      <td>302658372166094848</td>\n",
       "      <td>0</td>\n",
       "      <td>@LaycNichole @tantanns that's so gross. Haha k...</td>\n",
       "      <td>{'$date': 1360994353000}</td>\n",
       "      <td>{'utc_offset': '-28800', 'statuses_count': 163...</td>\n",
       "      <td>post</td>\n",
       "      <td>{'matching_rules': [{'tag': None, 'value': 'vo...</td>\n",
       "      <td>NaN</td>\n",
       "      <td>NaN</td>\n",
       "    </tr>\n",
       "    <tr>\n",
       "      <th>2</th>\n",
       "      <td>302658375089532928</td>\n",
       "      <td>0</td>\n",
       "      <td>Cuando una chica llama a su novio “papi”, me d...</td>\n",
       "      <td>{'$date': 1360994354000}</td>\n",
       "      <td>{'statuses_count': 5666, 'description': 'follo...</td>\n",
       "      <td>post</td>\n",
       "      <td>{'matching_rules': [{'tag': None, 'value': 'vo...</td>\n",
       "      <td>NaN</td>\n",
       "      <td>NaN</td>\n",
       "    </tr>\n",
       "    <tr>\n",
       "      <th>3</th>\n",
       "      <td>302658377811632128</td>\n",
       "      <td>0</td>\n",
       "      <td>@RocioCalabrese jajajajjajajaj salgo re pasado...</td>\n",
       "      <td>{'$date': 1360994355000}</td>\n",
       "      <td>{'statuses_count': 3118, 'friends_count': 76, ...</td>\n",
       "      <td>post</td>\n",
       "      <td>{'matching_rules': [{'tag': None, 'value': 'vo...</td>\n",
       "      <td>NaN</td>\n",
       "      <td>NaN</td>\n",
       "    </tr>\n",
       "    <tr>\n",
       "      <th>4</th>\n",
       "      <td>302658383725600768</td>\n",
       "      <td>0</td>\n",
       "      <td>His palms are sweaty, knees weak, arms are hea...</td>\n",
       "      <td>{'$date': 1360994356000}</td>\n",
       "      <td>{'utc_offset': '-28800', 'statuses_count': 903...</td>\n",
       "      <td>post</td>\n",
       "      <td>{'matching_rules': [{'tag': None, 'value': 'vo...</td>\n",
       "      <td>NaN</td>\n",
       "      <td>NaN</td>\n",
       "    </tr>\n",
       "    <tr>\n",
       "      <th>...</th>\n",
       "      <td>...</td>\n",
       "      <td>...</td>\n",
       "      <td>...</td>\n",
       "      <td>...</td>\n",
       "      <td>...</td>\n",
       "      <td>...</td>\n",
       "      <td>...</td>\n",
       "      <td>...</td>\n",
       "      <td>...</td>\n",
       "    </tr>\n",
       "    <tr>\n",
       "      <th>10967</th>\n",
       "      <td>302826725140750336</td>\n",
       "      <td>0</td>\n",
       "      <td>If you cant clean up vomit you arent ready for...</td>\n",
       "      <td>{'$date': 1361034492000}</td>\n",
       "      <td>{'utc_offset': '-14400', 'statuses_count': 125...</td>\n",
       "      <td>post</td>\n",
       "      <td>{'matching_rules': [{'tag': None, 'value': 'vo...</td>\n",
       "      <td>NaN</td>\n",
       "      <td>NaN</td>\n",
       "    </tr>\n",
       "    <tr>\n",
       "      <th>10968</th>\n",
       "      <td>302826725627281408</td>\n",
       "      <td>0</td>\n",
       "      <td>A mãe ta fazendo doce de goiaba, só o cheiro j...</td>\n",
       "      <td>{'$date': 1361034492000}</td>\n",
       "      <td>{'utc_offset': '-36000', 'statuses_count': 239...</td>\n",
       "      <td>post</td>\n",
       "      <td>{'matching_rules': [{'tag': None, 'value': 'vo...</td>\n",
       "      <td>NaN</td>\n",
       "      <td>NaN</td>\n",
       "    </tr>\n",
       "    <tr>\n",
       "      <th>10969</th>\n",
       "      <td>302826734062010368</td>\n",
       "      <td>0</td>\n",
       "      <td>minha mãe comprou uma caixa de almôndegas, aí ...</td>\n",
       "      <td>{'$date': 1361034494000}</td>\n",
       "      <td>{'utc_offset': '-10800', 'hashtags': [], 'stat...</td>\n",
       "      <td>post</td>\n",
       "      <td>{'matching_rules': [{'tag': None, 'value': 'vo...</td>\n",
       "      <td>NaN</td>\n",
       "      <td>NaN</td>\n",
       "    </tr>\n",
       "    <tr>\n",
       "      <th>10970</th>\n",
       "      <td>302826742278651904</td>\n",
       "      <td>0</td>\n",
       "      <td>That sour plum always help me to 消化 so that I ...</td>\n",
       "      <td>{'$date': 1361034496000}</td>\n",
       "      <td>{'utc_offset': '-32400', 'statuses_count': 329...</td>\n",
       "      <td>post</td>\n",
       "      <td>{'matching_rules': [{'tag': None, 'value': 'vo...</td>\n",
       "      <td>NaN</td>\n",
       "      <td>NaN</td>\n",
       "    </tr>\n",
       "    <tr>\n",
       "      <th>10971</th>\n",
       "      <td>302826768853786624</td>\n",
       "      <td>95</td>\n",
       "      <td>RT @Re_Conchudas: Pibes histericos #asco #vomi...</td>\n",
       "      <td>{'$date': 1361034502000}</td>\n",
       "      <td>{'utc_offset': '-14400', 'statuses_count': 146...</td>\n",
       "      <td>share</td>\n",
       "      <td>{'matching_rules': [{'tag': None, 'value': 'vo...</td>\n",
       "      <td>NaN</td>\n",
       "      <td>NaN</td>\n",
       "    </tr>\n",
       "  </tbody>\n",
       "</table>\n",
       "<p>10972 rows × 9 columns</p>\n",
       "</div>"
      ],
      "text/plain": [
       "                      _id  retweetCount  \\\n",
       "0      302658340964663296             0   \n",
       "1      302658372166094848             0   \n",
       "2      302658375089532928             0   \n",
       "3      302658377811632128             0   \n",
       "4      302658383725600768             0   \n",
       "...                   ...           ...   \n",
       "10967  302826725140750336             0   \n",
       "10968  302826725627281408             0   \n",
       "10969  302826734062010368             0   \n",
       "10970  302826742278651904             0   \n",
       "10971  302826768853786624            95   \n",
       "\n",
       "                                                    text  \\\n",
       "0      \" His palms are sweaty, knees weak, arms are h...   \n",
       "1      @LaycNichole @tantanns that's so gross. Haha k...   \n",
       "2      Cuando una chica llama a su novio “papi”, me d...   \n",
       "3      @RocioCalabrese jajajajjajajaj salgo re pasado...   \n",
       "4      His palms are sweaty, knees weak, arms are hea...   \n",
       "...                                                  ...   \n",
       "10967  If you cant clean up vomit you arent ready for...   \n",
       "10968  A mãe ta fazendo doce de goiaba, só o cheiro j...   \n",
       "10969  minha mãe comprou uma caixa de almôndegas, aí ...   \n",
       "10970  That sour plum always help me to 消化 so that I ...   \n",
       "10971  RT @Re_Conchudas: Pibes histericos #asco #vomi...   \n",
       "\n",
       "                     created_at  \\\n",
       "0      {'$date': 1360994346000}   \n",
       "1      {'$date': 1360994353000}   \n",
       "2      {'$date': 1360994354000}   \n",
       "3      {'$date': 1360994355000}   \n",
       "4      {'$date': 1360994356000}   \n",
       "...                         ...   \n",
       "10967  {'$date': 1361034492000}   \n",
       "10968  {'$date': 1361034492000}   \n",
       "10969  {'$date': 1361034494000}   \n",
       "10970  {'$date': 1361034496000}   \n",
       "10971  {'$date': 1361034502000}   \n",
       "\n",
       "                                                    user action  \\\n",
       "0      {'utc_offset': '-18000', 'statuses_count': 254...   post   \n",
       "1      {'utc_offset': '-28800', 'statuses_count': 163...   post   \n",
       "2      {'statuses_count': 5666, 'description': 'follo...   post   \n",
       "3      {'statuses_count': 3118, 'friends_count': 76, ...   post   \n",
       "4      {'utc_offset': '-28800', 'statuses_count': 903...   post   \n",
       "...                                                  ...    ...   \n",
       "10967  {'utc_offset': '-14400', 'statuses_count': 125...   post   \n",
       "10968  {'utc_offset': '-36000', 'statuses_count': 239...   post   \n",
       "10969  {'utc_offset': '-10800', 'hashtags': [], 'stat...   post   \n",
       "10970  {'utc_offset': '-32400', 'statuses_count': 329...   post   \n",
       "10971  {'utc_offset': '-14400', 'statuses_count': 146...  share   \n",
       "\n",
       "                                                    gnip location  geo  \n",
       "0      {'matching_rules': [{'tag': None, 'value': 'vo...      NaN  NaN  \n",
       "1      {'matching_rules': [{'tag': None, 'value': 'vo...      NaN  NaN  \n",
       "2      {'matching_rules': [{'tag': None, 'value': 'vo...      NaN  NaN  \n",
       "3      {'matching_rules': [{'tag': None, 'value': 'vo...      NaN  NaN  \n",
       "4      {'matching_rules': [{'tag': None, 'value': 'vo...      NaN  NaN  \n",
       "...                                                  ...      ...  ...  \n",
       "10967  {'matching_rules': [{'tag': None, 'value': 'vo...      NaN  NaN  \n",
       "10968  {'matching_rules': [{'tag': None, 'value': 'vo...      NaN  NaN  \n",
       "10969  {'matching_rules': [{'tag': None, 'value': 'vo...      NaN  NaN  \n",
       "10970  {'matching_rules': [{'tag': None, 'value': 'vo...      NaN  NaN  \n",
       "10971  {'matching_rules': [{'tag': None, 'value': 'vo...      NaN  NaN  \n",
       "\n",
       "[10972 rows x 9 columns]"
      ]
     },
     "execution_count": 38,
     "metadata": {},
     "output_type": "execute_result"
    }
   ],
   "source": [
    "pd.read_json(\"https://oudatalab.com/cs5293sp23/documents/tweets.json\", lines=True)"
   ]
  },
  {
   "cell_type": "code",
   "execution_count": 39,
   "id": "9072ce1f-5fa9-44f1-8e0b-e109a3c622d9",
   "metadata": {
    "tags": []
   },
   "outputs": [
    {
     "data": {
      "text/html": [
       "<div>\n",
       "<style scoped>\n",
       "    .dataframe tbody tr th:only-of-type {\n",
       "        vertical-align: middle;\n",
       "    }\n",
       "\n",
       "    .dataframe tbody tr th {\n",
       "        vertical-align: top;\n",
       "    }\n",
       "\n",
       "    .dataframe thead th {\n",
       "        text-align: right;\n",
       "    }\n",
       "</style>\n",
       "<table border=\"1\" class=\"dataframe\">\n",
       "  <thead>\n",
       "    <tr style=\"text-align: right;\">\n",
       "      <th></th>\n",
       "      <th>Year</th>\n",
       "      <th>Score</th>\n",
       "      <th>Title</th>\n",
       "    </tr>\n",
       "  </thead>\n",
       "  <tbody>\n",
       "    <tr>\n",
       "      <th>0</th>\n",
       "      <td>1968</td>\n",
       "      <td>86</td>\n",
       "      <td>Greetings</td>\n",
       "    </tr>\n",
       "    <tr>\n",
       "      <th>1</th>\n",
       "      <td>1970</td>\n",
       "      <td>17</td>\n",
       "      <td>Bloody Mama</td>\n",
       "    </tr>\n",
       "    <tr>\n",
       "      <th>2</th>\n",
       "      <td>1971</td>\n",
       "      <td>40</td>\n",
       "      <td>Born to Win</td>\n",
       "    </tr>\n",
       "    <tr>\n",
       "      <th>3</th>\n",
       "      <td>1973</td>\n",
       "      <td>98</td>\n",
       "      <td>Mean Streets</td>\n",
       "    </tr>\n",
       "    <tr>\n",
       "      <th>4</th>\n",
       "      <td>1973</td>\n",
       "      <td>88</td>\n",
       "      <td>Bang the Drum Slowly</td>\n",
       "    </tr>\n",
       "    <tr>\n",
       "      <th>...</th>\n",
       "      <td>...</td>\n",
       "      <td>...</td>\n",
       "      <td>...</td>\n",
       "    </tr>\n",
       "    <tr>\n",
       "      <th>81</th>\n",
       "      <td>2014</td>\n",
       "      <td>9</td>\n",
       "      <td>\"The Bag Man\"</td>\n",
       "    </tr>\n",
       "    <tr>\n",
       "      <th>82</th>\n",
       "      <td>2015</td>\n",
       "      <td>60</td>\n",
       "      <td>Joy</td>\n",
       "    </tr>\n",
       "    <tr>\n",
       "      <th>83</th>\n",
       "      <td>2015</td>\n",
       "      <td>26</td>\n",
       "      <td>Heist</td>\n",
       "    </tr>\n",
       "    <tr>\n",
       "      <th>84</th>\n",
       "      <td>2015</td>\n",
       "      <td>61</td>\n",
       "      <td>The Intern</td>\n",
       "    </tr>\n",
       "    <tr>\n",
       "      <th>85</th>\n",
       "      <td>2016</td>\n",
       "      <td>11</td>\n",
       "      <td>Dirty Grandpa</td>\n",
       "    </tr>\n",
       "  </tbody>\n",
       "</table>\n",
       "<p>86 rows × 3 columns</p>\n",
       "</div>"
      ],
      "text/plain": [
       "    Year  Score                 Title\n",
       "0   1968     86             Greetings\n",
       "1   1970     17           Bloody Mama\n",
       "2   1971     40           Born to Win\n",
       "3   1973     98          Mean Streets\n",
       "4   1973     88  Bang the Drum Slowly\n",
       "..   ...    ...                   ...\n",
       "81  2014      9         \"The Bag Man\"\n",
       "82  2015     60                   Joy\n",
       "83  2015     26                 Heist\n",
       "84  2015     61            The Intern\n",
       "85  2016     11         Dirty Grandpa\n",
       "\n",
       "[86 rows x 3 columns]"
      ]
     },
     "execution_count": 39,
     "metadata": {},
     "output_type": "execute_result"
    }
   ],
   "source": [
    "pd.read_csv(\"https://oudatalab.com/cs5293sp23/documents/deniro.csv\")\n"
   ]
  },
  {
   "cell_type": "code",
   "execution_count": 40,
   "id": "a0916c60-5fa8-46af-894b-f745ff5954f9",
   "metadata": {
    "tags": []
   },
   "outputs": [],
   "source": [
    "df1 = pd.read_csv(\"https://oudatalab.com/cs5293sp23/documents/salesjan2009.csv\")"
   ]
  },
  {
   "cell_type": "code",
   "execution_count": 41,
   "id": "334fe869-1156-4bff-bfde-43071effde25",
   "metadata": {
    "tags": []
   },
   "outputs": [
    {
     "data": {
      "text/html": [
       "<div>\n",
       "<style scoped>\n",
       "    .dataframe tbody tr th:only-of-type {\n",
       "        vertical-align: middle;\n",
       "    }\n",
       "\n",
       "    .dataframe tbody tr th {\n",
       "        vertical-align: top;\n",
       "    }\n",
       "\n",
       "    .dataframe thead th {\n",
       "        text-align: right;\n",
       "    }\n",
       "</style>\n",
       "<table border=\"1\" class=\"dataframe\">\n",
       "  <thead>\n",
       "    <tr style=\"text-align: right;\">\n",
       "      <th></th>\n",
       "      <th>Transaction_date</th>\n",
       "      <th>Product</th>\n",
       "      <th>Price</th>\n",
       "      <th>Payment_Type</th>\n",
       "      <th>Name</th>\n",
       "      <th>City</th>\n",
       "      <th>State</th>\n",
       "      <th>Country</th>\n",
       "      <th>Account_Created</th>\n",
       "      <th>Last_Login</th>\n",
       "      <th>Latitude</th>\n",
       "      <th>Longitude</th>\n",
       "      <th>US Zip</th>\n",
       "    </tr>\n",
       "  </thead>\n",
       "  <tbody>\n",
       "    <tr>\n",
       "      <th>0</th>\n",
       "      <td>01/02/2009 04:53</td>\n",
       "      <td>Product1</td>\n",
       "      <td>1200</td>\n",
       "      <td>Visa</td>\n",
       "      <td>Betina</td>\n",
       "      <td>Parkville</td>\n",
       "      <td>MO</td>\n",
       "      <td>United States</td>\n",
       "      <td>1/2/2009 04:42</td>\n",
       "      <td>1/2/2009 07:49</td>\n",
       "      <td>39.195000</td>\n",
       "      <td>-94.681940</td>\n",
       "      <td>64152.0</td>\n",
       "    </tr>\n",
       "    <tr>\n",
       "      <th>1</th>\n",
       "      <td>01/02/2009 13:08</td>\n",
       "      <td>Product1</td>\n",
       "      <td>1200</td>\n",
       "      <td>Mastercard</td>\n",
       "      <td>Federica e Andrea</td>\n",
       "      <td>Astoria</td>\n",
       "      <td>OR</td>\n",
       "      <td>United States</td>\n",
       "      <td>1/1/2009 16:21</td>\n",
       "      <td>1/3/2009 12:32</td>\n",
       "      <td>46.188060</td>\n",
       "      <td>-123.830000</td>\n",
       "      <td>97103.0</td>\n",
       "    </tr>\n",
       "    <tr>\n",
       "      <th>2</th>\n",
       "      <td>01/04/2009 12:56</td>\n",
       "      <td>Product2</td>\n",
       "      <td>3600</td>\n",
       "      <td>Visa</td>\n",
       "      <td>Gerd W</td>\n",
       "      <td>Cahaba Heights</td>\n",
       "      <td>AL</td>\n",
       "      <td>United States</td>\n",
       "      <td>11/15/08 15:47</td>\n",
       "      <td>1/4/2009 12:45</td>\n",
       "      <td>33.520560</td>\n",
       "      <td>-86.802500</td>\n",
       "      <td>35243.0</td>\n",
       "    </tr>\n",
       "    <tr>\n",
       "      <th>3</th>\n",
       "      <td>01/04/2009 13:19</td>\n",
       "      <td>Product1</td>\n",
       "      <td>1200</td>\n",
       "      <td>Visa</td>\n",
       "      <td>LAURENCE</td>\n",
       "      <td>Mickleton</td>\n",
       "      <td>NJ</td>\n",
       "      <td>United States</td>\n",
       "      <td>9/24/08 15:19</td>\n",
       "      <td>1/4/2009 13:04</td>\n",
       "      <td>39.790000</td>\n",
       "      <td>-75.238060</td>\n",
       "      <td>8056.0</td>\n",
       "    </tr>\n",
       "    <tr>\n",
       "      <th>4</th>\n",
       "      <td>01/04/2009 20:11</td>\n",
       "      <td>Product1</td>\n",
       "      <td>1200</td>\n",
       "      <td>Mastercard</td>\n",
       "      <td>Fleur</td>\n",
       "      <td>Peoria</td>\n",
       "      <td>IL</td>\n",
       "      <td>United States</td>\n",
       "      <td>1/3/2009 09:38</td>\n",
       "      <td>1/4/2009 19:45</td>\n",
       "      <td>40.693610</td>\n",
       "      <td>-89.588890</td>\n",
       "      <td>61601.0</td>\n",
       "    </tr>\n",
       "    <tr>\n",
       "      <th>...</th>\n",
       "      <td>...</td>\n",
       "      <td>...</td>\n",
       "      <td>...</td>\n",
       "      <td>...</td>\n",
       "      <td>...</td>\n",
       "      <td>...</td>\n",
       "      <td>...</td>\n",
       "      <td>...</td>\n",
       "      <td>...</td>\n",
       "      <td>...</td>\n",
       "      <td>...</td>\n",
       "      <td>...</td>\n",
       "      <td>...</td>\n",
       "    </tr>\n",
       "    <tr>\n",
       "      <th>993</th>\n",
       "      <td>01/02/2009 17:24</td>\n",
       "      <td>Product2</td>\n",
       "      <td>3600</td>\n",
       "      <td>Diners</td>\n",
       "      <td>clara</td>\n",
       "      <td>Perth</td>\n",
       "      <td>Western Australia</td>\n",
       "      <td>Australia</td>\n",
       "      <td>1/1/2009 21:20</td>\n",
       "      <td>2/27/2009 18:43</td>\n",
       "      <td>-31.933333</td>\n",
       "      <td>115.833333</td>\n",
       "      <td>NaN</td>\n",
       "    </tr>\n",
       "    <tr>\n",
       "      <th>994</th>\n",
       "      <td>01/04/2009 18:57</td>\n",
       "      <td>Product1</td>\n",
       "      <td>1200</td>\n",
       "      <td>Mastercard</td>\n",
       "      <td>KELI</td>\n",
       "      <td>Worongary</td>\n",
       "      <td>Queensland</td>\n",
       "      <td>Australia</td>\n",
       "      <td>12/23/08 15:17</td>\n",
       "      <td>2/28/2009 14:00</td>\n",
       "      <td>-28.050000</td>\n",
       "      <td>153.350000</td>\n",
       "      <td>NaN</td>\n",
       "    </tr>\n",
       "    <tr>\n",
       "      <th>995</th>\n",
       "      <td>01/23/2009 12:42</td>\n",
       "      <td>Product2</td>\n",
       "      <td>3600</td>\n",
       "      <td>Mastercard</td>\n",
       "      <td>Anke</td>\n",
       "      <td>Avalon</td>\n",
       "      <td>New South Wales</td>\n",
       "      <td>Australia</td>\n",
       "      <td>3/3/08 17:38</td>\n",
       "      <td>2/28/2009 22:26</td>\n",
       "      <td>-33.633333</td>\n",
       "      <td>151.333333</td>\n",
       "      <td>NaN</td>\n",
       "    </tr>\n",
       "    <tr>\n",
       "      <th>996</th>\n",
       "      <td>01/07/2009 19:48</td>\n",
       "      <td>Product2</td>\n",
       "      <td>3600</td>\n",
       "      <td>Mastercard</td>\n",
       "      <td>TRICIA</td>\n",
       "      <td>Sydney</td>\n",
       "      <td>New South Wales</td>\n",
       "      <td>Australia</td>\n",
       "      <td>9/21/08 20:49</td>\n",
       "      <td>3/1/2009 00:14</td>\n",
       "      <td>-33.883333</td>\n",
       "      <td>151.216667</td>\n",
       "      <td>NaN</td>\n",
       "    </tr>\n",
       "    <tr>\n",
       "      <th>997</th>\n",
       "      <td>01/25/2009 05:57</td>\n",
       "      <td>Product1</td>\n",
       "      <td>1200</td>\n",
       "      <td>Amex</td>\n",
       "      <td>pamela</td>\n",
       "      <td>Ayacucho</td>\n",
       "      <td>Buenos Aires</td>\n",
       "      <td>Argentina</td>\n",
       "      <td>1/24/2009 09:29</td>\n",
       "      <td>2/10/2009 06:38</td>\n",
       "      <td>-37.150000</td>\n",
       "      <td>-58.483333</td>\n",
       "      <td>NaN</td>\n",
       "    </tr>\n",
       "  </tbody>\n",
       "</table>\n",
       "<p>998 rows × 13 columns</p>\n",
       "</div>"
      ],
      "text/plain": [
       "     Transaction_date   Product  Price Payment_Type               Name  \\\n",
       "0    01/02/2009 04:53  Product1   1200         Visa             Betina   \n",
       "1    01/02/2009 13:08  Product1   1200   Mastercard  Federica e Andrea   \n",
       "2    01/04/2009 12:56  Product2   3600         Visa             Gerd W   \n",
       "3    01/04/2009 13:19  Product1   1200         Visa           LAURENCE   \n",
       "4    01/04/2009 20:11  Product1   1200   Mastercard              Fleur   \n",
       "..                ...       ...    ...          ...                ...   \n",
       "993  01/02/2009 17:24  Product2   3600       Diners              clara   \n",
       "994  01/04/2009 18:57  Product1   1200   Mastercard               KELI   \n",
       "995  01/23/2009 12:42  Product2   3600   Mastercard               Anke   \n",
       "996  01/07/2009 19:48  Product2   3600   Mastercard             TRICIA   \n",
       "997  01/25/2009 05:57  Product1   1200         Amex             pamela   \n",
       "\n",
       "               City              State        Country  Account_Created  \\\n",
       "0         Parkville                 MO  United States   1/2/2009 04:42   \n",
       "1           Astoria                 OR  United States   1/1/2009 16:21   \n",
       "2    Cahaba Heights                 AL  United States   11/15/08 15:47   \n",
       "3         Mickleton                 NJ  United States    9/24/08 15:19   \n",
       "4            Peoria                 IL  United States   1/3/2009 09:38   \n",
       "..              ...                ...            ...              ...   \n",
       "993           Perth  Western Australia      Australia   1/1/2009 21:20   \n",
       "994       Worongary         Queensland      Australia   12/23/08 15:17   \n",
       "995          Avalon    New South Wales      Australia     3/3/08 17:38   \n",
       "996          Sydney    New South Wales      Australia    9/21/08 20:49   \n",
       "997        Ayacucho       Buenos Aires      Argentina  1/24/2009 09:29   \n",
       "\n",
       "          Last_Login   Latitude   Longitude   US Zip  \n",
       "0     1/2/2009 07:49  39.195000  -94.681940  64152.0  \n",
       "1     1/3/2009 12:32  46.188060 -123.830000  97103.0  \n",
       "2     1/4/2009 12:45  33.520560  -86.802500  35243.0  \n",
       "3     1/4/2009 13:04  39.790000  -75.238060   8056.0  \n",
       "4     1/4/2009 19:45  40.693610  -89.588890  61601.0  \n",
       "..               ...        ...         ...      ...  \n",
       "993  2/27/2009 18:43 -31.933333  115.833333      NaN  \n",
       "994  2/28/2009 14:00 -28.050000  153.350000      NaN  \n",
       "995  2/28/2009 22:26 -33.633333  151.333333      NaN  \n",
       "996   3/1/2009 00:14 -33.883333  151.216667      NaN  \n",
       "997  2/10/2009 06:38 -37.150000  -58.483333      NaN  \n",
       "\n",
       "[998 rows x 13 columns]"
      ]
     },
     "execution_count": 41,
     "metadata": {},
     "output_type": "execute_result"
    }
   ],
   "source": [
    "df1"
   ]
  },
  {
   "cell_type": "code",
   "execution_count": 42,
   "id": "ff7dec88-867e-41a1-8be3-164e9dc5342f",
   "metadata": {
    "tags": []
   },
   "outputs": [
    {
     "name": "stdout",
     "output_type": "stream",
     "text": [
      "<class 'pandas.core.frame.DataFrame'>\n",
      "RangeIndex: 998 entries, 0 to 997\n",
      "Data columns (total 13 columns):\n",
      " #   Column            Non-Null Count  Dtype  \n",
      "---  ------            --------------  -----  \n",
      " 0   Transaction_date  998 non-null    object \n",
      " 1   Product           998 non-null    object \n",
      " 2   Price             998 non-null    int64  \n",
      " 3   Payment_Type      998 non-null    object \n",
      " 4   Name              998 non-null    object \n",
      " 5   City              998 non-null    object \n",
      " 6   State             989 non-null    object \n",
      " 7   Country           998 non-null    object \n",
      " 8   Account_Created   998 non-null    object \n",
      " 9   Last_Login        998 non-null    object \n",
      " 10  Latitude          998 non-null    float64\n",
      " 11  Longitude         998 non-null    float64\n",
      " 12  US Zip            463 non-null    float64\n",
      "dtypes: float64(3), int64(1), object(9)\n",
      "memory usage: 101.5+ KB\n"
     ]
    }
   ],
   "source": [
    "df1.info()"
   ]
  },
  {
   "cell_type": "code",
   "execution_count": 43,
   "id": "9ddc143b-c6e2-4812-9c3a-57fb25d31297",
   "metadata": {
    "tags": []
   },
   "outputs": [
    {
     "data": {
      "text/html": [
       "<div>\n",
       "<style scoped>\n",
       "    .dataframe tbody tr th:only-of-type {\n",
       "        vertical-align: middle;\n",
       "    }\n",
       "\n",
       "    .dataframe tbody tr th {\n",
       "        vertical-align: top;\n",
       "    }\n",
       "\n",
       "    .dataframe thead th {\n",
       "        text-align: right;\n",
       "    }\n",
       "</style>\n",
       "<table border=\"1\" class=\"dataframe\">\n",
       "  <thead>\n",
       "    <tr style=\"text-align: right;\">\n",
       "      <th></th>\n",
       "      <th>Price</th>\n",
       "      <th>Latitude</th>\n",
       "      <th>Longitude</th>\n",
       "      <th>US Zip</th>\n",
       "    </tr>\n",
       "  </thead>\n",
       "  <tbody>\n",
       "    <tr>\n",
       "      <th>count</th>\n",
       "      <td>998.000000</td>\n",
       "      <td>998.000000</td>\n",
       "      <td>998.000000</td>\n",
       "      <td>463.000000</td>\n",
       "    </tr>\n",
       "    <tr>\n",
       "      <th>mean</th>\n",
       "      <td>1633.767535</td>\n",
       "      <td>39.015705</td>\n",
       "      <td>-41.337820</td>\n",
       "      <td>49686.758099</td>\n",
       "    </tr>\n",
       "    <tr>\n",
       "      <th>std</th>\n",
       "      <td>1156.034724</td>\n",
       "      <td>19.508572</td>\n",
       "      <td>67.389479</td>\n",
       "      <td>32895.348013</td>\n",
       "    </tr>\n",
       "    <tr>\n",
       "      <th>min</th>\n",
       "      <td>250.000000</td>\n",
       "      <td>-41.465000</td>\n",
       "      <td>-159.485280</td>\n",
       "      <td>802.000000</td>\n",
       "    </tr>\n",
       "    <tr>\n",
       "      <th>25%</th>\n",
       "      <td>1200.000000</td>\n",
       "      <td>35.816944</td>\n",
       "      <td>-87.991670</td>\n",
       "      <td>20396.500000</td>\n",
       "    </tr>\n",
       "    <tr>\n",
       "      <th>50%</th>\n",
       "      <td>1200.000000</td>\n",
       "      <td>42.320695</td>\n",
       "      <td>-73.730695</td>\n",
       "      <td>43606.000000</td>\n",
       "    </tr>\n",
       "    <tr>\n",
       "      <th>75%</th>\n",
       "      <td>1200.000000</td>\n",
       "      <td>51.050000</td>\n",
       "      <td>4.916667</td>\n",
       "      <td>84103.000000</td>\n",
       "    </tr>\n",
       "    <tr>\n",
       "      <th>max</th>\n",
       "      <td>13000.000000</td>\n",
       "      <td>64.837780</td>\n",
       "      <td>174.766667</td>\n",
       "      <td>99835.000000</td>\n",
       "    </tr>\n",
       "  </tbody>\n",
       "</table>\n",
       "</div>"
      ],
      "text/plain": [
       "              Price    Latitude   Longitude        US Zip\n",
       "count    998.000000  998.000000  998.000000    463.000000\n",
       "mean    1633.767535   39.015705  -41.337820  49686.758099\n",
       "std     1156.034724   19.508572   67.389479  32895.348013\n",
       "min      250.000000  -41.465000 -159.485280    802.000000\n",
       "25%     1200.000000   35.816944  -87.991670  20396.500000\n",
       "50%     1200.000000   42.320695  -73.730695  43606.000000\n",
       "75%     1200.000000   51.050000    4.916667  84103.000000\n",
       "max    13000.000000   64.837780  174.766667  99835.000000"
      ]
     },
     "execution_count": 43,
     "metadata": {},
     "output_type": "execute_result"
    }
   ],
   "source": [
    "df1.describe()"
   ]
  },
  {
   "cell_type": "code",
   "execution_count": 44,
   "id": "cee481ae-b715-4004-8cdd-1015f6dbb428",
   "metadata": {
    "tags": []
   },
   "outputs": [
    {
     "data": {
      "text/html": [
       "<div>\n",
       "<style scoped>\n",
       "    .dataframe tbody tr th:only-of-type {\n",
       "        vertical-align: middle;\n",
       "    }\n",
       "\n",
       "    .dataframe tbody tr th {\n",
       "        vertical-align: top;\n",
       "    }\n",
       "\n",
       "    .dataframe thead th {\n",
       "        text-align: right;\n",
       "    }\n",
       "</style>\n",
       "<table border=\"1\" class=\"dataframe\">\n",
       "  <thead>\n",
       "    <tr style=\"text-align: right;\">\n",
       "      <th></th>\n",
       "      <th>Transaction_date</th>\n",
       "      <th>Product</th>\n",
       "      <th>Price</th>\n",
       "      <th>Payment_Type</th>\n",
       "      <th>Name</th>\n",
       "      <th>City</th>\n",
       "      <th>State</th>\n",
       "      <th>Country</th>\n",
       "      <th>Account_Created</th>\n",
       "      <th>Last_Login</th>\n",
       "      <th>Latitude</th>\n",
       "      <th>Longitude</th>\n",
       "      <th>US Zip</th>\n",
       "    </tr>\n",
       "  </thead>\n",
       "  <tbody>\n",
       "    <tr>\n",
       "      <th>0</th>\n",
       "      <td>01/02/2009 04:53</td>\n",
       "      <td>Product1</td>\n",
       "      <td>1200</td>\n",
       "      <td>Visa</td>\n",
       "      <td>Betina</td>\n",
       "      <td>Parkville</td>\n",
       "      <td>MO</td>\n",
       "      <td>United States</td>\n",
       "      <td>1/2/2009 04:42</td>\n",
       "      <td>1/2/2009 07:49</td>\n",
       "      <td>39.19500</td>\n",
       "      <td>-94.68194</td>\n",
       "      <td>64152.0</td>\n",
       "    </tr>\n",
       "    <tr>\n",
       "      <th>1</th>\n",
       "      <td>01/02/2009 13:08</td>\n",
       "      <td>Product1</td>\n",
       "      <td>1200</td>\n",
       "      <td>Mastercard</td>\n",
       "      <td>Federica e Andrea</td>\n",
       "      <td>Astoria</td>\n",
       "      <td>OR</td>\n",
       "      <td>United States</td>\n",
       "      <td>1/1/2009 16:21</td>\n",
       "      <td>1/3/2009 12:32</td>\n",
       "      <td>46.18806</td>\n",
       "      <td>-123.83000</td>\n",
       "      <td>97103.0</td>\n",
       "    </tr>\n",
       "    <tr>\n",
       "      <th>2</th>\n",
       "      <td>01/04/2009 12:56</td>\n",
       "      <td>Product2</td>\n",
       "      <td>3600</td>\n",
       "      <td>Visa</td>\n",
       "      <td>Gerd W</td>\n",
       "      <td>Cahaba Heights</td>\n",
       "      <td>AL</td>\n",
       "      <td>United States</td>\n",
       "      <td>11/15/08 15:47</td>\n",
       "      <td>1/4/2009 12:45</td>\n",
       "      <td>33.52056</td>\n",
       "      <td>-86.80250</td>\n",
       "      <td>35243.0</td>\n",
       "    </tr>\n",
       "    <tr>\n",
       "      <th>3</th>\n",
       "      <td>01/04/2009 13:19</td>\n",
       "      <td>Product1</td>\n",
       "      <td>1200</td>\n",
       "      <td>Visa</td>\n",
       "      <td>LAURENCE</td>\n",
       "      <td>Mickleton</td>\n",
       "      <td>NJ</td>\n",
       "      <td>United States</td>\n",
       "      <td>9/24/08 15:19</td>\n",
       "      <td>1/4/2009 13:04</td>\n",
       "      <td>39.79000</td>\n",
       "      <td>-75.23806</td>\n",
       "      <td>8056.0</td>\n",
       "    </tr>\n",
       "    <tr>\n",
       "      <th>4</th>\n",
       "      <td>01/04/2009 20:11</td>\n",
       "      <td>Product1</td>\n",
       "      <td>1200</td>\n",
       "      <td>Mastercard</td>\n",
       "      <td>Fleur</td>\n",
       "      <td>Peoria</td>\n",
       "      <td>IL</td>\n",
       "      <td>United States</td>\n",
       "      <td>1/3/2009 09:38</td>\n",
       "      <td>1/4/2009 19:45</td>\n",
       "      <td>40.69361</td>\n",
       "      <td>-89.58889</td>\n",
       "      <td>61601.0</td>\n",
       "    </tr>\n",
       "  </tbody>\n",
       "</table>\n",
       "</div>"
      ],
      "text/plain": [
       "   Transaction_date   Product  Price Payment_Type               Name  \\\n",
       "0  01/02/2009 04:53  Product1   1200         Visa             Betina   \n",
       "1  01/02/2009 13:08  Product1   1200   Mastercard  Federica e Andrea   \n",
       "2  01/04/2009 12:56  Product2   3600         Visa             Gerd W   \n",
       "3  01/04/2009 13:19  Product1   1200         Visa           LAURENCE   \n",
       "4  01/04/2009 20:11  Product1   1200   Mastercard              Fleur   \n",
       "\n",
       "             City State        Country Account_Created      Last_Login  \\\n",
       "0       Parkville    MO  United States  1/2/2009 04:42  1/2/2009 07:49   \n",
       "1         Astoria    OR  United States  1/1/2009 16:21  1/3/2009 12:32   \n",
       "2  Cahaba Heights    AL  United States  11/15/08 15:47  1/4/2009 12:45   \n",
       "3       Mickleton    NJ  United States   9/24/08 15:19  1/4/2009 13:04   \n",
       "4          Peoria    IL  United States  1/3/2009 09:38  1/4/2009 19:45   \n",
       "\n",
       "   Latitude  Longitude   US Zip  \n",
       "0  39.19500  -94.68194  64152.0  \n",
       "1  46.18806 -123.83000  97103.0  \n",
       "2  33.52056  -86.80250  35243.0  \n",
       "3  39.79000  -75.23806   8056.0  \n",
       "4  40.69361  -89.58889  61601.0  "
      ]
     },
     "execution_count": 44,
     "metadata": {},
     "output_type": "execute_result"
    }
   ],
   "source": [
    "df1.head()"
   ]
  },
  {
   "cell_type": "code",
   "execution_count": 45,
   "id": "7c04ca73-6916-43ff-bc5c-b1c1bd2e849f",
   "metadata": {
    "tags": []
   },
   "outputs": [
    {
     "data": {
      "text/html": [
       "<div>\n",
       "<style scoped>\n",
       "    .dataframe tbody tr th:only-of-type {\n",
       "        vertical-align: middle;\n",
       "    }\n",
       "\n",
       "    .dataframe tbody tr th {\n",
       "        vertical-align: top;\n",
       "    }\n",
       "\n",
       "    .dataframe thead th {\n",
       "        text-align: right;\n",
       "    }\n",
       "</style>\n",
       "<table border=\"1\" class=\"dataframe\">\n",
       "  <thead>\n",
       "    <tr style=\"text-align: right;\">\n",
       "      <th></th>\n",
       "      <th>Transaction_date</th>\n",
       "      <th>Product</th>\n",
       "      <th>Price</th>\n",
       "      <th>Payment_Type</th>\n",
       "      <th>Name</th>\n",
       "      <th>City</th>\n",
       "      <th>State</th>\n",
       "      <th>Country</th>\n",
       "      <th>Account_Created</th>\n",
       "      <th>Last_Login</th>\n",
       "      <th>Latitude</th>\n",
       "      <th>Longitude</th>\n",
       "      <th>US Zip</th>\n",
       "    </tr>\n",
       "  </thead>\n",
       "  <tbody>\n",
       "    <tr>\n",
       "      <th>993</th>\n",
       "      <td>01/02/2009 17:24</td>\n",
       "      <td>Product2</td>\n",
       "      <td>3600</td>\n",
       "      <td>Diners</td>\n",
       "      <td>clara</td>\n",
       "      <td>Perth</td>\n",
       "      <td>Western Australia</td>\n",
       "      <td>Australia</td>\n",
       "      <td>1/1/2009 21:20</td>\n",
       "      <td>2/27/2009 18:43</td>\n",
       "      <td>-31.933333</td>\n",
       "      <td>115.833333</td>\n",
       "      <td>NaN</td>\n",
       "    </tr>\n",
       "    <tr>\n",
       "      <th>994</th>\n",
       "      <td>01/04/2009 18:57</td>\n",
       "      <td>Product1</td>\n",
       "      <td>1200</td>\n",
       "      <td>Mastercard</td>\n",
       "      <td>KELI</td>\n",
       "      <td>Worongary</td>\n",
       "      <td>Queensland</td>\n",
       "      <td>Australia</td>\n",
       "      <td>12/23/08 15:17</td>\n",
       "      <td>2/28/2009 14:00</td>\n",
       "      <td>-28.050000</td>\n",
       "      <td>153.350000</td>\n",
       "      <td>NaN</td>\n",
       "    </tr>\n",
       "    <tr>\n",
       "      <th>995</th>\n",
       "      <td>01/23/2009 12:42</td>\n",
       "      <td>Product2</td>\n",
       "      <td>3600</td>\n",
       "      <td>Mastercard</td>\n",
       "      <td>Anke</td>\n",
       "      <td>Avalon</td>\n",
       "      <td>New South Wales</td>\n",
       "      <td>Australia</td>\n",
       "      <td>3/3/08 17:38</td>\n",
       "      <td>2/28/2009 22:26</td>\n",
       "      <td>-33.633333</td>\n",
       "      <td>151.333333</td>\n",
       "      <td>NaN</td>\n",
       "    </tr>\n",
       "    <tr>\n",
       "      <th>996</th>\n",
       "      <td>01/07/2009 19:48</td>\n",
       "      <td>Product2</td>\n",
       "      <td>3600</td>\n",
       "      <td>Mastercard</td>\n",
       "      <td>TRICIA</td>\n",
       "      <td>Sydney</td>\n",
       "      <td>New South Wales</td>\n",
       "      <td>Australia</td>\n",
       "      <td>9/21/08 20:49</td>\n",
       "      <td>3/1/2009 00:14</td>\n",
       "      <td>-33.883333</td>\n",
       "      <td>151.216667</td>\n",
       "      <td>NaN</td>\n",
       "    </tr>\n",
       "    <tr>\n",
       "      <th>997</th>\n",
       "      <td>01/25/2009 05:57</td>\n",
       "      <td>Product1</td>\n",
       "      <td>1200</td>\n",
       "      <td>Amex</td>\n",
       "      <td>pamela</td>\n",
       "      <td>Ayacucho</td>\n",
       "      <td>Buenos Aires</td>\n",
       "      <td>Argentina</td>\n",
       "      <td>1/24/2009 09:29</td>\n",
       "      <td>2/10/2009 06:38</td>\n",
       "      <td>-37.150000</td>\n",
       "      <td>-58.483333</td>\n",
       "      <td>NaN</td>\n",
       "    </tr>\n",
       "  </tbody>\n",
       "</table>\n",
       "</div>"
      ],
      "text/plain": [
       "     Transaction_date   Product  Price Payment_Type    Name       City  \\\n",
       "993  01/02/2009 17:24  Product2   3600       Diners   clara      Perth   \n",
       "994  01/04/2009 18:57  Product1   1200   Mastercard    KELI  Worongary   \n",
       "995  01/23/2009 12:42  Product2   3600   Mastercard    Anke     Avalon   \n",
       "996  01/07/2009 19:48  Product2   3600   Mastercard  TRICIA     Sydney   \n",
       "997  01/25/2009 05:57  Product1   1200         Amex  pamela   Ayacucho   \n",
       "\n",
       "                 State    Country  Account_Created       Last_Login  \\\n",
       "993  Western Australia  Australia   1/1/2009 21:20  2/27/2009 18:43   \n",
       "994         Queensland  Australia   12/23/08 15:17  2/28/2009 14:00   \n",
       "995    New South Wales  Australia     3/3/08 17:38  2/28/2009 22:26   \n",
       "996    New South Wales  Australia    9/21/08 20:49   3/1/2009 00:14   \n",
       "997       Buenos Aires  Argentina  1/24/2009 09:29  2/10/2009 06:38   \n",
       "\n",
       "      Latitude   Longitude  US Zip  \n",
       "993 -31.933333  115.833333     NaN  \n",
       "994 -28.050000  153.350000     NaN  \n",
       "995 -33.633333  151.333333     NaN  \n",
       "996 -33.883333  151.216667     NaN  \n",
       "997 -37.150000  -58.483333     NaN  "
      ]
     },
     "execution_count": 45,
     "metadata": {},
     "output_type": "execute_result"
    }
   ],
   "source": [
    "df1.tail()"
   ]
  },
  {
   "cell_type": "code",
   "execution_count": 47,
   "id": "425550cd-5245-4485-adce-e0a7950b5d2d",
   "metadata": {
    "tags": []
   },
   "outputs": [
    {
     "data": {
      "text/html": [
       "<div>\n",
       "<style scoped>\n",
       "    .dataframe tbody tr th:only-of-type {\n",
       "        vertical-align: middle;\n",
       "    }\n",
       "\n",
       "    .dataframe tbody tr th {\n",
       "        vertical-align: top;\n",
       "    }\n",
       "\n",
       "    .dataframe thead th {\n",
       "        text-align: right;\n",
       "    }\n",
       "</style>\n",
       "<table border=\"1\" class=\"dataframe\">\n",
       "  <thead>\n",
       "    <tr style=\"text-align: right;\">\n",
       "      <th></th>\n",
       "      <th>Transaction_date</th>\n",
       "      <th>Product</th>\n",
       "      <th>Price</th>\n",
       "      <th>Payment_Type</th>\n",
       "      <th>Name</th>\n",
       "      <th>City</th>\n",
       "      <th>State</th>\n",
       "      <th>Country</th>\n",
       "      <th>Account_Created</th>\n",
       "      <th>Last_Login</th>\n",
       "      <th>Latitude</th>\n",
       "      <th>Longitude</th>\n",
       "      <th>US Zip</th>\n",
       "    </tr>\n",
       "  </thead>\n",
       "  <tbody>\n",
       "    <tr>\n",
       "      <th>797</th>\n",
       "      <td>01/11/2009 09:50</td>\n",
       "      <td>Product1</td>\n",
       "      <td>1200</td>\n",
       "      <td>Visa</td>\n",
       "      <td>Bato</td>\n",
       "      <td>Munchengosserstadt</td>\n",
       "      <td>Thuringia</td>\n",
       "      <td>Germany</td>\n",
       "      <td>1/7/2009 11:45</td>\n",
       "      <td>2/10/2009 10:28</td>\n",
       "      <td>51.050000</td>\n",
       "      <td>11.65000</td>\n",
       "      <td>NaN</td>\n",
       "    </tr>\n",
       "    <tr>\n",
       "      <th>86</th>\n",
       "      <td>01/18/2009 23:17</td>\n",
       "      <td>Product1</td>\n",
       "      <td>1200</td>\n",
       "      <td>Visa</td>\n",
       "      <td>Greg</td>\n",
       "      <td>Washington</td>\n",
       "      <td>DC</td>\n",
       "      <td>United States</td>\n",
       "      <td>1/18/2009 15:18</td>\n",
       "      <td>1/19/2009 06:13</td>\n",
       "      <td>38.895000</td>\n",
       "      <td>-77.03667</td>\n",
       "      <td>20004.0</td>\n",
       "    </tr>\n",
       "    <tr>\n",
       "      <th>21</th>\n",
       "      <td>01/09/2009 06:39</td>\n",
       "      <td>Product1</td>\n",
       "      <td>1200</td>\n",
       "      <td>Mastercard</td>\n",
       "      <td>Anneli</td>\n",
       "      <td>Houston</td>\n",
       "      <td>TX</td>\n",
       "      <td>United States</td>\n",
       "      <td>1/9/2009 05:09</td>\n",
       "      <td>1/9/2009 07:11</td>\n",
       "      <td>29.763060</td>\n",
       "      <td>-95.36306</td>\n",
       "      <td>77002.0</td>\n",
       "    </tr>\n",
       "    <tr>\n",
       "      <th>686</th>\n",
       "      <td>01/16/2009 07:58</td>\n",
       "      <td>Product1</td>\n",
       "      <td>1200</td>\n",
       "      <td>Amex</td>\n",
       "      <td>Darrah</td>\n",
       "      <td>Den Haag</td>\n",
       "      <td>Zuid-Holland</td>\n",
       "      <td>Netherlands</td>\n",
       "      <td>9/30/07 4:03</td>\n",
       "      <td>2/13/2009 03:05</td>\n",
       "      <td>52.083333</td>\n",
       "      <td>4.30000</td>\n",
       "      <td>NaN</td>\n",
       "    </tr>\n",
       "    <tr>\n",
       "      <th>229</th>\n",
       "      <td>01/15/2009 09:52</td>\n",
       "      <td>Product1</td>\n",
       "      <td>1200</td>\n",
       "      <td>Amex</td>\n",
       "      <td>Mark</td>\n",
       "      <td>Holmdel</td>\n",
       "      <td>NJ</td>\n",
       "      <td>United States</td>\n",
       "      <td>1/15/2009 08:36</td>\n",
       "      <td>2/2/2009 07:00</td>\n",
       "      <td>40.345000</td>\n",
       "      <td>-74.18444</td>\n",
       "      <td>7733.0</td>\n",
       "    </tr>\n",
       "  </tbody>\n",
       "</table>\n",
       "</div>"
      ],
      "text/plain": [
       "     Transaction_date   Product  Price Payment_Type    Name  \\\n",
       "797  01/11/2009 09:50  Product1   1200         Visa    Bato   \n",
       "86   01/18/2009 23:17  Product1   1200         Visa    Greg   \n",
       "21   01/09/2009 06:39  Product1   1200   Mastercard  Anneli   \n",
       "686  01/16/2009 07:58  Product1   1200         Amex  Darrah   \n",
       "229  01/15/2009 09:52  Product1   1200         Amex    Mark   \n",
       "\n",
       "                   City         State        Country  Account_Created  \\\n",
       "797  Munchengosserstadt     Thuringia        Germany   1/7/2009 11:45   \n",
       "86           Washington            DC  United States  1/18/2009 15:18   \n",
       "21              Houston            TX  United States   1/9/2009 05:09   \n",
       "686            Den Haag  Zuid-Holland    Netherlands     9/30/07 4:03   \n",
       "229             Holmdel            NJ  United States  1/15/2009 08:36   \n",
       "\n",
       "          Last_Login   Latitude  Longitude   US Zip  \n",
       "797  2/10/2009 10:28  51.050000   11.65000      NaN  \n",
       "86   1/19/2009 06:13  38.895000  -77.03667  20004.0  \n",
       "21    1/9/2009 07:11  29.763060  -95.36306  77002.0  \n",
       "686  2/13/2009 03:05  52.083333    4.30000      NaN  \n",
       "229   2/2/2009 07:00  40.345000  -74.18444   7733.0  "
      ]
     },
     "execution_count": 47,
     "metadata": {},
     "output_type": "execute_result"
    }
   ],
   "source": [
    "df1.sample(n=5)"
   ]
  },
  {
   "cell_type": "code",
   "execution_count": 48,
   "id": "75b24b0c-748e-499b-a88e-dccebf91cf1b",
   "metadata": {
    "tags": []
   },
   "outputs": [
    {
     "data": {
      "text/plain": [
       "Transaction_date      0\n",
       "Product               0\n",
       "Price                 0\n",
       "Payment_Type          0\n",
       "Name                  0\n",
       "City                  0\n",
       "State                 9\n",
       "Country               0\n",
       "Account_Created       0\n",
       "Last_Login            0\n",
       "Latitude              0\n",
       "Longitude             0\n",
       "US Zip              535\n",
       "dtype: int64"
      ]
     },
     "execution_count": 48,
     "metadata": {},
     "output_type": "execute_result"
    }
   ],
   "source": [
    "df1.isnull().sum()"
   ]
  },
  {
   "cell_type": "code",
   "execution_count": 49,
   "id": "ec40abb9-6f89-4ad3-a648-9b1f77afb5d0",
   "metadata": {
    "tags": []
   },
   "outputs": [
    {
     "data": {
      "text/plain": [
       "0                 Betina\n",
       "1      Federica e Andrea\n",
       "2                 Gerd W\n",
       "3               LAURENCE\n",
       "4                  Fleur\n",
       "             ...        \n",
       "993                clara\n",
       "994                 KELI\n",
       "995                 Anke\n",
       "996               TRICIA\n",
       "997               pamela\n",
       "Name: Name, Length: 998, dtype: object"
      ]
     },
     "execution_count": 49,
     "metadata": {},
     "output_type": "execute_result"
    }
   ],
   "source": [
    "df1['Name']"
   ]
  },
  {
   "cell_type": "code",
   "execution_count": 50,
   "id": "13d1812c-babf-4bd0-93f6-eb023417abb0",
   "metadata": {
    "tags": []
   },
   "outputs": [
    {
     "data": {
      "text/plain": [
       "0                 Betina\n",
       "1      Federica e Andrea\n",
       "2                 Gerd W\n",
       "3               LAURENCE\n",
       "4                  Fleur\n",
       "             ...        \n",
       "993                clara\n",
       "994                 KELI\n",
       "995                 Anke\n",
       "996               TRICIA\n",
       "997               pamela\n",
       "Name: Name, Length: 998, dtype: object"
      ]
     },
     "execution_count": 50,
     "metadata": {},
     "output_type": "execute_result"
    }
   ],
   "source": [
    "df1.Name"
   ]
  },
  {
   "cell_type": "code",
   "execution_count": 54,
   "id": "cb3dd21f-b316-41f9-8be3-85105785df40",
   "metadata": {
    "tags": []
   },
   "outputs": [
    {
     "data": {
      "text/plain": [
       "(0                 Betina\n",
       " 1      Federica e Andrea\n",
       " 2                 Gerd W\n",
       " 3               LAURENCE\n",
       " 4                  Fleur\n",
       "              ...        \n",
       " 993                clara\n",
       " 994                 KELI\n",
       " 995                 Anke\n",
       " 996               TRICIA\n",
       " 997               pamela\n",
       " Name: Name, Length: 998, dtype: object,\n",
       " 0           Parkville\n",
       " 1             Astoria\n",
       " 2      Cahaba Heights\n",
       " 3           Mickleton\n",
       " 4              Peoria\n",
       "             ...      \n",
       " 993             Perth\n",
       " 994         Worongary\n",
       " 995            Avalon\n",
       " 996            Sydney\n",
       " 997          Ayacucho\n",
       " Name: City, Length: 998, dtype: object)"
      ]
     },
     "execution_count": 54,
     "metadata": {},
     "output_type": "execute_result"
    }
   ],
   "source": [
    "df1['Name'],df1['City']"
   ]
  },
  {
   "cell_type": "code",
   "execution_count": 57,
   "id": "71681703-592f-4881-a87b-6b00b4031066",
   "metadata": {
    "tags": []
   },
   "outputs": [
    {
     "data": {
      "text/html": [
       "<div>\n",
       "<style scoped>\n",
       "    .dataframe tbody tr th:only-of-type {\n",
       "        vertical-align: middle;\n",
       "    }\n",
       "\n",
       "    .dataframe tbody tr th {\n",
       "        vertical-align: top;\n",
       "    }\n",
       "\n",
       "    .dataframe thead th {\n",
       "        text-align: right;\n",
       "    }\n",
       "</style>\n",
       "<table border=\"1\" class=\"dataframe\">\n",
       "  <thead>\n",
       "    <tr style=\"text-align: right;\">\n",
       "      <th></th>\n",
       "      <th>Transaction_date</th>\n",
       "      <th>Product</th>\n",
       "      <th>Price</th>\n",
       "      <th>Payment_Type</th>\n",
       "      <th>Name</th>\n",
       "      <th>City</th>\n",
       "      <th>State</th>\n",
       "      <th>Country</th>\n",
       "      <th>Account_Created</th>\n",
       "      <th>Last_Login</th>\n",
       "      <th>Latitude</th>\n",
       "      <th>Longitude</th>\n",
       "      <th>US Zip</th>\n",
       "    </tr>\n",
       "  </thead>\n",
       "  <tbody>\n",
       "    <tr>\n",
       "      <th>1</th>\n",
       "      <td>01/02/2009 13:08</td>\n",
       "      <td>Product1</td>\n",
       "      <td>1200</td>\n",
       "      <td>Mastercard</td>\n",
       "      <td>Federica e Andrea</td>\n",
       "      <td>Astoria</td>\n",
       "      <td>OR</td>\n",
       "      <td>United States</td>\n",
       "      <td>1/1/2009 16:21</td>\n",
       "      <td>1/3/2009 12:32</td>\n",
       "      <td>46.18806</td>\n",
       "      <td>-123.8300</td>\n",
       "      <td>97103.0</td>\n",
       "    </tr>\n",
       "    <tr>\n",
       "      <th>2</th>\n",
       "      <td>01/04/2009 12:56</td>\n",
       "      <td>Product2</td>\n",
       "      <td>3600</td>\n",
       "      <td>Visa</td>\n",
       "      <td>Gerd W</td>\n",
       "      <td>Cahaba Heights</td>\n",
       "      <td>AL</td>\n",
       "      <td>United States</td>\n",
       "      <td>11/15/08 15:47</td>\n",
       "      <td>1/4/2009 12:45</td>\n",
       "      <td>33.52056</td>\n",
       "      <td>-86.8025</td>\n",
       "      <td>35243.0</td>\n",
       "    </tr>\n",
       "  </tbody>\n",
       "</table>\n",
       "</div>"
      ],
      "text/plain": [
       "   Transaction_date   Product  Price Payment_Type               Name  \\\n",
       "1  01/02/2009 13:08  Product1   1200   Mastercard  Federica e Andrea   \n",
       "2  01/04/2009 12:56  Product2   3600         Visa             Gerd W   \n",
       "\n",
       "             City State        Country Account_Created      Last_Login  \\\n",
       "1         Astoria    OR  United States  1/1/2009 16:21  1/3/2009 12:32   \n",
       "2  Cahaba Heights    AL  United States  11/15/08 15:47  1/4/2009 12:45   \n",
       "\n",
       "   Latitude  Longitude   US Zip  \n",
       "1  46.18806  -123.8300  97103.0  \n",
       "2  33.52056   -86.8025  35243.0  "
      ]
     },
     "execution_count": 57,
     "metadata": {},
     "output_type": "execute_result"
    }
   ],
   "source": [
    "df1.iloc[1:3]"
   ]
  },
  {
   "cell_type": "code",
   "execution_count": 58,
   "id": "9ee32b72-45c2-4524-9808-b12502918d9b",
   "metadata": {
    "tags": []
   },
   "outputs": [
    {
     "data": {
      "text/html": [
       "<div>\n",
       "<style scoped>\n",
       "    .dataframe tbody tr th:only-of-type {\n",
       "        vertical-align: middle;\n",
       "    }\n",
       "\n",
       "    .dataframe tbody tr th {\n",
       "        vertical-align: top;\n",
       "    }\n",
       "\n",
       "    .dataframe thead th {\n",
       "        text-align: right;\n",
       "    }\n",
       "</style>\n",
       "<table border=\"1\" class=\"dataframe\">\n",
       "  <thead>\n",
       "    <tr style=\"text-align: right;\">\n",
       "      <th></th>\n",
       "      <th>Transaction_date</th>\n",
       "      <th>Product</th>\n",
       "      <th>Price</th>\n",
       "      <th>Payment_Type</th>\n",
       "      <th>Name</th>\n",
       "      <th>City</th>\n",
       "      <th>State</th>\n",
       "      <th>Country</th>\n",
       "      <th>Account_Created</th>\n",
       "      <th>Last_Login</th>\n",
       "      <th>Latitude</th>\n",
       "      <th>Longitude</th>\n",
       "      <th>US Zip</th>\n",
       "    </tr>\n",
       "  </thead>\n",
       "  <tbody>\n",
       "    <tr>\n",
       "      <th>1</th>\n",
       "      <td>01/02/2009 13:08</td>\n",
       "      <td>Product1</td>\n",
       "      <td>1200</td>\n",
       "      <td>Mastercard</td>\n",
       "      <td>Federica e Andrea</td>\n",
       "      <td>Astoria</td>\n",
       "      <td>OR</td>\n",
       "      <td>United States</td>\n",
       "      <td>1/1/2009 16:21</td>\n",
       "      <td>1/3/2009 12:32</td>\n",
       "      <td>46.18806</td>\n",
       "      <td>-123.83000</td>\n",
       "      <td>97103.0</td>\n",
       "    </tr>\n",
       "    <tr>\n",
       "      <th>3</th>\n",
       "      <td>01/04/2009 13:19</td>\n",
       "      <td>Product1</td>\n",
       "      <td>1200</td>\n",
       "      <td>Visa</td>\n",
       "      <td>LAURENCE</td>\n",
       "      <td>Mickleton</td>\n",
       "      <td>NJ</td>\n",
       "      <td>United States</td>\n",
       "      <td>9/24/08 15:19</td>\n",
       "      <td>1/4/2009 13:04</td>\n",
       "      <td>39.79000</td>\n",
       "      <td>-75.23806</td>\n",
       "      <td>8056.0</td>\n",
       "    </tr>\n",
       "  </tbody>\n",
       "</table>\n",
       "</div>"
      ],
      "text/plain": [
       "   Transaction_date   Product  Price Payment_Type               Name  \\\n",
       "1  01/02/2009 13:08  Product1   1200   Mastercard  Federica e Andrea   \n",
       "3  01/04/2009 13:19  Product1   1200         Visa           LAURENCE   \n",
       "\n",
       "        City State        Country Account_Created      Last_Login  Latitude  \\\n",
       "1    Astoria    OR  United States  1/1/2009 16:21  1/3/2009 12:32  46.18806   \n",
       "3  Mickleton    NJ  United States   9/24/08 15:19  1/4/2009 13:04  39.79000   \n",
       "\n",
       "   Longitude   US Zip  \n",
       "1 -123.83000  97103.0  \n",
       "3  -75.23806   8056.0  "
      ]
     },
     "execution_count": 58,
     "metadata": {},
     "output_type": "execute_result"
    }
   ],
   "source": [
    "df1.iloc[[1,3]]"
   ]
  },
  {
   "cell_type": "code",
   "execution_count": 59,
   "id": "151d26f2-6240-4e89-b75a-bc814a6ebe5f",
   "metadata": {
    "tags": []
   },
   "outputs": [
    {
     "data": {
      "text/plain": [
       "'Gerd W'"
      ]
     },
     "execution_count": 59,
     "metadata": {},
     "output_type": "execute_result"
    }
   ],
   "source": [
    "df1.loc[2, 'Name']"
   ]
  },
  {
   "cell_type": "code",
   "execution_count": 60,
   "id": "4d1eb950-31c7-41e9-b9b2-66a8bc9c3fe4",
   "metadata": {
    "tags": []
   },
   "outputs": [
    {
     "data": {
      "text/html": [
       "<div>\n",
       "<style scoped>\n",
       "    .dataframe tbody tr th:only-of-type {\n",
       "        vertical-align: middle;\n",
       "    }\n",
       "\n",
       "    .dataframe tbody tr th {\n",
       "        vertical-align: top;\n",
       "    }\n",
       "\n",
       "    .dataframe thead th {\n",
       "        text-align: right;\n",
       "    }\n",
       "</style>\n",
       "<table border=\"1\" class=\"dataframe\">\n",
       "  <thead>\n",
       "    <tr style=\"text-align: right;\">\n",
       "      <th></th>\n",
       "      <th>Name</th>\n",
       "      <th>City</th>\n",
       "    </tr>\n",
       "  </thead>\n",
       "  <tbody>\n",
       "    <tr>\n",
       "      <th>2</th>\n",
       "      <td>Gerd W</td>\n",
       "      <td>Cahaba Heights</td>\n",
       "    </tr>\n",
       "    <tr>\n",
       "      <th>3</th>\n",
       "      <td>LAURENCE</td>\n",
       "      <td>Mickleton</td>\n",
       "    </tr>\n",
       "  </tbody>\n",
       "</table>\n",
       "</div>"
      ],
      "text/plain": [
       "       Name            City\n",
       "2    Gerd W  Cahaba Heights\n",
       "3  LAURENCE       Mickleton"
      ]
     },
     "execution_count": 60,
     "metadata": {},
     "output_type": "execute_result"
    }
   ],
   "source": [
    "df1.loc[[2,3], ['Name', 'City']]"
   ]
  },
  {
   "cell_type": "code",
   "execution_count": 62,
   "id": "77925acd-69a7-449c-86e3-85c39fe09916",
   "metadata": {
    "tags": []
   },
   "outputs": [],
   "source": [
    "df1.loc[6, 'City'] = 'Norman'"
   ]
  },
  {
   "cell_type": "code",
   "execution_count": 63,
   "id": "7beeb68f-5c0f-4729-9664-43f69915f985",
   "metadata": {
    "tags": []
   },
   "outputs": [
    {
     "data": {
      "text/plain": [
       "'Norman'"
      ]
     },
     "execution_count": 63,
     "metadata": {},
     "output_type": "execute_result"
    }
   ],
   "source": [
    "df1.loc[6, 'City']"
   ]
  },
  {
   "cell_type": "code",
   "execution_count": 64,
   "id": "cf536ed8-6b12-4596-87a7-ba6461238266",
   "metadata": {
    "tags": []
   },
   "outputs": [
    {
     "data": {
      "text/html": [
       "<div>\n",
       "<style scoped>\n",
       "    .dataframe tbody tr th:only-of-type {\n",
       "        vertical-align: middle;\n",
       "    }\n",
       "\n",
       "    .dataframe tbody tr th {\n",
       "        vertical-align: top;\n",
       "    }\n",
       "\n",
       "    .dataframe thead th {\n",
       "        text-align: right;\n",
       "    }\n",
       "</style>\n",
       "<table border=\"1\" class=\"dataframe\">\n",
       "  <thead>\n",
       "    <tr style=\"text-align: right;\">\n",
       "      <th></th>\n",
       "      <th>Transaction_date</th>\n",
       "      <th>Product</th>\n",
       "      <th>Price</th>\n",
       "      <th>Payment_Type</th>\n",
       "      <th>Name</th>\n",
       "      <th>City</th>\n",
       "      <th>State</th>\n",
       "      <th>Country</th>\n",
       "      <th>Account_Created</th>\n",
       "      <th>Last_Login</th>\n",
       "      <th>Latitude</th>\n",
       "      <th>Longitude</th>\n",
       "      <th>US Zip</th>\n",
       "    </tr>\n",
       "  </thead>\n",
       "  <tbody>\n",
       "    <tr>\n",
       "      <th>0</th>\n",
       "      <td>01/02/2009 04:53</td>\n",
       "      <td>Product1</td>\n",
       "      <td>120.0</td>\n",
       "      <td>Visa</td>\n",
       "      <td>Betina</td>\n",
       "      <td>Parkville</td>\n",
       "      <td>MO</td>\n",
       "      <td>United States</td>\n",
       "      <td>1/2/2009 04:42</td>\n",
       "      <td>1/2/2009 07:49</td>\n",
       "      <td>39.195000</td>\n",
       "      <td>-94.681940</td>\n",
       "      <td>64152.0</td>\n",
       "    </tr>\n",
       "    <tr>\n",
       "      <th>1</th>\n",
       "      <td>01/02/2009 13:08</td>\n",
       "      <td>Product1</td>\n",
       "      <td>120.0</td>\n",
       "      <td>Mastercard</td>\n",
       "      <td>Federica e Andrea</td>\n",
       "      <td>Astoria</td>\n",
       "      <td>OR</td>\n",
       "      <td>United States</td>\n",
       "      <td>1/1/2009 16:21</td>\n",
       "      <td>1/3/2009 12:32</td>\n",
       "      <td>46.188060</td>\n",
       "      <td>-123.830000</td>\n",
       "      <td>97103.0</td>\n",
       "    </tr>\n",
       "    <tr>\n",
       "      <th>2</th>\n",
       "      <td>01/04/2009 12:56</td>\n",
       "      <td>Product2</td>\n",
       "      <td>360.0</td>\n",
       "      <td>Visa</td>\n",
       "      <td>Gerd W</td>\n",
       "      <td>Cahaba Heights</td>\n",
       "      <td>AL</td>\n",
       "      <td>United States</td>\n",
       "      <td>11/15/08 15:47</td>\n",
       "      <td>1/4/2009 12:45</td>\n",
       "      <td>33.520560</td>\n",
       "      <td>-86.802500</td>\n",
       "      <td>35243.0</td>\n",
       "    </tr>\n",
       "    <tr>\n",
       "      <th>3</th>\n",
       "      <td>01/04/2009 13:19</td>\n",
       "      <td>Product1</td>\n",
       "      <td>120.0</td>\n",
       "      <td>Visa</td>\n",
       "      <td>LAURENCE</td>\n",
       "      <td>Mickleton</td>\n",
       "      <td>NJ</td>\n",
       "      <td>United States</td>\n",
       "      <td>9/24/08 15:19</td>\n",
       "      <td>1/4/2009 13:04</td>\n",
       "      <td>39.790000</td>\n",
       "      <td>-75.238060</td>\n",
       "      <td>8056.0</td>\n",
       "    </tr>\n",
       "    <tr>\n",
       "      <th>4</th>\n",
       "      <td>01/04/2009 20:11</td>\n",
       "      <td>Product1</td>\n",
       "      <td>120.0</td>\n",
       "      <td>Mastercard</td>\n",
       "      <td>Fleur</td>\n",
       "      <td>Peoria</td>\n",
       "      <td>IL</td>\n",
       "      <td>United States</td>\n",
       "      <td>1/3/2009 09:38</td>\n",
       "      <td>1/4/2009 19:45</td>\n",
       "      <td>40.693610</td>\n",
       "      <td>-89.588890</td>\n",
       "      <td>61601.0</td>\n",
       "    </tr>\n",
       "    <tr>\n",
       "      <th>...</th>\n",
       "      <td>...</td>\n",
       "      <td>...</td>\n",
       "      <td>...</td>\n",
       "      <td>...</td>\n",
       "      <td>...</td>\n",
       "      <td>...</td>\n",
       "      <td>...</td>\n",
       "      <td>...</td>\n",
       "      <td>...</td>\n",
       "      <td>...</td>\n",
       "      <td>...</td>\n",
       "      <td>...</td>\n",
       "      <td>...</td>\n",
       "    </tr>\n",
       "    <tr>\n",
       "      <th>993</th>\n",
       "      <td>01/02/2009 17:24</td>\n",
       "      <td>Product2</td>\n",
       "      <td>360.0</td>\n",
       "      <td>Diners</td>\n",
       "      <td>clara</td>\n",
       "      <td>Perth</td>\n",
       "      <td>Western Australia</td>\n",
       "      <td>Australia</td>\n",
       "      <td>1/1/2009 21:20</td>\n",
       "      <td>2/27/2009 18:43</td>\n",
       "      <td>-31.933333</td>\n",
       "      <td>115.833333</td>\n",
       "      <td>NaN</td>\n",
       "    </tr>\n",
       "    <tr>\n",
       "      <th>994</th>\n",
       "      <td>01/04/2009 18:57</td>\n",
       "      <td>Product1</td>\n",
       "      <td>120.0</td>\n",
       "      <td>Mastercard</td>\n",
       "      <td>KELI</td>\n",
       "      <td>Worongary</td>\n",
       "      <td>Queensland</td>\n",
       "      <td>Australia</td>\n",
       "      <td>12/23/08 15:17</td>\n",
       "      <td>2/28/2009 14:00</td>\n",
       "      <td>-28.050000</td>\n",
       "      <td>153.350000</td>\n",
       "      <td>NaN</td>\n",
       "    </tr>\n",
       "    <tr>\n",
       "      <th>995</th>\n",
       "      <td>01/23/2009 12:42</td>\n",
       "      <td>Product2</td>\n",
       "      <td>360.0</td>\n",
       "      <td>Mastercard</td>\n",
       "      <td>Anke</td>\n",
       "      <td>Avalon</td>\n",
       "      <td>New South Wales</td>\n",
       "      <td>Australia</td>\n",
       "      <td>3/3/08 17:38</td>\n",
       "      <td>2/28/2009 22:26</td>\n",
       "      <td>-33.633333</td>\n",
       "      <td>151.333333</td>\n",
       "      <td>NaN</td>\n",
       "    </tr>\n",
       "    <tr>\n",
       "      <th>996</th>\n",
       "      <td>01/07/2009 19:48</td>\n",
       "      <td>Product2</td>\n",
       "      <td>360.0</td>\n",
       "      <td>Mastercard</td>\n",
       "      <td>TRICIA</td>\n",
       "      <td>Sydney</td>\n",
       "      <td>New South Wales</td>\n",
       "      <td>Australia</td>\n",
       "      <td>9/21/08 20:49</td>\n",
       "      <td>3/1/2009 00:14</td>\n",
       "      <td>-33.883333</td>\n",
       "      <td>151.216667</td>\n",
       "      <td>NaN</td>\n",
       "    </tr>\n",
       "    <tr>\n",
       "      <th>997</th>\n",
       "      <td>01/25/2009 05:57</td>\n",
       "      <td>Product1</td>\n",
       "      <td>120.0</td>\n",
       "      <td>Amex</td>\n",
       "      <td>pamela</td>\n",
       "      <td>Ayacucho</td>\n",
       "      <td>Buenos Aires</td>\n",
       "      <td>Argentina</td>\n",
       "      <td>1/24/2009 09:29</td>\n",
       "      <td>2/10/2009 06:38</td>\n",
       "      <td>-37.150000</td>\n",
       "      <td>-58.483333</td>\n",
       "      <td>NaN</td>\n",
       "    </tr>\n",
       "  </tbody>\n",
       "</table>\n",
       "<p>998 rows × 13 columns</p>\n",
       "</div>"
      ],
      "text/plain": [
       "     Transaction_date   Product  Price Payment_Type               Name  \\\n",
       "0    01/02/2009 04:53  Product1  120.0         Visa             Betina   \n",
       "1    01/02/2009 13:08  Product1  120.0   Mastercard  Federica e Andrea   \n",
       "2    01/04/2009 12:56  Product2  360.0         Visa             Gerd W   \n",
       "3    01/04/2009 13:19  Product1  120.0         Visa           LAURENCE   \n",
       "4    01/04/2009 20:11  Product1  120.0   Mastercard              Fleur   \n",
       "..                ...       ...    ...          ...                ...   \n",
       "993  01/02/2009 17:24  Product2  360.0       Diners              clara   \n",
       "994  01/04/2009 18:57  Product1  120.0   Mastercard               KELI   \n",
       "995  01/23/2009 12:42  Product2  360.0   Mastercard               Anke   \n",
       "996  01/07/2009 19:48  Product2  360.0   Mastercard             TRICIA   \n",
       "997  01/25/2009 05:57  Product1  120.0         Amex             pamela   \n",
       "\n",
       "               City              State        Country  Account_Created  \\\n",
       "0         Parkville                 MO  United States   1/2/2009 04:42   \n",
       "1           Astoria                 OR  United States   1/1/2009 16:21   \n",
       "2    Cahaba Heights                 AL  United States   11/15/08 15:47   \n",
       "3         Mickleton                 NJ  United States    9/24/08 15:19   \n",
       "4            Peoria                 IL  United States   1/3/2009 09:38   \n",
       "..              ...                ...            ...              ...   \n",
       "993           Perth  Western Australia      Australia   1/1/2009 21:20   \n",
       "994       Worongary         Queensland      Australia   12/23/08 15:17   \n",
       "995          Avalon    New South Wales      Australia     3/3/08 17:38   \n",
       "996          Sydney    New South Wales      Australia    9/21/08 20:49   \n",
       "997        Ayacucho       Buenos Aires      Argentina  1/24/2009 09:29   \n",
       "\n",
       "          Last_Login   Latitude   Longitude   US Zip  \n",
       "0     1/2/2009 07:49  39.195000  -94.681940  64152.0  \n",
       "1     1/3/2009 12:32  46.188060 -123.830000  97103.0  \n",
       "2     1/4/2009 12:45  33.520560  -86.802500  35243.0  \n",
       "3     1/4/2009 13:04  39.790000  -75.238060   8056.0  \n",
       "4     1/4/2009 19:45  40.693610  -89.588890  61601.0  \n",
       "..               ...        ...         ...      ...  \n",
       "993  2/27/2009 18:43 -31.933333  115.833333      NaN  \n",
       "994  2/28/2009 14:00 -28.050000  153.350000      NaN  \n",
       "995  2/28/2009 22:26 -33.633333  151.333333      NaN  \n",
       "996   3/1/2009 00:14 -33.883333  151.216667      NaN  \n",
       "997  2/10/2009 06:38 -37.150000  -58.483333      NaN  \n",
       "\n",
       "[998 rows x 13 columns]"
      ]
     },
     "execution_count": 64,
     "metadata": {},
     "output_type": "execute_result"
    }
   ],
   "source": [
    "df1['Price'] /= 10\n",
    "df1"
   ]
  },
  {
   "cell_type": "code",
   "execution_count": 67,
   "id": "945ec432-ffab-4a2a-9422-e72ed04de710",
   "metadata": {
    "tags": []
   },
   "outputs": [],
   "source": [
    "df1['Price_Mod'] = df1['Price'] / 10"
   ]
  },
  {
   "cell_type": "code",
   "execution_count": 68,
   "id": "a6b21eff-28dd-45f1-b941-53d5d1805a49",
   "metadata": {
    "tags": []
   },
   "outputs": [
    {
     "data": {
      "text/html": [
       "<div>\n",
       "<style scoped>\n",
       "    .dataframe tbody tr th:only-of-type {\n",
       "        vertical-align: middle;\n",
       "    }\n",
       "\n",
       "    .dataframe tbody tr th {\n",
       "        vertical-align: top;\n",
       "    }\n",
       "\n",
       "    .dataframe thead th {\n",
       "        text-align: right;\n",
       "    }\n",
       "</style>\n",
       "<table border=\"1\" class=\"dataframe\">\n",
       "  <thead>\n",
       "    <tr style=\"text-align: right;\">\n",
       "      <th></th>\n",
       "      <th>Transaction_date</th>\n",
       "      <th>Product</th>\n",
       "      <th>Price</th>\n",
       "      <th>Payment_Type</th>\n",
       "      <th>Name</th>\n",
       "      <th>City</th>\n",
       "      <th>State</th>\n",
       "      <th>Country</th>\n",
       "      <th>Account_Created</th>\n",
       "      <th>Last_Login</th>\n",
       "      <th>Latitude</th>\n",
       "      <th>Longitude</th>\n",
       "      <th>US Zip</th>\n",
       "      <th>Price_Mod</th>\n",
       "    </tr>\n",
       "  </thead>\n",
       "  <tbody>\n",
       "    <tr>\n",
       "      <th>0</th>\n",
       "      <td>01/02/2009 04:53</td>\n",
       "      <td>Product1</td>\n",
       "      <td>120.0</td>\n",
       "      <td>Visa</td>\n",
       "      <td>Betina</td>\n",
       "      <td>Parkville</td>\n",
       "      <td>MO</td>\n",
       "      <td>United States</td>\n",
       "      <td>1/2/2009 04:42</td>\n",
       "      <td>1/2/2009 07:49</td>\n",
       "      <td>39.195000</td>\n",
       "      <td>-94.681940</td>\n",
       "      <td>64152.0</td>\n",
       "      <td>12.0</td>\n",
       "    </tr>\n",
       "    <tr>\n",
       "      <th>1</th>\n",
       "      <td>01/02/2009 13:08</td>\n",
       "      <td>Product1</td>\n",
       "      <td>120.0</td>\n",
       "      <td>Mastercard</td>\n",
       "      <td>Federica e Andrea</td>\n",
       "      <td>Astoria</td>\n",
       "      <td>OR</td>\n",
       "      <td>United States</td>\n",
       "      <td>1/1/2009 16:21</td>\n",
       "      <td>1/3/2009 12:32</td>\n",
       "      <td>46.188060</td>\n",
       "      <td>-123.830000</td>\n",
       "      <td>97103.0</td>\n",
       "      <td>12.0</td>\n",
       "    </tr>\n",
       "    <tr>\n",
       "      <th>2</th>\n",
       "      <td>01/04/2009 12:56</td>\n",
       "      <td>Product2</td>\n",
       "      <td>360.0</td>\n",
       "      <td>Visa</td>\n",
       "      <td>Gerd W</td>\n",
       "      <td>Cahaba Heights</td>\n",
       "      <td>AL</td>\n",
       "      <td>United States</td>\n",
       "      <td>11/15/08 15:47</td>\n",
       "      <td>1/4/2009 12:45</td>\n",
       "      <td>33.520560</td>\n",
       "      <td>-86.802500</td>\n",
       "      <td>35243.0</td>\n",
       "      <td>36.0</td>\n",
       "    </tr>\n",
       "    <tr>\n",
       "      <th>3</th>\n",
       "      <td>01/04/2009 13:19</td>\n",
       "      <td>Product1</td>\n",
       "      <td>120.0</td>\n",
       "      <td>Visa</td>\n",
       "      <td>LAURENCE</td>\n",
       "      <td>Mickleton</td>\n",
       "      <td>NJ</td>\n",
       "      <td>United States</td>\n",
       "      <td>9/24/08 15:19</td>\n",
       "      <td>1/4/2009 13:04</td>\n",
       "      <td>39.790000</td>\n",
       "      <td>-75.238060</td>\n",
       "      <td>8056.0</td>\n",
       "      <td>12.0</td>\n",
       "    </tr>\n",
       "    <tr>\n",
       "      <th>4</th>\n",
       "      <td>01/04/2009 20:11</td>\n",
       "      <td>Product1</td>\n",
       "      <td>120.0</td>\n",
       "      <td>Mastercard</td>\n",
       "      <td>Fleur</td>\n",
       "      <td>Peoria</td>\n",
       "      <td>IL</td>\n",
       "      <td>United States</td>\n",
       "      <td>1/3/2009 09:38</td>\n",
       "      <td>1/4/2009 19:45</td>\n",
       "      <td>40.693610</td>\n",
       "      <td>-89.588890</td>\n",
       "      <td>61601.0</td>\n",
       "      <td>12.0</td>\n",
       "    </tr>\n",
       "    <tr>\n",
       "      <th>...</th>\n",
       "      <td>...</td>\n",
       "      <td>...</td>\n",
       "      <td>...</td>\n",
       "      <td>...</td>\n",
       "      <td>...</td>\n",
       "      <td>...</td>\n",
       "      <td>...</td>\n",
       "      <td>...</td>\n",
       "      <td>...</td>\n",
       "      <td>...</td>\n",
       "      <td>...</td>\n",
       "      <td>...</td>\n",
       "      <td>...</td>\n",
       "      <td>...</td>\n",
       "    </tr>\n",
       "    <tr>\n",
       "      <th>993</th>\n",
       "      <td>01/02/2009 17:24</td>\n",
       "      <td>Product2</td>\n",
       "      <td>360.0</td>\n",
       "      <td>Diners</td>\n",
       "      <td>clara</td>\n",
       "      <td>Perth</td>\n",
       "      <td>Western Australia</td>\n",
       "      <td>Australia</td>\n",
       "      <td>1/1/2009 21:20</td>\n",
       "      <td>2/27/2009 18:43</td>\n",
       "      <td>-31.933333</td>\n",
       "      <td>115.833333</td>\n",
       "      <td>NaN</td>\n",
       "      <td>36.0</td>\n",
       "    </tr>\n",
       "    <tr>\n",
       "      <th>994</th>\n",
       "      <td>01/04/2009 18:57</td>\n",
       "      <td>Product1</td>\n",
       "      <td>120.0</td>\n",
       "      <td>Mastercard</td>\n",
       "      <td>KELI</td>\n",
       "      <td>Worongary</td>\n",
       "      <td>Queensland</td>\n",
       "      <td>Australia</td>\n",
       "      <td>12/23/08 15:17</td>\n",
       "      <td>2/28/2009 14:00</td>\n",
       "      <td>-28.050000</td>\n",
       "      <td>153.350000</td>\n",
       "      <td>NaN</td>\n",
       "      <td>12.0</td>\n",
       "    </tr>\n",
       "    <tr>\n",
       "      <th>995</th>\n",
       "      <td>01/23/2009 12:42</td>\n",
       "      <td>Product2</td>\n",
       "      <td>360.0</td>\n",
       "      <td>Mastercard</td>\n",
       "      <td>Anke</td>\n",
       "      <td>Avalon</td>\n",
       "      <td>New South Wales</td>\n",
       "      <td>Australia</td>\n",
       "      <td>3/3/08 17:38</td>\n",
       "      <td>2/28/2009 22:26</td>\n",
       "      <td>-33.633333</td>\n",
       "      <td>151.333333</td>\n",
       "      <td>NaN</td>\n",
       "      <td>36.0</td>\n",
       "    </tr>\n",
       "    <tr>\n",
       "      <th>996</th>\n",
       "      <td>01/07/2009 19:48</td>\n",
       "      <td>Product2</td>\n",
       "      <td>360.0</td>\n",
       "      <td>Mastercard</td>\n",
       "      <td>TRICIA</td>\n",
       "      <td>Sydney</td>\n",
       "      <td>New South Wales</td>\n",
       "      <td>Australia</td>\n",
       "      <td>9/21/08 20:49</td>\n",
       "      <td>3/1/2009 00:14</td>\n",
       "      <td>-33.883333</td>\n",
       "      <td>151.216667</td>\n",
       "      <td>NaN</td>\n",
       "      <td>36.0</td>\n",
       "    </tr>\n",
       "    <tr>\n",
       "      <th>997</th>\n",
       "      <td>01/25/2009 05:57</td>\n",
       "      <td>Product1</td>\n",
       "      <td>120.0</td>\n",
       "      <td>Amex</td>\n",
       "      <td>pamela</td>\n",
       "      <td>Ayacucho</td>\n",
       "      <td>Buenos Aires</td>\n",
       "      <td>Argentina</td>\n",
       "      <td>1/24/2009 09:29</td>\n",
       "      <td>2/10/2009 06:38</td>\n",
       "      <td>-37.150000</td>\n",
       "      <td>-58.483333</td>\n",
       "      <td>NaN</td>\n",
       "      <td>12.0</td>\n",
       "    </tr>\n",
       "  </tbody>\n",
       "</table>\n",
       "<p>998 rows × 14 columns</p>\n",
       "</div>"
      ],
      "text/plain": [
       "     Transaction_date   Product  Price Payment_Type               Name  \\\n",
       "0    01/02/2009 04:53  Product1  120.0         Visa             Betina   \n",
       "1    01/02/2009 13:08  Product1  120.0   Mastercard  Federica e Andrea   \n",
       "2    01/04/2009 12:56  Product2  360.0         Visa             Gerd W   \n",
       "3    01/04/2009 13:19  Product1  120.0         Visa           LAURENCE   \n",
       "4    01/04/2009 20:11  Product1  120.0   Mastercard              Fleur   \n",
       "..                ...       ...    ...          ...                ...   \n",
       "993  01/02/2009 17:24  Product2  360.0       Diners              clara   \n",
       "994  01/04/2009 18:57  Product1  120.0   Mastercard               KELI   \n",
       "995  01/23/2009 12:42  Product2  360.0   Mastercard               Anke   \n",
       "996  01/07/2009 19:48  Product2  360.0   Mastercard             TRICIA   \n",
       "997  01/25/2009 05:57  Product1  120.0         Amex             pamela   \n",
       "\n",
       "               City              State        Country  Account_Created  \\\n",
       "0         Parkville                 MO  United States   1/2/2009 04:42   \n",
       "1           Astoria                 OR  United States   1/1/2009 16:21   \n",
       "2    Cahaba Heights                 AL  United States   11/15/08 15:47   \n",
       "3         Mickleton                 NJ  United States    9/24/08 15:19   \n",
       "4            Peoria                 IL  United States   1/3/2009 09:38   \n",
       "..              ...                ...            ...              ...   \n",
       "993           Perth  Western Australia      Australia   1/1/2009 21:20   \n",
       "994       Worongary         Queensland      Australia   12/23/08 15:17   \n",
       "995          Avalon    New South Wales      Australia     3/3/08 17:38   \n",
       "996          Sydney    New South Wales      Australia    9/21/08 20:49   \n",
       "997        Ayacucho       Buenos Aires      Argentina  1/24/2009 09:29   \n",
       "\n",
       "          Last_Login   Latitude   Longitude   US Zip  Price_Mod  \n",
       "0     1/2/2009 07:49  39.195000  -94.681940  64152.0       12.0  \n",
       "1     1/3/2009 12:32  46.188060 -123.830000  97103.0       12.0  \n",
       "2     1/4/2009 12:45  33.520560  -86.802500  35243.0       36.0  \n",
       "3     1/4/2009 13:04  39.790000  -75.238060   8056.0       12.0  \n",
       "4     1/4/2009 19:45  40.693610  -89.588890  61601.0       12.0  \n",
       "..               ...        ...         ...      ...        ...  \n",
       "993  2/27/2009 18:43 -31.933333  115.833333      NaN       36.0  \n",
       "994  2/28/2009 14:00 -28.050000  153.350000      NaN       12.0  \n",
       "995  2/28/2009 22:26 -33.633333  151.333333      NaN       36.0  \n",
       "996   3/1/2009 00:14 -33.883333  151.216667      NaN       36.0  \n",
       "997  2/10/2009 06:38 -37.150000  -58.483333      NaN       12.0  \n",
       "\n",
       "[998 rows x 14 columns]"
      ]
     },
     "execution_count": 68,
     "metadata": {},
     "output_type": "execute_result"
    }
   ],
   "source": [
    "df1"
   ]
  },
  {
   "cell_type": "code",
   "execution_count": 69,
   "id": "be0655a5-bb6f-4637-a110-879f63954bfb",
   "metadata": {
    "tags": []
   },
   "outputs": [
    {
     "data": {
      "text/plain": [
       "0      MyProduct\n",
       "1      MyProduct\n",
       "2       Product2\n",
       "3      MyProduct\n",
       "4      MyProduct\n",
       "         ...    \n",
       "993     Product2\n",
       "994    MyProduct\n",
       "995     Product2\n",
       "996     Product2\n",
       "997    MyProduct\n",
       "Name: Product, Length: 998, dtype: object"
      ]
     },
     "execution_count": 69,
     "metadata": {},
     "output_type": "execute_result"
    }
   ],
   "source": [
    "df1.Product.replace('Product1', 'MyProduct')"
   ]
  },
  {
   "cell_type": "code",
   "execution_count": 70,
   "id": "449eabd5-84eb-4402-b213-d9a0b4c5031c",
   "metadata": {
    "tags": []
   },
   "outputs": [
    {
     "data": {
      "text/plain": [
       "0      110.0\n",
       "1      110.0\n",
       "2      360.0\n",
       "3      110.0\n",
       "4      110.0\n",
       "       ...  \n",
       "993    360.0\n",
       "994    110.0\n",
       "995    360.0\n",
       "996    360.0\n",
       "997    110.0\n",
       "Name: Price, Length: 998, dtype: float64"
      ]
     },
     "execution_count": 70,
     "metadata": {},
     "output_type": "execute_result"
    }
   ],
   "source": [
    "df1.Price.replace(120.0, 110.0)"
   ]
  },
  {
   "cell_type": "code",
   "execution_count": 71,
   "id": "6eb41030-af58-4b4a-9001-83b694d9b9de",
   "metadata": {
    "tags": []
   },
   "outputs": [
    {
     "data": {
      "text/plain": [
       "Transaction_date      0\n",
       "Product               0\n",
       "Price                 0\n",
       "Payment_Type          0\n",
       "Name                  0\n",
       "City                  0\n",
       "State                 9\n",
       "Country               0\n",
       "Account_Created       0\n",
       "Last_Login            0\n",
       "Latitude              0\n",
       "Longitude             0\n",
       "US Zip              535\n",
       "Price_Mod             0\n",
       "dtype: int64"
      ]
     },
     "execution_count": 71,
     "metadata": {},
     "output_type": "execute_result"
    }
   ],
   "source": [
    "df1.isnull().sum()"
   ]
  },
  {
   "cell_type": "code",
   "execution_count": 72,
   "id": "f2fcdaad-4411-4b62-8759-20e88f517715",
   "metadata": {
    "tags": []
   },
   "outputs": [
    {
     "data": {
      "text/plain": [
       "0      64152.0\n",
       "1      97103.0\n",
       "2      35243.0\n",
       "3       8056.0\n",
       "4      61601.0\n",
       "        ...   \n",
       "993      00000\n",
       "994      00000\n",
       "995      00000\n",
       "996      00000\n",
       "997      00000\n",
       "Name: US Zip, Length: 998, dtype: object"
      ]
     },
     "execution_count": 72,
     "metadata": {},
     "output_type": "execute_result"
    }
   ],
   "source": [
    "df1['US Zip'].fillna(\"00000\")"
   ]
  },
  {
   "cell_type": "markdown",
   "id": "16dd74cc-5efd-4260-98ae-d13981a8cd25",
   "metadata": {},
   "source": [
    "## Queries and Groups"
   ]
  },
  {
   "cell_type": "raw",
   "id": "a0b8c8e5-7ace-4802-ba76-2acd901a40b9",
   "metadata": {
    "tags": []
   },
   "source": [
    "df1[df1.Account_Created >= df1.Last_Login]"
   ]
  },
  {
   "cell_type": "code",
   "execution_count": 74,
   "id": "0137c4b0-2827-491a-ba0d-772c93a070de",
   "metadata": {
    "tags": []
   },
   "outputs": [
    {
     "data": {
      "text/html": [
       "<div>\n",
       "<style scoped>\n",
       "    .dataframe tbody tr th:only-of-type {\n",
       "        vertical-align: middle;\n",
       "    }\n",
       "\n",
       "    .dataframe tbody tr th {\n",
       "        vertical-align: top;\n",
       "    }\n",
       "\n",
       "    .dataframe thead th {\n",
       "        text-align: right;\n",
       "    }\n",
       "</style>\n",
       "<table border=\"1\" class=\"dataframe\">\n",
       "  <thead>\n",
       "    <tr style=\"text-align: right;\">\n",
       "      <th></th>\n",
       "      <th>Transaction_date</th>\n",
       "      <th>Product</th>\n",
       "      <th>Price</th>\n",
       "      <th>Payment_Type</th>\n",
       "      <th>Name</th>\n",
       "      <th>City</th>\n",
       "      <th>State</th>\n",
       "      <th>Country</th>\n",
       "      <th>Account_Created</th>\n",
       "      <th>Last_Login</th>\n",
       "      <th>Latitude</th>\n",
       "      <th>Longitude</th>\n",
       "      <th>US Zip</th>\n",
       "      <th>Price_Mod</th>\n",
       "    </tr>\n",
       "  </thead>\n",
       "  <tbody>\n",
       "    <tr>\n",
       "      <th>2</th>\n",
       "      <td>01/04/2009 12:56</td>\n",
       "      <td>Product2</td>\n",
       "      <td>360.0</td>\n",
       "      <td>Visa</td>\n",
       "      <td>Gerd W</td>\n",
       "      <td>Cahaba Heights</td>\n",
       "      <td>AL</td>\n",
       "      <td>United States</td>\n",
       "      <td>11/15/08 15:47</td>\n",
       "      <td>1/4/2009 12:45</td>\n",
       "      <td>33.520560</td>\n",
       "      <td>-86.802500</td>\n",
       "      <td>35243.0</td>\n",
       "      <td>36.0</td>\n",
       "    </tr>\n",
       "    <tr>\n",
       "      <th>3</th>\n",
       "      <td>01/04/2009 13:19</td>\n",
       "      <td>Product1</td>\n",
       "      <td>120.0</td>\n",
       "      <td>Visa</td>\n",
       "      <td>LAURENCE</td>\n",
       "      <td>Mickleton</td>\n",
       "      <td>NJ</td>\n",
       "      <td>United States</td>\n",
       "      <td>9/24/08 15:19</td>\n",
       "      <td>1/4/2009 13:04</td>\n",
       "      <td>39.790000</td>\n",
       "      <td>-75.238060</td>\n",
       "      <td>8056.0</td>\n",
       "      <td>12.0</td>\n",
       "    </tr>\n",
       "    <tr>\n",
       "      <th>8</th>\n",
       "      <td>01/05/2009 10:08</td>\n",
       "      <td>Product1</td>\n",
       "      <td>120.0</td>\n",
       "      <td>Visa</td>\n",
       "      <td>Georgia</td>\n",
       "      <td>Eagle</td>\n",
       "      <td>ID</td>\n",
       "      <td>United States</td>\n",
       "      <td>11/11/08 15:53</td>\n",
       "      <td>1/5/2009 10:05</td>\n",
       "      <td>43.695560</td>\n",
       "      <td>-116.353060</td>\n",
       "      <td>83616.0</td>\n",
       "      <td>12.0</td>\n",
       "    </tr>\n",
       "    <tr>\n",
       "      <th>9</th>\n",
       "      <td>01/02/2009 14:18</td>\n",
       "      <td>Product1</td>\n",
       "      <td>120.0</td>\n",
       "      <td>Visa</td>\n",
       "      <td>Richard</td>\n",
       "      <td>Riverside</td>\n",
       "      <td>NJ</td>\n",
       "      <td>United States</td>\n",
       "      <td>12/9/08 12:07</td>\n",
       "      <td>1/5/2009 11:01</td>\n",
       "      <td>40.032220</td>\n",
       "      <td>-74.957780</td>\n",
       "      <td>8075.0</td>\n",
       "      <td>12.0</td>\n",
       "    </tr>\n",
       "    <tr>\n",
       "      <th>10</th>\n",
       "      <td>01/02/2009 07:35</td>\n",
       "      <td>Product1</td>\n",
       "      <td>120.0</td>\n",
       "      <td>Diners</td>\n",
       "      <td>Hani</td>\n",
       "      <td>Salt Lake City</td>\n",
       "      <td>UT</td>\n",
       "      <td>United States</td>\n",
       "      <td>12/30/08 5:44</td>\n",
       "      <td>1/6/2009 10:52</td>\n",
       "      <td>40.760830</td>\n",
       "      <td>-111.890280</td>\n",
       "      <td>84111.0</td>\n",
       "      <td>12.0</td>\n",
       "    </tr>\n",
       "    <tr>\n",
       "      <th>...</th>\n",
       "      <td>...</td>\n",
       "      <td>...</td>\n",
       "      <td>...</td>\n",
       "      <td>...</td>\n",
       "      <td>...</td>\n",
       "      <td>...</td>\n",
       "      <td>...</td>\n",
       "      <td>...</td>\n",
       "      <td>...</td>\n",
       "      <td>...</td>\n",
       "      <td>...</td>\n",
       "      <td>...</td>\n",
       "      <td>...</td>\n",
       "      <td>...</td>\n",
       "    </tr>\n",
       "    <tr>\n",
       "      <th>988</th>\n",
       "      <td>01/19/2009 01:52</td>\n",
       "      <td>Product1</td>\n",
       "      <td>120.0</td>\n",
       "      <td>Amex</td>\n",
       "      <td>Kirsten</td>\n",
       "      <td>Melbourne</td>\n",
       "      <td>Victoria</td>\n",
       "      <td>Australia</td>\n",
       "      <td>4/24/07 4:36</td>\n",
       "      <td>2/17/2009 01:20</td>\n",
       "      <td>-37.816667</td>\n",
       "      <td>144.966667</td>\n",
       "      <td>NaN</td>\n",
       "      <td>12.0</td>\n",
       "    </tr>\n",
       "    <tr>\n",
       "      <th>989</th>\n",
       "      <td>01/14/2009 00:03</td>\n",
       "      <td>Product2</td>\n",
       "      <td>360.0</td>\n",
       "      <td>Mastercard</td>\n",
       "      <td>Piret</td>\n",
       "      <td>Bunbury</td>\n",
       "      <td>Western Australia</td>\n",
       "      <td>Australia</td>\n",
       "      <td>6/16/08 18:22</td>\n",
       "      <td>2/17/2009 19:31</td>\n",
       "      <td>-33.333333</td>\n",
       "      <td>115.633333</td>\n",
       "      <td>NaN</td>\n",
       "      <td>36.0</td>\n",
       "    </tr>\n",
       "    <tr>\n",
       "      <th>991</th>\n",
       "      <td>01/23/2009 21:35</td>\n",
       "      <td>Product1</td>\n",
       "      <td>120.0</td>\n",
       "      <td>Visa</td>\n",
       "      <td>Ann</td>\n",
       "      <td>Brisbane</td>\n",
       "      <td>Queensland</td>\n",
       "      <td>Australia</td>\n",
       "      <td>4/21/07 19:33</td>\n",
       "      <td>2/18/2009 23:12</td>\n",
       "      <td>-27.500000</td>\n",
       "      <td>153.016667</td>\n",
       "      <td>NaN</td>\n",
       "      <td>12.0</td>\n",
       "    </tr>\n",
       "    <tr>\n",
       "      <th>995</th>\n",
       "      <td>01/23/2009 12:42</td>\n",
       "      <td>Product2</td>\n",
       "      <td>360.0</td>\n",
       "      <td>Mastercard</td>\n",
       "      <td>Anke</td>\n",
       "      <td>Avalon</td>\n",
       "      <td>New South Wales</td>\n",
       "      <td>Australia</td>\n",
       "      <td>3/3/08 17:38</td>\n",
       "      <td>2/28/2009 22:26</td>\n",
       "      <td>-33.633333</td>\n",
       "      <td>151.333333</td>\n",
       "      <td>NaN</td>\n",
       "      <td>36.0</td>\n",
       "    </tr>\n",
       "    <tr>\n",
       "      <th>996</th>\n",
       "      <td>01/07/2009 19:48</td>\n",
       "      <td>Product2</td>\n",
       "      <td>360.0</td>\n",
       "      <td>Mastercard</td>\n",
       "      <td>TRICIA</td>\n",
       "      <td>Sydney</td>\n",
       "      <td>New South Wales</td>\n",
       "      <td>Australia</td>\n",
       "      <td>9/21/08 20:49</td>\n",
       "      <td>3/1/2009 00:14</td>\n",
       "      <td>-33.883333</td>\n",
       "      <td>151.216667</td>\n",
       "      <td>NaN</td>\n",
       "      <td>36.0</td>\n",
       "    </tr>\n",
       "  </tbody>\n",
       "</table>\n",
       "<p>413 rows × 14 columns</p>\n",
       "</div>"
      ],
      "text/plain": [
       "     Transaction_date   Product  Price Payment_Type      Name            City  \\\n",
       "2    01/04/2009 12:56  Product2  360.0         Visa    Gerd W  Cahaba Heights   \n",
       "3    01/04/2009 13:19  Product1  120.0         Visa  LAURENCE       Mickleton   \n",
       "8    01/05/2009 10:08  Product1  120.0         Visa   Georgia           Eagle   \n",
       "9    01/02/2009 14:18  Product1  120.0         Visa   Richard       Riverside   \n",
       "10   01/02/2009 07:35  Product1  120.0       Diners      Hani  Salt Lake City   \n",
       "..                ...       ...    ...          ...       ...             ...   \n",
       "988  01/19/2009 01:52  Product1  120.0         Amex   Kirsten       Melbourne   \n",
       "989  01/14/2009 00:03  Product2  360.0   Mastercard     Piret         Bunbury   \n",
       "991  01/23/2009 21:35  Product1  120.0         Visa       Ann        Brisbane   \n",
       "995  01/23/2009 12:42  Product2  360.0   Mastercard      Anke          Avalon   \n",
       "996  01/07/2009 19:48  Product2  360.0   Mastercard    TRICIA          Sydney   \n",
       "\n",
       "                 State        Country Account_Created       Last_Login  \\\n",
       "2                   AL  United States  11/15/08 15:47   1/4/2009 12:45   \n",
       "3                   NJ  United States   9/24/08 15:19   1/4/2009 13:04   \n",
       "8                   ID  United States  11/11/08 15:53   1/5/2009 10:05   \n",
       "9                   NJ  United States   12/9/08 12:07   1/5/2009 11:01   \n",
       "10                  UT  United States   12/30/08 5:44   1/6/2009 10:52   \n",
       "..                 ...            ...             ...              ...   \n",
       "988           Victoria      Australia    4/24/07 4:36  2/17/2009 01:20   \n",
       "989  Western Australia      Australia   6/16/08 18:22  2/17/2009 19:31   \n",
       "991         Queensland      Australia   4/21/07 19:33  2/18/2009 23:12   \n",
       "995    New South Wales      Australia    3/3/08 17:38  2/28/2009 22:26   \n",
       "996    New South Wales      Australia   9/21/08 20:49   3/1/2009 00:14   \n",
       "\n",
       "      Latitude   Longitude   US Zip  Price_Mod  \n",
       "2    33.520560  -86.802500  35243.0       36.0  \n",
       "3    39.790000  -75.238060   8056.0       12.0  \n",
       "8    43.695560 -116.353060  83616.0       12.0  \n",
       "9    40.032220  -74.957780   8075.0       12.0  \n",
       "10   40.760830 -111.890280  84111.0       12.0  \n",
       "..         ...         ...      ...        ...  \n",
       "988 -37.816667  144.966667      NaN       12.0  \n",
       "989 -33.333333  115.633333      NaN       36.0  \n",
       "991 -27.500000  153.016667      NaN       12.0  \n",
       "995 -33.633333  151.333333      NaN       36.0  \n",
       "996 -33.883333  151.216667      NaN       36.0  \n",
       "\n",
       "[413 rows x 14 columns]"
      ]
     },
     "execution_count": 74,
     "metadata": {},
     "output_type": "execute_result"
    }
   ],
   "source": [
    "df1.query('Account_Created >= Last_Login')"
   ]
  },
  {
   "cell_type": "raw",
   "id": "5edcd523-6be3-423e-bf3f-cc9444740687",
   "metadata": {},
   "source": [
    "Select state, count(*) from df1 GROUP by state;"
   ]
  },
  {
   "cell_type": "code",
   "execution_count": 75,
   "id": "81f33c8d-fff1-46f9-abc2-66f6a6e902ac",
   "metadata": {
    "tags": []
   },
   "outputs": [
    {
     "data": {
      "text/plain": [
       "State\n",
       "AK                  5\n",
       "AL                  1\n",
       "AR                  3\n",
       "AZ                 10\n",
       "Aargau              2\n",
       "                   ..\n",
       "Wicklow             2\n",
       "Yukon Territory     1\n",
       "Zug                 2\n",
       "Zuid-Holland       10\n",
       "Zurich              8\n",
       "Length: 201, dtype: int64"
      ]
     },
     "execution_count": 75,
     "metadata": {},
     "output_type": "execute_result"
    }
   ],
   "source": [
    "df1.groupby(\"State\").size()"
   ]
  },
  {
   "cell_type": "code",
   "execution_count": 76,
   "id": "ac54bdc4-8132-4db2-bdf4-99fda29c3420",
   "metadata": {
    "tags": []
   },
   "outputs": [
    {
     "data": {
      "text/html": [
       "<div>\n",
       "<style scoped>\n",
       "    .dataframe tbody tr th:only-of-type {\n",
       "        vertical-align: middle;\n",
       "    }\n",
       "\n",
       "    .dataframe tbody tr th {\n",
       "        vertical-align: top;\n",
       "    }\n",
       "\n",
       "    .dataframe thead th {\n",
       "        text-align: right;\n",
       "    }\n",
       "</style>\n",
       "<table border=\"1\" class=\"dataframe\">\n",
       "  <thead>\n",
       "    <tr style=\"text-align: right;\">\n",
       "      <th></th>\n",
       "      <th>Transaction_date</th>\n",
       "      <th>Product</th>\n",
       "      <th>Price</th>\n",
       "      <th>Payment_Type</th>\n",
       "      <th>Name</th>\n",
       "      <th>City</th>\n",
       "      <th>Country</th>\n",
       "      <th>Account_Created</th>\n",
       "      <th>Last_Login</th>\n",
       "      <th>Latitude</th>\n",
       "      <th>Longitude</th>\n",
       "      <th>US Zip</th>\n",
       "      <th>Price_Mod</th>\n",
       "    </tr>\n",
       "    <tr>\n",
       "      <th>State</th>\n",
       "      <th></th>\n",
       "      <th></th>\n",
       "      <th></th>\n",
       "      <th></th>\n",
       "      <th></th>\n",
       "      <th></th>\n",
       "      <th></th>\n",
       "      <th></th>\n",
       "      <th></th>\n",
       "      <th></th>\n",
       "      <th></th>\n",
       "      <th></th>\n",
       "      <th></th>\n",
       "    </tr>\n",
       "  </thead>\n",
       "  <tbody>\n",
       "    <tr>\n",
       "      <th>AK</th>\n",
       "      <td>5</td>\n",
       "      <td>5</td>\n",
       "      <td>5</td>\n",
       "      <td>5</td>\n",
       "      <td>5</td>\n",
       "      <td>5</td>\n",
       "      <td>5</td>\n",
       "      <td>5</td>\n",
       "      <td>5</td>\n",
       "      <td>5</td>\n",
       "      <td>5</td>\n",
       "      <td>5</td>\n",
       "      <td>5</td>\n",
       "    </tr>\n",
       "    <tr>\n",
       "      <th>AL</th>\n",
       "      <td>1</td>\n",
       "      <td>1</td>\n",
       "      <td>1</td>\n",
       "      <td>1</td>\n",
       "      <td>1</td>\n",
       "      <td>1</td>\n",
       "      <td>1</td>\n",
       "      <td>1</td>\n",
       "      <td>1</td>\n",
       "      <td>1</td>\n",
       "      <td>1</td>\n",
       "      <td>1</td>\n",
       "      <td>1</td>\n",
       "    </tr>\n",
       "    <tr>\n",
       "      <th>AR</th>\n",
       "      <td>3</td>\n",
       "      <td>3</td>\n",
       "      <td>3</td>\n",
       "      <td>3</td>\n",
       "      <td>3</td>\n",
       "      <td>3</td>\n",
       "      <td>3</td>\n",
       "      <td>3</td>\n",
       "      <td>3</td>\n",
       "      <td>3</td>\n",
       "      <td>3</td>\n",
       "      <td>3</td>\n",
       "      <td>3</td>\n",
       "    </tr>\n",
       "    <tr>\n",
       "      <th>AZ</th>\n",
       "      <td>10</td>\n",
       "      <td>10</td>\n",
       "      <td>10</td>\n",
       "      <td>10</td>\n",
       "      <td>10</td>\n",
       "      <td>10</td>\n",
       "      <td>10</td>\n",
       "      <td>10</td>\n",
       "      <td>10</td>\n",
       "      <td>10</td>\n",
       "      <td>10</td>\n",
       "      <td>10</td>\n",
       "      <td>10</td>\n",
       "    </tr>\n",
       "    <tr>\n",
       "      <th>Aargau</th>\n",
       "      <td>2</td>\n",
       "      <td>2</td>\n",
       "      <td>2</td>\n",
       "      <td>2</td>\n",
       "      <td>2</td>\n",
       "      <td>2</td>\n",
       "      <td>2</td>\n",
       "      <td>2</td>\n",
       "      <td>2</td>\n",
       "      <td>2</td>\n",
       "      <td>2</td>\n",
       "      <td>0</td>\n",
       "      <td>2</td>\n",
       "    </tr>\n",
       "    <tr>\n",
       "      <th>...</th>\n",
       "      <td>...</td>\n",
       "      <td>...</td>\n",
       "      <td>...</td>\n",
       "      <td>...</td>\n",
       "      <td>...</td>\n",
       "      <td>...</td>\n",
       "      <td>...</td>\n",
       "      <td>...</td>\n",
       "      <td>...</td>\n",
       "      <td>...</td>\n",
       "      <td>...</td>\n",
       "      <td>...</td>\n",
       "      <td>...</td>\n",
       "    </tr>\n",
       "    <tr>\n",
       "      <th>Wicklow</th>\n",
       "      <td>2</td>\n",
       "      <td>2</td>\n",
       "      <td>2</td>\n",
       "      <td>2</td>\n",
       "      <td>2</td>\n",
       "      <td>2</td>\n",
       "      <td>2</td>\n",
       "      <td>2</td>\n",
       "      <td>2</td>\n",
       "      <td>2</td>\n",
       "      <td>2</td>\n",
       "      <td>0</td>\n",
       "      <td>2</td>\n",
       "    </tr>\n",
       "    <tr>\n",
       "      <th>Yukon Territory</th>\n",
       "      <td>1</td>\n",
       "      <td>1</td>\n",
       "      <td>1</td>\n",
       "      <td>1</td>\n",
       "      <td>1</td>\n",
       "      <td>1</td>\n",
       "      <td>1</td>\n",
       "      <td>1</td>\n",
       "      <td>1</td>\n",
       "      <td>1</td>\n",
       "      <td>1</td>\n",
       "      <td>0</td>\n",
       "      <td>1</td>\n",
       "    </tr>\n",
       "    <tr>\n",
       "      <th>Zug</th>\n",
       "      <td>2</td>\n",
       "      <td>2</td>\n",
       "      <td>2</td>\n",
       "      <td>2</td>\n",
       "      <td>2</td>\n",
       "      <td>2</td>\n",
       "      <td>2</td>\n",
       "      <td>2</td>\n",
       "      <td>2</td>\n",
       "      <td>2</td>\n",
       "      <td>2</td>\n",
       "      <td>0</td>\n",
       "      <td>2</td>\n",
       "    </tr>\n",
       "    <tr>\n",
       "      <th>Zuid-Holland</th>\n",
       "      <td>10</td>\n",
       "      <td>10</td>\n",
       "      <td>10</td>\n",
       "      <td>10</td>\n",
       "      <td>10</td>\n",
       "      <td>10</td>\n",
       "      <td>10</td>\n",
       "      <td>10</td>\n",
       "      <td>10</td>\n",
       "      <td>10</td>\n",
       "      <td>10</td>\n",
       "      <td>0</td>\n",
       "      <td>10</td>\n",
       "    </tr>\n",
       "    <tr>\n",
       "      <th>Zurich</th>\n",
       "      <td>8</td>\n",
       "      <td>8</td>\n",
       "      <td>8</td>\n",
       "      <td>8</td>\n",
       "      <td>8</td>\n",
       "      <td>8</td>\n",
       "      <td>8</td>\n",
       "      <td>8</td>\n",
       "      <td>8</td>\n",
       "      <td>8</td>\n",
       "      <td>8</td>\n",
       "      <td>0</td>\n",
       "      <td>8</td>\n",
       "    </tr>\n",
       "  </tbody>\n",
       "</table>\n",
       "<p>201 rows × 13 columns</p>\n",
       "</div>"
      ],
      "text/plain": [
       "                 Transaction_date  Product  Price  Payment_Type  Name  City  \\\n",
       "State                                                                         \n",
       "AK                              5        5      5             5     5     5   \n",
       "AL                              1        1      1             1     1     1   \n",
       "AR                              3        3      3             3     3     3   \n",
       "AZ                             10       10     10            10    10    10   \n",
       "Aargau                          2        2      2             2     2     2   \n",
       "...                           ...      ...    ...           ...   ...   ...   \n",
       "Wicklow                         2        2      2             2     2     2   \n",
       "Yukon Territory                 1        1      1             1     1     1   \n",
       "Zug                             2        2      2             2     2     2   \n",
       "Zuid-Holland                   10       10     10            10    10    10   \n",
       "Zurich                          8        8      8             8     8     8   \n",
       "\n",
       "                 Country  Account_Created  Last_Login  Latitude  Longitude  \\\n",
       "State                                                                        \n",
       "AK                     5                5           5         5          5   \n",
       "AL                     1                1           1         1          1   \n",
       "AR                     3                3           3         3          3   \n",
       "AZ                    10               10          10        10         10   \n",
       "Aargau                 2                2           2         2          2   \n",
       "...                  ...              ...         ...       ...        ...   \n",
       "Wicklow                2                2           2         2          2   \n",
       "Yukon Territory        1                1           1         1          1   \n",
       "Zug                    2                2           2         2          2   \n",
       "Zuid-Holland          10               10          10        10         10   \n",
       "Zurich                 8                8           8         8          8   \n",
       "\n",
       "                 US Zip  Price_Mod  \n",
       "State                               \n",
       "AK                    5          5  \n",
       "AL                    1          1  \n",
       "AR                    3          3  \n",
       "AZ                   10         10  \n",
       "Aargau                0          2  \n",
       "...                 ...        ...  \n",
       "Wicklow               0          2  \n",
       "Yukon Territory       0          1  \n",
       "Zug                   0          2  \n",
       "Zuid-Holland          0         10  \n",
       "Zurich                0          8  \n",
       "\n",
       "[201 rows x 13 columns]"
      ]
     },
     "execution_count": 76,
     "metadata": {},
     "output_type": "execute_result"
    }
   ],
   "source": [
    "df1.groupby(\"State\").count()"
   ]
  },
  {
   "cell_type": "code",
   "execution_count": 77,
   "id": "5952939c-3f57-44de-b894-c76752439e46",
   "metadata": {
    "tags": []
   },
   "outputs": [
    {
     "data": {
      "text/plain": [
       "State\n",
       "AK                  5\n",
       "AL                  1\n",
       "AR                  3\n",
       "AZ                 10\n",
       "Aargau              2\n",
       "                   ..\n",
       "Wicklow             2\n",
       "Yukon Territory     1\n",
       "Zug                 2\n",
       "Zuid-Holland       10\n",
       "Zurich              8\n",
       "Name: State, Length: 201, dtype: int64"
      ]
     },
     "execution_count": 77,
     "metadata": {},
     "output_type": "execute_result"
    }
   ],
   "source": [
    "df1.groupby(\"State\")['State'].count()"
   ]
  },
  {
   "cell_type": "raw",
   "id": "9044d093-24c3-4c0c-abb6-b0a60b76addb",
   "metadata": {},
   "source": [
    "Select state, count(*) from df1 GROUP by state ORDER by state DESC;"
   ]
  },
  {
   "cell_type": "code",
   "execution_count": 82,
   "id": "f8f63899-b8ae-47ea-a788-9dc392175719",
   "metadata": {
    "tags": []
   },
   "outputs": [
    {
     "data": {
      "text/plain": [
       "Name\n",
       "Sarah             11\n",
       "Lisa              10\n",
       "Elizabeth         10\n",
       "Nicole             9\n",
       "Kim                7\n",
       "                  ..\n",
       "Jannik             1\n",
       "Jasinta Jeanne     1\n",
       "Jean               1\n",
       "Jeannette          1\n",
       "verena             1\n",
       "Name: Name, Length: 742, dtype: int64"
      ]
     },
     "execution_count": 82,
     "metadata": {},
     "output_type": "execute_result"
    }
   ],
   "source": [
    "df1.groupby('Name')['Name'].count().sort_values(ascending=False)"
   ]
  },
  {
   "cell_type": "code",
   "execution_count": 89,
   "id": "719ce211-2205-486f-8b4a-551cd3da6eca",
   "metadata": {
    "tags": []
   },
   "outputs": [
    {
     "data": {
      "text/plain": [
       "State\n",
       "AK                  5\n",
       "AL                  1\n",
       "AR                  3\n",
       "AZ                 10\n",
       "Aargau              2\n",
       "                   ..\n",
       "Wicklow             2\n",
       "Yukon Territory     1\n",
       "Zug                 2\n",
       "Zuid-Holland       10\n",
       "Zurich              8\n",
       "Name: Name, Length: 201, dtype: int64"
      ]
     },
     "execution_count": 89,
     "metadata": {},
     "output_type": "execute_result"
    }
   ],
   "source": [
    "df1.groupby('State')['Name'].count()"
   ]
  },
  {
   "cell_type": "raw",
   "id": "e7fcc561-c817-467c-ac65-5005d5443b5a",
   "metadata": {},
   "source": [
    "Select MAX(price) as LargestPrice from df1 Group by Product ORDER by product ASC;"
   ]
  },
  {
   "cell_type": "code",
   "execution_count": 90,
   "id": "7f0decf3-8d46-4e0b-a858-1cb90856896e",
   "metadata": {
    "tags": []
   },
   "outputs": [
    {
     "data": {
      "text/plain": [
       "Product\n",
       "Product2     360.0\n",
       "Product3     750.0\n",
       "Product1    1300.0\n",
       "Name: Price, dtype: float64"
      ]
     },
     "execution_count": 90,
     "metadata": {},
     "output_type": "execute_result"
    }
   ],
   "source": [
    "df1.groupby('Product')['Price'].max().sort_values(ascending=True)"
   ]
  },
  {
   "cell_type": "markdown",
   "id": "e271e4fc-e901-420d-a9cb-b6cc9373426e",
   "metadata": {},
   "source": [
    "## Visualizations"
   ]
  },
  {
   "cell_type": "code",
   "execution_count": 93,
   "id": "a470345f-38b9-4e4a-9294-9b1f94fdccf4",
   "metadata": {
    "tags": []
   },
   "outputs": [
    {
     "data": {
      "image/png": "[encoded data removed]",
      "text/plain": [
       "<Figure size 400x400 with 5 Axes>"
      ]
     },
     "metadata": {},
     "output_type": "display_data"
    }
   ],
   "source": [
    "df1.plot(subplots = True, figsize=(4,4));"
   ]
  },
  {
   "cell_type": "code",
   "execution_count": 92,
   "id": "3349b4d9-6fef-4163-98ea-28eeb9578cc7",
   "metadata": {
    "tags": []
   },
   "outputs": [
    {
     "data": {
      "text/plain": [
       "<Axes: ylabel='Frequency'>"
      ]
     },
     "execution_count": 92,
     "metadata": {},
     "output_type": "execute_result"
    },
    {
     "data": {
      "image/png": "[encoded data removed]",
      "text/plain": [
       "<Figure size 640x480 with 1 Axes>"
      ]
     },
     "metadata": {},
     "output_type": "display_data"
    }
   ],
   "source": [
    "df1['Price'].plot.hist()"
   ]
  },
  {
   "cell_type": "code",
   "execution_count": 94,
   "id": "a39aa6fa-60d6-4c37-b2f9-9fb89efc6ca3",
   "metadata": {
    "tags": []
   },
   "outputs": [
    {
     "data": {
      "image/png": "[encoded data removed]",
      "text/plain": [
       "<Figure size 800x800 with 6 Axes>"
      ]
     },
     "metadata": {},
     "output_type": "display_data"
    }
   ],
   "source": [
    "_ = df1.hist(figsize=(8,8))"
   ]
  },
  {
   "cell_type": "code",
   "execution_count": 95,
   "id": "9c3788fe-cb6e-418f-b0f3-cc4a032f5e06",
   "metadata": {
    "tags": []
   },
   "outputs": [
    {
     "data": {
      "text/plain": [
       "<Axes: >"
      ]
     },
     "execution_count": 95,
     "metadata": {},
     "output_type": "execute_result"
    },
    {
     "data": {
      "image/png": "[encoded data removed]",
      "text/plain": [
       "<Figure size 640x480 with 1 Axes>"
      ]
     },
     "metadata": {},
     "output_type": "display_data"
    }
   ],
   "source": [
    "df1[['Latitude', 'Longitude']].plot.box()"
   ]
  },
  {
   "cell_type": "code",
   "execution_count": 97,
   "id": "4e294745-dfa8-40b7-90b1-33224d2a9d46",
   "metadata": {
    "tags": []
   },
   "outputs": [
    {
     "data": {
      "text/plain": [
       "<Axes: xlabel='Product', ylabel='Price'>"
      ]
     },
     "execution_count": 97,
     "metadata": {},
     "output_type": "execute_result"
    },
    {
     "data": {
      "image/png": "[encoded data removed]",
      "text/plain": [
       "<Figure size 640x480 with 1 Axes>"
      ]
     },
     "metadata": {},
     "output_type": "display_data"
    }
   ],
   "source": [
    "df1.plot.scatter(x='Product', y='Price')"
   ]
  },
  {
   "cell_type": "code",
   "execution_count": 98,
   "id": "f4c2aa1d-60f7-4cc0-a2b9-bc5f48346ef6",
   "metadata": {
    "tags": []
   },
   "outputs": [
    {
     "data": {
      "text/plain": [
       "<Axes: xlabel='Product'>"
      ]
     },
     "execution_count": 98,
     "metadata": {},
     "output_type": "execute_result"
    },
    {
     "data": {
      "image/png": "[encoded data removed]",
      "text/plain": [
       "<Figure size 640x480 with 1 Axes>"
      ]
     },
     "metadata": {},
     "output_type": "display_data"
    }
   ],
   "source": [
    "df1.groupby('Product')['Price'].count().sort_values(ascending=True).plot(kind='bar')"
   ]
  },
  {
   "cell_type": "markdown",
   "id": "27a3cefa-829d-45cf-a4fb-42fda251f947",
   "metadata": {},
   "source": [
    "## Fill between"
   ]
  },
  {
   "cell_type": "code",
   "execution_count": 99,
   "id": "aee6ac51-b92f-403e-a560-a090b04863c3",
   "metadata": {
    "tags": []
   },
   "outputs": [],
   "source": [
    "import matplotlib.pyplot as plt"
   ]
  },
  {
   "cell_type": "code",
   "execution_count": 100,
   "id": "903dc24e-d314-4dae-b653-eb3d750d9579",
   "metadata": {
    "tags": []
   },
   "outputs": [
    {
     "data": {
      "image/png": "[encoded data removed]",
      "text/plain": [
       "<Figure size 640x480 with 1 Axes>"
      ]
     },
     "metadata": {},
     "output_type": "display_data"
    }
   ],
   "source": [
    "x = np.arange(10)\n",
    "y = np.random.randint(10, size=10)\n",
    "\n",
    "plt.plot(x,y, '-o')\n",
    "plt.show()"
   ]
  },
  {
   "cell_type": "code",
   "execution_count": 101,
   "id": "5a9b36f3-35a3-4d81-98d7-3e44a7407a9e",
   "metadata": {
    "tags": []
   },
   "outputs": [
    {
     "data": {
      "image/png": "[encoded data removed]",
      "text/plain": [
       "<Figure size 640x480 with 1 Axes>"
      ]
     },
     "metadata": {},
     "output_type": "display_data"
    }
   ],
   "source": [
    "plt.plot(x,y, '-o')\n",
    "\n",
    "plt.fill_between(x, y, color='yellow', alpha=0.5)\n",
    "plt.show()"
   ]
  },
  {
   "cell_type": "code",
   "execution_count": null,
   "id": "fda04331-d48c-4aa0-84f0-2d5c0b5df859",
   "metadata": {},
   "outputs": [],
   "source": []
  }
 ],
 "metadata": {
  "kernelspec": {
   "display_name": "Python 3 (ipykernel)",
   "language": "python",
   "name": "python3"
  },
  "language_info": {
   "codemirror_mode": {
    "name": "ipython",
    "version": 3
   },
   "file_extension": ".py",
   "mimetype": "text/x-python",
   "name": "python",
   "nbconvert_exporter": "python",
   "pygments_lexer": "ipython3",
   "version": "3.11.1"
  }
 },
 "nbformat": 4,
 "nbformat_minor": 5
}
