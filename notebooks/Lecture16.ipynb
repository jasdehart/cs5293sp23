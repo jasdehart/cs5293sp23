{
 "cells": [
  {
   "cell_type": "markdown",
   "id": "4d748dbd-894c-489c-93e0-7b444c23b0d7",
   "metadata": {},
   "source": [
    "## Lecture 16: Vectorizer and Vectorization"
   ]
  },
  {
   "cell_type": "markdown",
   "id": "1292f150-b1f9-4d40-8743-6ea6686bfb84",
   "metadata": {},
   "source": [
    "Given a corpus, C, normalize C, then vectorize C. --> Vocab and weights\n",
    "\n",
    "Get vocab --> vocab is list of that appear in C.\n",
    "\n",
    "Create a vector where each entry is a weight for item/vocab.\n",
    "\n",
    "Corpus = ['Old macdonald had a farm, on his farm on had a cow. Old macdonald had a farm, on his farm had a pig. Old macdonald had a farm, on his farm he had a goat.']\n",
    "\n",
    "normalize(corpus) --> Old, macdonald, farm, pig, cow, goat\n",
    "\n",
    "Old, macdonald, farm, pig, cow, goat\n",
    "[1, 1, 1, 0, 1, 0]\n",
    "[1, 1, 1, 1, 0, 0]\n",
    "[1, 1, 1, 0, 0, 1]\n",
    "\n",
    "### N-grams\n",
    "Vocabulary size can based on the n-gram\n",
    "\n",
    "1-gram: Old, macdonald, farm, pig, cow, goat\n",
    "2-gram: Old macdonald, macdonald farm, farm pig, pig cow, cow goat\n",
    "\n",
    "\n",
    "## TF-IDF\n",
    "term frequency - count of terms that appear in the document\n",
    "\n",
    "document frequency - number of documents that contain term\n",
    "\n"
   ]
  },
  {
   "cell_type": "code",
   "execution_count": 1,
   "id": "0dcc8407-3c0c-4337-87f2-b1090d59eeb0",
   "metadata": {
    "tags": []
   },
   "outputs": [
    {
     "name": "stdout",
     "output_type": "stream",
     "text": [
      "\u001b[32m\u001b[1mInstalling scikit-learn...\u001b[0m\n",
      "\u001b[?25lResolving scikit-learn\u001b[33m...\u001b[0m\n",
      "\u001b[2KInstalling\u001b[33m...\u001b[0m\n",
      "\u001b[2K\u001b[1mAdding \u001b[0m\u001b[1;32mscikit-learn\u001b[0m to Pipfile's \u001b[1;33m[\u001b[0m\u001b[33mpackages\u001b[0m\u001b[1;33m]\u001b[0m \u001b[33m...\u001b[0m\n",
      "\u001b[2K✔ Installation Succeeded-learn...\n",
      "\u001b[2K\u001b[32m⠏\u001b[0m Installing scikit-learn...\n",
      "\u001b[1A\u001b[2K\u001b[33m\u001b[1mPipfile.lock (6feff3) out of date, updating to (5653a4)...\u001b[0m\n",
      "Locking\u001b[0m \u001b[33m[packages]\u001b[0m dependencies...\u001b[0m\n",
      "\u001b[?25lBuilding requirements\u001b[33m...\u001b[0m\n",
      "\u001b[2KResolving dependencies\u001b[33m...\u001b[0m\n",
      "\u001b[2K✔ Success! Locking...\n",
      "\u001b[2K\u001b[32m⠹\u001b[0m Locking...\n",
      "\u001b[1A\u001b[2KLocking\u001b[0m \u001b[33m[dev-packages]\u001b[0m dependencies...\u001b[0m\n",
      "\u001b[1mUpdated Pipfile.lock (b0f9d322314520ab4c2308d6d4ba38c01cd983ce6a2337a34449768d005653a4)!\u001b[0m\n",
      "\u001b[1mInstalling dependencies from Pipfile.lock (5653a4)...\u001b[0m\n"
     ]
    }
   ],
   "source": [
    "! pipenv install scikit-learn"
   ]
  },
  {
   "cell_type": "code",
   "execution_count": 2,
   "id": "33117dcc-80b0-42c5-8e51-073c1fbd8b86",
   "metadata": {
    "tags": []
   },
   "outputs": [
    {
     "data": {
      "text/plain": [
       "['Old macdonald had a farm, on his farm on had a cow.',\n",
       " 'Old macdonald had a farm, on his farm had a pig.',\n",
       " 'Old macdonald had a farm, on his farm he had a goat.']"
      ]
     },
     "execution_count": 2,
     "metadata": {},
     "output_type": "execute_result"
    }
   ],
   "source": [
    "corpus = ['Old macdonald had a farm, on his farm on had a cow.', \n",
    "          'Old macdonald had a farm, on his farm had a pig.',\n",
    "          'Old macdonald had a farm, on his farm he had a goat.']\n",
    "corpus"
   ]
  },
  {
   "cell_type": "code",
   "execution_count": 3,
   "id": "20e16673-9d2a-48d1-bbf4-63a7694a80dd",
   "metadata": {
    "tags": []
   },
   "outputs": [],
   "source": [
    "from sklearn.feature_extraction.text import CountVectorizer"
   ]
  },
  {
   "cell_type": "code",
   "execution_count": 4,
   "id": "f31a75c3-79e5-4351-acdc-36f9c5a9039e",
   "metadata": {
    "tags": []
   },
   "outputs": [
    {
     "data": {
      "text/plain": [
       "<3x10 sparse matrix of type '<class 'numpy.int64'>'\n",
       "\twith 22 stored elements in Compressed Sparse Row format>"
      ]
     },
     "execution_count": 4,
     "metadata": {},
     "output_type": "execute_result"
    }
   ],
   "source": [
    "cv = CountVectorizer()\n",
    "cv_matrix = cv.fit_transform(corpus)\n",
    "cv_matrix"
   ]
  },
  {
   "cell_type": "code",
   "execution_count": 5,
   "id": "3cb4be90-1079-4c0e-9c0c-6b4200a997a2",
   "metadata": {
    "tags": []
   },
   "outputs": [
    {
     "data": {
      "text/plain": [
       "array([[1, 2, 0, 2, 0, 1, 1, 1, 2, 0],\n",
       "       [0, 2, 0, 2, 0, 1, 1, 1, 1, 1],\n",
       "       [0, 2, 1, 2, 1, 1, 1, 1, 1, 0]])"
      ]
     },
     "execution_count": 5,
     "metadata": {},
     "output_type": "execute_result"
    }
   ],
   "source": [
    "cv_matrix.toarray()"
   ]
  },
  {
   "cell_type": "code",
   "execution_count": 7,
   "id": "83460bba-9ea6-4caf-b21b-5dd05c185836",
   "metadata": {
    "tags": []
   },
   "outputs": [],
   "source": [
    "vocab = cv.get_feature_names_out()"
   ]
  },
  {
   "cell_type": "code",
   "execution_count": 8,
   "id": "e1aa1faa-6a76-446b-8ca4-a7a07db4343f",
   "metadata": {
    "tags": []
   },
   "outputs": [
    {
     "data": {
      "text/plain": [
       "array(['cow', 'farm', 'goat', 'had', 'he', 'his', 'macdonald', 'old',\n",
       "       'on', 'pig'], dtype=object)"
      ]
     },
     "execution_count": 8,
     "metadata": {},
     "output_type": "execute_result"
    }
   ],
   "source": [
    "vocab"
   ]
  },
  {
   "cell_type": "code",
   "execution_count": 9,
   "id": "312b2ede-e816-4f08-82d2-6b1245f4515f",
   "metadata": {
    "tags": []
   },
   "outputs": [],
   "source": [
    "import pandas as pd\n",
    "df = pd.DataFrame(cv_matrix.toarray(), columns=vocab)"
   ]
  },
  {
   "cell_type": "code",
   "execution_count": 10,
   "id": "9899cdd8-a520-4f18-a71b-6c0e07e8f542",
   "metadata": {
    "tags": []
   },
   "outputs": [
    {
     "data": {
      "text/html": [
       "<div>\n",
       "<style scoped>\n",
       "    .dataframe tbody tr th:only-of-type {\n",
       "        vertical-align: middle;\n",
       "    }\n",
       "\n",
       "    .dataframe tbody tr th {\n",
       "        vertical-align: top;\n",
       "    }\n",
       "\n",
       "    .dataframe thead th {\n",
       "        text-align: right;\n",
       "    }\n",
       "</style>\n",
       "<table border=\"1\" class=\"dataframe\">\n",
       "  <thead>\n",
       "    <tr style=\"text-align: right;\">\n",
       "      <th></th>\n",
       "      <th>cow</th>\n",
       "      <th>farm</th>\n",
       "      <th>goat</th>\n",
       "      <th>had</th>\n",
       "      <th>he</th>\n",
       "      <th>his</th>\n",
       "      <th>macdonald</th>\n",
       "      <th>old</th>\n",
       "      <th>on</th>\n",
       "      <th>pig</th>\n",
       "    </tr>\n",
       "  </thead>\n",
       "  <tbody>\n",
       "    <tr>\n",
       "      <th>0</th>\n",
       "      <td>1</td>\n",
       "      <td>2</td>\n",
       "      <td>0</td>\n",
       "      <td>2</td>\n",
       "      <td>0</td>\n",
       "      <td>1</td>\n",
       "      <td>1</td>\n",
       "      <td>1</td>\n",
       "      <td>2</td>\n",
       "      <td>0</td>\n",
       "    </tr>\n",
       "    <tr>\n",
       "      <th>1</th>\n",
       "      <td>0</td>\n",
       "      <td>2</td>\n",
       "      <td>0</td>\n",
       "      <td>2</td>\n",
       "      <td>0</td>\n",
       "      <td>1</td>\n",
       "      <td>1</td>\n",
       "      <td>1</td>\n",
       "      <td>1</td>\n",
       "      <td>1</td>\n",
       "    </tr>\n",
       "    <tr>\n",
       "      <th>2</th>\n",
       "      <td>0</td>\n",
       "      <td>2</td>\n",
       "      <td>1</td>\n",
       "      <td>2</td>\n",
       "      <td>1</td>\n",
       "      <td>1</td>\n",
       "      <td>1</td>\n",
       "      <td>1</td>\n",
       "      <td>1</td>\n",
       "      <td>0</td>\n",
       "    </tr>\n",
       "  </tbody>\n",
       "</table>\n",
       "</div>"
      ],
      "text/plain": [
       "   cow  farm  goat  had  he  his  macdonald  old  on  pig\n",
       "0    1     2     0    2   0    1          1    1   2    0\n",
       "1    0     2     0    2   0    1          1    1   1    1\n",
       "2    0     2     1    2   1    1          1    1   1    0"
      ]
     },
     "execution_count": 10,
     "metadata": {},
     "output_type": "execute_result"
    }
   ],
   "source": [
    "df"
   ]
  },
  {
   "cell_type": "code",
   "execution_count": 12,
   "id": "979f81cc-57df-451b-93a2-2cfd5bc33d3f",
   "metadata": {
    "tags": []
   },
   "outputs": [
    {
     "data": {
      "text/html": [
       "<div>\n",
       "<style scoped>\n",
       "    .dataframe tbody tr th:only-of-type {\n",
       "        vertical-align: middle;\n",
       "    }\n",
       "\n",
       "    .dataframe tbody tr th {\n",
       "        vertical-align: top;\n",
       "    }\n",
       "\n",
       "    .dataframe thead th {\n",
       "        text-align: right;\n",
       "    }\n",
       "</style>\n",
       "<table border=\"1\" class=\"dataframe\">\n",
       "  <thead>\n",
       "    <tr style=\"text-align: right;\">\n",
       "      <th></th>\n",
       "      <th>cow</th>\n",
       "      <th>farm</th>\n",
       "      <th>farm had</th>\n",
       "      <th>farm he</th>\n",
       "      <th>farm on</th>\n",
       "      <th>goat</th>\n",
       "      <th>had</th>\n",
       "      <th>had cow</th>\n",
       "      <th>had farm</th>\n",
       "      <th>had goat</th>\n",
       "      <th>...</th>\n",
       "      <th>his</th>\n",
       "      <th>his farm</th>\n",
       "      <th>macdonald</th>\n",
       "      <th>macdonald had</th>\n",
       "      <th>old</th>\n",
       "      <th>old macdonald</th>\n",
       "      <th>on</th>\n",
       "      <th>on had</th>\n",
       "      <th>on his</th>\n",
       "      <th>pig</th>\n",
       "    </tr>\n",
       "  </thead>\n",
       "  <tbody>\n",
       "    <tr>\n",
       "      <th>0</th>\n",
       "      <td>1</td>\n",
       "      <td>2</td>\n",
       "      <td>0</td>\n",
       "      <td>0</td>\n",
       "      <td>2</td>\n",
       "      <td>0</td>\n",
       "      <td>2</td>\n",
       "      <td>1</td>\n",
       "      <td>1</td>\n",
       "      <td>0</td>\n",
       "      <td>...</td>\n",
       "      <td>1</td>\n",
       "      <td>1</td>\n",
       "      <td>1</td>\n",
       "      <td>1</td>\n",
       "      <td>1</td>\n",
       "      <td>1</td>\n",
       "      <td>2</td>\n",
       "      <td>1</td>\n",
       "      <td>1</td>\n",
       "      <td>0</td>\n",
       "    </tr>\n",
       "    <tr>\n",
       "      <th>1</th>\n",
       "      <td>0</td>\n",
       "      <td>2</td>\n",
       "      <td>1</td>\n",
       "      <td>0</td>\n",
       "      <td>1</td>\n",
       "      <td>0</td>\n",
       "      <td>2</td>\n",
       "      <td>0</td>\n",
       "      <td>1</td>\n",
       "      <td>0</td>\n",
       "      <td>...</td>\n",
       "      <td>1</td>\n",
       "      <td>1</td>\n",
       "      <td>1</td>\n",
       "      <td>1</td>\n",
       "      <td>1</td>\n",
       "      <td>1</td>\n",
       "      <td>1</td>\n",
       "      <td>0</td>\n",
       "      <td>1</td>\n",
       "      <td>1</td>\n",
       "    </tr>\n",
       "    <tr>\n",
       "      <th>2</th>\n",
       "      <td>0</td>\n",
       "      <td>2</td>\n",
       "      <td>0</td>\n",
       "      <td>1</td>\n",
       "      <td>1</td>\n",
       "      <td>1</td>\n",
       "      <td>2</td>\n",
       "      <td>0</td>\n",
       "      <td>1</td>\n",
       "      <td>1</td>\n",
       "      <td>...</td>\n",
       "      <td>1</td>\n",
       "      <td>1</td>\n",
       "      <td>1</td>\n",
       "      <td>1</td>\n",
       "      <td>1</td>\n",
       "      <td>1</td>\n",
       "      <td>1</td>\n",
       "      <td>0</td>\n",
       "      <td>1</td>\n",
       "      <td>0</td>\n",
       "    </tr>\n",
       "  </tbody>\n",
       "</table>\n",
       "<p>3 rows × 23 columns</p>\n",
       "</div>"
      ],
      "text/plain": [
       "   cow  farm  farm had  farm he  farm on  goat  had  had cow  had farm  \\\n",
       "0    1     2         0        0        2     0    2        1         1   \n",
       "1    0     2         1        0        1     0    2        0         1   \n",
       "2    0     2         0        1        1     1    2        0         1   \n",
       "\n",
       "   had goat  ...  his  his farm  macdonald  macdonald had  old  old macdonald  \\\n",
       "0         0  ...    1         1          1              1    1              1   \n",
       "1         0  ...    1         1          1              1    1              1   \n",
       "2         1  ...    1         1          1              1    1              1   \n",
       "\n",
       "   on  on had  on his  pig  \n",
       "0   2       1       1    0  \n",
       "1   1       0       1    1  \n",
       "2   1       0       1    0  \n",
       "\n",
       "[3 rows x 23 columns]"
      ]
     },
     "execution_count": 12,
     "metadata": {},
     "output_type": "execute_result"
    }
   ],
   "source": [
    "cv_gram = CountVectorizer(ngram_range=(1,2))\n",
    "cv_gram_matrix = cv_gram.fit_transform(corpus)\n",
    "\n",
    "cv_gram_vocab = cv_gram.get_feature_names_out()\n",
    "cv_gram_df = pd.DataFrame(cv_gram_matrix.toarray(), columns = cv_gram_vocab)\n",
    "cv_gram_df"
   ]
  },
  {
   "cell_type": "code",
   "execution_count": 14,
   "id": "85f2b338-fbef-4ed6-aa1e-f566818d983b",
   "metadata": {
    "tags": []
   },
   "outputs": [],
   "source": [
    "from sklearn.pipeline import Pipeline\n",
    "from sklearn.feature_extraction.text import TfidfTransformer"
   ]
  },
  {
   "cell_type": "code",
   "execution_count": 15,
   "id": "7cd3741a-df0f-43ec-a983-63e3cad000dc",
   "metadata": {
    "tags": []
   },
   "outputs": [],
   "source": [
    "pipe = Pipeline(\n",
    "steps = [('counter', CountVectorizer(binary = True)),\n",
    "          ('tfidf', TfidfTransformer())\n",
    "        ],\n",
    "    memory = None\n",
    ")\n",
    "\n",
    "X  = pipe.fit_transform(corpus)"
   ]
  },
  {
   "cell_type": "code",
   "execution_count": 16,
   "id": "978a1c4a-b322-4bba-9cbc-229d055407b8",
   "metadata": {
    "tags": []
   },
   "outputs": [
    {
     "data": {
      "text/plain": [
       "array([[0.56860745, 0.33582872, 0.        , 0.33582872, 0.        ,\n",
       "        0.33582872, 0.33582872, 0.33582872, 0.33582872, 0.        ],\n",
       "       [0.        , 0.33582872, 0.        , 0.33582872, 0.        ,\n",
       "        0.33582872, 0.33582872, 0.33582872, 0.33582872, 0.56860745],\n",
       "       [0.        , 0.2919351 , 0.49428908, 0.2919351 , 0.49428908,\n",
       "        0.2919351 , 0.2919351 , 0.2919351 , 0.2919351 , 0.        ]])"
      ]
     },
     "execution_count": 16,
     "metadata": {},
     "output_type": "execute_result"
    }
   ],
   "source": [
    "X.toarray()"
   ]
  },
  {
   "cell_type": "code",
   "execution_count": 18,
   "id": "1c51b222-f386-452e-ba06-510c6b2e6779",
   "metadata": {
    "tags": []
   },
   "outputs": [
    {
     "data": {
      "text/plain": [
       "array([[1, 1, 0, 1, 0, 1, 1, 1, 1, 0],\n",
       "       [0, 1, 0, 1, 0, 1, 1, 1, 1, 1],\n",
       "       [0, 1, 1, 1, 1, 1, 1, 1, 1, 0]])"
      ]
     },
     "execution_count": 18,
     "metadata": {},
     "output_type": "execute_result"
    }
   ],
   "source": [
    "pipe['counter'].fit_transform(corpus).toarray()"
   ]
  },
  {
   "cell_type": "code",
   "execution_count": 20,
   "id": "0d4c06ef-a96a-4030-8eb1-1816093bde03",
   "metadata": {
    "tags": []
   },
   "outputs": [],
   "source": [
    "from sklearn.feature_extraction.text import TfidfVectorizer"
   ]
  },
  {
   "cell_type": "code",
   "execution_count": 21,
   "id": "4033d9ef-e5fa-4909-81eb-fd1a69032a46",
   "metadata": {
    "tags": []
   },
   "outputs": [],
   "source": [
    "tf = TfidfVectorizer(binary = True)\n",
    "X1 = tf.fit_transform(corpus)"
   ]
  },
  {
   "cell_type": "code",
   "execution_count": 22,
   "id": "7d10ad22-d9f3-4229-b4e0-e96b258929af",
   "metadata": {
    "tags": []
   },
   "outputs": [
    {
     "data": {
      "text/plain": [
       "array([[0.56860745, 0.33582872, 0.        , 0.33582872, 0.        ,\n",
       "        0.33582872, 0.33582872, 0.33582872, 0.33582872, 0.        ],\n",
       "       [0.        , 0.33582872, 0.        , 0.33582872, 0.        ,\n",
       "        0.33582872, 0.33582872, 0.33582872, 0.33582872, 0.56860745],\n",
       "       [0.        , 0.2919351 , 0.49428908, 0.2919351 , 0.49428908,\n",
       "        0.2919351 , 0.2919351 , 0.2919351 , 0.2919351 , 0.        ]])"
      ]
     },
     "execution_count": 22,
     "metadata": {},
     "output_type": "execute_result"
    }
   ],
   "source": [
    "X1.toarray()"
   ]
  },
  {
   "cell_type": "code",
   "execution_count": 24,
   "id": "e0e29ae0-734d-4849-941e-5c93d04f9662",
   "metadata": {
    "tags": []
   },
   "outputs": [
    {
     "data": {
      "text/plain": [
       "array(['cow', 'farm', 'goat', 'had', 'he', 'his', 'macdonald', 'old',\n",
       "       'on', 'pig'], dtype=object)"
      ]
     },
     "execution_count": 24,
     "metadata": {},
     "output_type": "execute_result"
    }
   ],
   "source": [
    "tf.get_feature_names_out()"
   ]
  },
  {
   "cell_type": "code",
   "execution_count": 25,
   "id": "29215369-f941-486d-8b5b-06f68a4b1990",
   "metadata": {
    "tags": []
   },
   "outputs": [],
   "source": [
    "from sklearn import set_config"
   ]
  },
  {
   "cell_type": "code",
   "execution_count": 26,
   "id": "736b5751-137d-47ef-ac19-f071726ecc8e",
   "metadata": {
    "tags": []
   },
   "outputs": [
    {
     "data": {
      "text/html": [
       "<style>#sk-container-id-1 {color: black;background-color: white;}#sk-container-id-1 pre{padding: 0;}#sk-container-id-1 div.sk-toggleable {background-color: white;}#sk-container-id-1 label.sk-toggleable__label {cursor: pointer;display: block;width: 100%;margin-bottom: 0;padding: 0.3em;box-sizing: border-box;text-align: center;}#sk-container-id-1 label.sk-toggleable__label-arrow:before {content: \"▸\";float: left;margin-right: 0.25em;color: #696969;}#sk-container-id-1 label.sk-toggleable__label-arrow:hover:before {color: black;}#sk-container-id-1 div.sk-estimator:hover label.sk-toggleable__label-arrow:before {color: black;}#sk-container-id-1 div.sk-toggleable__content {max-height: 0;max-width: 0;overflow: hidden;text-align: left;background-color: #f0f8ff;}#sk-container-id-1 div.sk-toggleable__content pre {margin: 0.2em;color: black;border-radius: 0.25em;background-color: #f0f8ff;}#sk-container-id-1 input.sk-toggleable__control:checked~div.sk-toggleable__content {max-height: 200px;max-width: 100%;overflow: auto;}#sk-container-id-1 input.sk-toggleable__control:checked~label.sk-toggleable__label-arrow:before {content: \"▾\";}#sk-container-id-1 div.sk-estimator input.sk-toggleable__control:checked~label.sk-toggleable__label {background-color: #d4ebff;}#sk-container-id-1 div.sk-label input.sk-toggleable__control:checked~label.sk-toggleable__label {background-color: #d4ebff;}#sk-container-id-1 input.sk-hidden--visually {border: 0;clip: rect(1px 1px 1px 1px);clip: rect(1px, 1px, 1px, 1px);height: 1px;margin: -1px;overflow: hidden;padding: 0;position: absolute;width: 1px;}#sk-container-id-1 div.sk-estimator {font-family: monospace;background-color: #f0f8ff;border: 1px dotted black;border-radius: 0.25em;box-sizing: border-box;margin-bottom: 0.5em;}#sk-container-id-1 div.sk-estimator:hover {background-color: #d4ebff;}#sk-container-id-1 div.sk-parallel-item::after {content: \"\";width: 100%;border-bottom: 1px solid gray;flex-grow: 1;}#sk-container-id-1 div.sk-label:hover label.sk-toggleable__label {background-color: #d4ebff;}#sk-container-id-1 div.sk-serial::before {content: \"\";position: absolute;border-left: 1px solid gray;box-sizing: border-box;top: 0;bottom: 0;left: 50%;z-index: 0;}#sk-container-id-1 div.sk-serial {display: flex;flex-direction: column;align-items: center;background-color: white;padding-right: 0.2em;padding-left: 0.2em;position: relative;}#sk-container-id-1 div.sk-item {position: relative;z-index: 1;}#sk-container-id-1 div.sk-parallel {display: flex;align-items: stretch;justify-content: center;background-color: white;position: relative;}#sk-container-id-1 div.sk-item::before, #sk-container-id-1 div.sk-parallel-item::before {content: \"\";position: absolute;border-left: 1px solid gray;box-sizing: border-box;top: 0;bottom: 0;left: 50%;z-index: -1;}#sk-container-id-1 div.sk-parallel-item {display: flex;flex-direction: column;z-index: 1;position: relative;background-color: white;}#sk-container-id-1 div.sk-parallel-item:first-child::after {align-self: flex-end;width: 50%;}#sk-container-id-1 div.sk-parallel-item:last-child::after {align-self: flex-start;width: 50%;}#sk-container-id-1 div.sk-parallel-item:only-child::after {width: 0;}#sk-container-id-1 div.sk-dashed-wrapped {border: 1px dashed gray;margin: 0 0.4em 0.5em 0.4em;box-sizing: border-box;padding-bottom: 0.4em;background-color: white;}#sk-container-id-1 div.sk-label label {font-family: monospace;font-weight: bold;display: inline-block;line-height: 1.2em;}#sk-container-id-1 div.sk-label-container {text-align: center;}#sk-container-id-1 div.sk-container {/* jupyter's `normalize.less` sets `[hidden] { display: none; }` but bootstrap.min.css set `[hidden] { display: none !important; }` so we also need the `!important` here to be able to override the default hidden behavior on the sphinx rendered scikit-learn.org. See: https://github.com/scikit-learn/scikit-learn/issues/21755 */display: inline-block !important;position: relative;}#sk-container-id-1 div.sk-text-repr-fallback {display: none;}</style><div id=\"sk-container-id-1\" class=\"sk-top-container\"><div class=\"sk-text-repr-fallback\"><pre>Pipeline(steps=[(&#x27;counter&#x27;, CountVectorizer(binary=True)),\n",
       "                (&#x27;tfidf&#x27;, TfidfTransformer())])</pre><b>In a Jupyter environment, please rerun this cell to show the HTML representation or trust the notebook. <br />On GitHub, the HTML representation is unable to render, please try loading this page with nbviewer.org.</b></div><div class=\"sk-container\" hidden><div class=\"sk-item sk-dashed-wrapped\"><div class=\"sk-label-container\"><div class=\"sk-label sk-toggleable\"><input class=\"sk-toggleable__control sk-hidden--visually\" id=\"sk-estimator-id-1\" type=\"checkbox\" ><label for=\"sk-estimator-id-1\" class=\"sk-toggleable__label sk-toggleable__label-arrow\">Pipeline</label><div class=\"sk-toggleable__content\"><pre>Pipeline(steps=[(&#x27;counter&#x27;, CountVectorizer(binary=True)),\n",
       "                (&#x27;tfidf&#x27;, TfidfTransformer())])</pre></div></div></div><div class=\"sk-serial\"><div class=\"sk-item\"><div class=\"sk-estimator sk-toggleable\"><input class=\"sk-toggleable__control sk-hidden--visually\" id=\"sk-estimator-id-2\" type=\"checkbox\" ><label for=\"sk-estimator-id-2\" class=\"sk-toggleable__label sk-toggleable__label-arrow\">CountVectorizer</label><div class=\"sk-toggleable__content\"><pre>CountVectorizer(binary=True)</pre></div></div></div><div class=\"sk-item\"><div class=\"sk-estimator sk-toggleable\"><input class=\"sk-toggleable__control sk-hidden--visually\" id=\"sk-estimator-id-3\" type=\"checkbox\" ><label for=\"sk-estimator-id-3\" class=\"sk-toggleable__label sk-toggleable__label-arrow\">TfidfTransformer</label><div class=\"sk-toggleable__content\"><pre>TfidfTransformer()</pre></div></div></div></div></div></div></div>"
      ],
      "text/plain": [
       "Pipeline(steps=[('counter', CountVectorizer(binary=True)),\n",
       "                ('tfidf', TfidfTransformer())])"
      ]
     },
     "metadata": {},
     "output_type": "display_data"
    }
   ],
   "source": [
    "set_config(display = 'diagram')\n",
    "display(pipe)\n",
    "set_config(display = 'text')"
   ]
  },
  {
   "cell_type": "code",
   "execution_count": 32,
   "id": "33e70fdd-6a2b-45ed-a1a1-9b3b12d127a3",
   "metadata": {
    "tags": []
   },
   "outputs": [
    {
     "name": "stdout",
     "output_type": "stream",
     "text": [
      "============ Document 0 ==============\n",
      "7 Old 0.3358287187015034\n",
      "6 macdonald 0.3358287187015034\n",
      "3 had 0.3358287187015034\n",
      "-1 a 0.0\n",
      "-1 farm, 0.0\n",
      "8 on 0.3358287187015034\n",
      "5 his 0.3358287187015034\n",
      "1 farm 0.3358287187015034\n",
      "8 on 0.3358287187015034\n",
      "3 had 0.3358287187015034\n",
      "-1 a 0.0\n",
      "-1 cow. 0.0\n",
      "============ Document 1 ==============\n",
      "7 Old 0.3358287187015034\n",
      "6 macdonald 0.3358287187015034\n",
      "3 had 0.3358287187015034\n",
      "-1 a 0.5686074482205095\n",
      "-1 farm, 0.5686074482205095\n",
      "8 on 0.3358287187015034\n",
      "5 his 0.3358287187015034\n",
      "1 farm 0.3358287187015034\n",
      "3 had 0.3358287187015034\n",
      "-1 a 0.5686074482205095\n",
      "-1 pig. 0.5686074482205095\n",
      "============ Document 2 ==============\n",
      "7 Old 0.2919350959760435\n",
      "6 macdonald 0.2919350959760435\n",
      "3 had 0.2919350959760435\n",
      "-1 a 0.0\n",
      "-1 farm, 0.0\n",
      "8 on 0.2919350959760435\n",
      "5 his 0.2919350959760435\n",
      "1 farm 0.2919350959760435\n",
      "4 he 0.49428908465833515\n",
      "3 had 0.2919350959760435\n",
      "-1 a 0.0\n",
      "-1 goat. 0.0\n"
     ]
    }
   ],
   "source": [
    "vocab1 = list(tf.get_feature_names_out())\n",
    "\n",
    "for i, c in enumerate(corpus):\n",
    "    print(f'============ Document {i} ==============')\n",
    "    for item in c.split(' '):\n",
    "        try:\n",
    "            idx = vocab1.index(item.lower())\n",
    "        except:\n",
    "            idx = -1\n",
    "        \n",
    "        print(idx, item, X1.toarray()[i][idx])"
   ]
  },
  {
   "cell_type": "code",
   "execution_count": null,
   "id": "4cb4d61c-d645-49ae-a48c-7fbd92c392f4",
   "metadata": {},
   "outputs": [],
   "source": []
  }
 ],
 "metadata": {
  "kernelspec": {
   "display_name": "Python 3 (ipykernel)",
   "language": "python",
   "name": "python3"
  },
  "language_info": {
   "codemirror_mode": {
    "name": "ipython",
    "version": 3
   },
   "file_extension": ".py",
   "mimetype": "text/x-python",
   "name": "python",
   "nbconvert_exporter": "python",
   "pygments_lexer": "ipython3",
   "version": "3.11.1"
  }
 },
 "nbformat": 4,
 "nbformat_minor": 5
}
