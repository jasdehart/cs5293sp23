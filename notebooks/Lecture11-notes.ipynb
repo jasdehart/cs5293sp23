{
 "cells": [
  {
   "cell_type": "markdown",
   "id": "03150234-9eaf-4dda-90d5-4e02007db4b5",
   "metadata": {},
   "source": [
    "# Introduction to Pandas\n",
    "\n",
    "[Pandas](https://pandas.pydata.org/) is an open-source library for data analysis and manipulation.\n",
    "\n",
    "Pandas integrates seamlessly with other Python libraries such as [NumPy](http://www.numpy.org) and [Matplotlib](http://www.matplotlib.org) for numeric processing and visualizations.\n",
    "\n",
    "When using Pandas, we will primarily interact with [DataFrames](https://pandas.pydata.org/pandas-docs/stable/reference/api/pandas.DataFrame.html) and [Series](https://pandas.pydata.org/pandas-docs/stable/reference/series.html)."
   ]
  },
  {
   "cell_type": "code",
   "execution_count": null,
   "id": "0fce99b5-83b3-443d-bf31-cdc83da63b82",
   "metadata": {},
   "outputs": [],
   "source": [
    "import pandas as pd"
   ]
  },
  {
   "cell_type": "markdown",
   "id": "288a5014-4882-455d-aac4-d29618ee7d1d",
   "metadata": {},
   "source": [
    "## Pandas Series\n",
    "A [Series](https://pandas.pydata.org/pandas-docs/stable/reference/series.html) represents a sequential list of data. It is a foundational building block of a [DataFrame](https://pandas.pydata.org/pandas-docs/stable/reference/api/pandas.DataFrame.html).\n",
    "\n",
    "### Creating a Series\n",
    "\n",
    "We create a new `Series` object as we would any Python object:\n",
    "\n",
    "```python\n",
    "s = pd.Series()\n",
    "```\n",
    "\n",
    "You can create a series object with data by passing it a list or tuple.\n",
    "We will create a list called temperatrues.\n",
    "The temperatures are not in descending or ascending order."
   ]
  },
  {
   "cell_type": "code",
   "execution_count": null,
   "id": "e1849826-f66b-4bd2-b060-afa357547565",
   "metadata": {},
   "outputs": [],
   "source": [
    "temperatures = [55, 63, 72, 65, 63, 75, 67, 59, 82, 54]\n",
    "\n",
    "series = pd.Series(temperatures)\n",
    "\n",
    "print(type(series))\n",
    "print(series)"
   ]
  },
  {
   "cell_type": "markdown",
   "id": "124c0b18-7283-44e3-982c-5ab5db8e24ec",
   "metadata": {},
   "source": [
    "Here we created a new `pandas.core.series.Series` object with ten values presumably representing some temperature measurement."
   ]
  },
  {
   "cell_type": "markdown",
   "id": "880a2916-9060-4322-a794-53bf9f581879",
   "metadata": {},
   "source": [
    "A data type object (an instance of numpy.dtype class) describes how the bytes in the fixed-size block of memory corresponding to an array item should be interpreted.\n",
    "It describes the following aspects of the data.\n",
    "\n",
    "1. Type of the data (integer, float, Python object, etc.)\n",
    "1. Size of the data (how many bytes is in e.g. the integer)\n",
    "1. Byte order of the data (little-endian or big-endian)\n",
    "1. If the data type is structured data type, an aggregate of other data types, (e.g., describing an array item consisting of an integer and a float),\n",
    "1. If the data type is a sub-array, what is its shape and data type.\n",
    "\n",
    "\n",
    "- object\n",
    "- int64 # 64-bit unsigned integer\n",
    "- float64 # 64-bit floating-point number\n",
    "- datetime64\n",
    "- bool\n",
    "- object\n",
    "\n",
    "The Series contains 64-bit integer data type."
   ]
  },
  {
   "cell_type": "markdown",
   "id": "594b9a3a-9f95-460e-9809-a8fdd90c7344",
   "metadata": {},
   "source": [
    "### Analyzing a Series\n",
    "\n",
    "You can ask the series to compute information about itself. The `describe()` method provides statistics about the series.\n",
    "You can also find other information about a `Series` such as if its values are all unique: series.unique()"
   ]
  },
  {
   "cell_type": "code",
   "execution_count": null,
   "id": "72db149f-7e28-4b7d-b3c9-753fa37a323b",
   "metadata": {},
   "outputs": [],
   "source": [
    "series.describe()"
   ]
  },
  {
   "cell_type": "code",
   "execution_count": null,
   "id": "e98850df-80f8-4e74-a4bf-14f6c687bdb9",
   "metadata": {},
   "outputs": [],
   "source": [
    "series.unique()"
   ]
  },
  {
   "cell_type": "markdown",
   "id": "51c17b3b-86f0-4073-a7c0-91352f9bdcf3",
   "metadata": {},
   "source": [
    "They are very similar to other data structures (list, array); individual items in a series can be accessed by index."
   ]
  },
  {
   "cell_type": "code",
   "execution_count": null,
   "id": "f2a7aaa9-f57e-4189-90d3-136601064ac9",
   "metadata": {},
   "outputs": [],
   "source": [
    "series[4]"
   ]
  },
  {
   "cell_type": "markdown",
   "id": "d536c714-e3be-4540-824f-11d7c8b2a7ad",
   "metadata": {},
   "source": [
    "We can modify individual values."
   ]
  },
  {
   "cell_type": "code",
   "execution_count": null,
   "id": "4215325b-0f98-4eb9-a3a3-2020a90ee844",
   "metadata": {},
   "outputs": [],
   "source": [
    "series[1] = 65\n",
    "series"
   ]
  },
  {
   "cell_type": "markdown",
   "id": "bb611d50-df5e-4ba9-a8b7-3f1bd60a95d3",
   "metadata": {},
   "source": [
    "You can also modify all of the elements in a series using standard Python expressions. For instance, if we wanted to add `1` to every item in a series, we can just do:"
   ]
  },
  {
   "cell_type": "code",
   "execution_count": null,
   "id": "338138b5-8b47-4e15-9374-243874872ed1",
   "metadata": {},
   "outputs": [],
   "source": [
    "series = series + 1"
   ]
  },
  {
   "cell_type": "code",
   "execution_count": null,
   "id": "9d2e3019-ccdf-441b-b405-b9fea6f67108",
   "metadata": {},
   "outputs": [],
   "source": [
    "series"
   ]
  },
  {
   "cell_type": "code",
   "execution_count": null,
   "id": "a93a984a-f5b7-42ba-b52e-7372a04ecc3e",
   "metadata": {},
   "outputs": [],
   "source": [
    "The temperatures are not in descending or ascending order."
   ]
  },
  {
   "cell_type": "code",
   "execution_count": null,
   "id": "f0ebd6db-bbff-413a-8408-23e40d3cd228",
   "metadata": {},
   "outputs": [],
   "source": [
    "series.sort_values() #ascending = False"
   ]
  },
  {
   "cell_type": "markdown",
   "id": "d9bd40f9-2bac-434d-9793-047e0180bfc5",
   "metadata": {},
   "source": [
    "Replace values where the condition is False."
   ]
  },
  {
   "cell_type": "code",
   "execution_count": null,
   "id": "6985ca22-b8d6-44d8-9221-dd878833105c",
   "metadata": {},
   "outputs": [],
   "source": [
    "series.where(series >70)"
   ]
  },
  {
   "cell_type": "markdown",
   "id": "42a5a289-aa39-459f-8595-693d909ca031",
   "metadata": {},
   "source": [
    "Replace values where the condition is True."
   ]
  },
  {
   "cell_type": "code",
   "execution_count": null,
   "id": "8ac96979-8e7d-45ea-991c-091951ed23dc",
   "metadata": {},
   "outputs": [],
   "source": [
    "series.mask(series>60)"
   ]
  },
  {
   "cell_type": "markdown",
   "id": "1e7a1514-34db-4fc9-a2ff-57df6cc07a0b",
   "metadata": {},
   "source": [
    "You can remove values from the series by index using `pop`. \t\n",
    "Return item and drops from series."
   ]
  },
  {
   "cell_type": "code",
   "execution_count": null,
   "id": "fd8b844d-68b1-4165-a09d-2f9e018452d8",
   "metadata": {},
   "outputs": [],
   "source": [
    "series.pop(4)"
   ]
  },
  {
   "cell_type": "code",
   "execution_count": null,
   "id": "d4c70a3a-e13a-481e-862f-01ae8f0214c5",
   "metadata": {},
   "outputs": [],
   "source": [
    "series"
   ]
  },
  {
   "cell_type": "markdown",
   "id": "ac25da88-bcec-43af-a0cf-186c18293bd8",
   "metadata": {},
   "source": [
    "Return Series with specified index labels removed."
   ]
  },
  {
   "cell_type": "code",
   "execution_count": null,
   "id": "43586eff-7c9c-40f6-9e2f-110def30e943",
   "metadata": {},
   "outputs": [],
   "source": [
    "series.drop(0)"
   ]
  },
  {
   "cell_type": "code",
   "execution_count": null,
   "id": "71eb3e8f-88bd-4ad9-9660-53739ad4fc2a",
   "metadata": {},
   "outputs": [],
   "source": [
    "series"
   ]
  },
  {
   "cell_type": "markdown",
   "id": "8dbac838-3c00-48b7-b51c-395f7fd6ddee",
   "metadata": {},
   "source": [
    "In order to get the indices back into a smooth sequential order, we can call the `reset_index` function. We pass the argument `drop=True` to tell Pandas *not* to save the old index as a new column. We pass the argument `inplace=True` to tell Pandas to modify the series directly instead of making a copy. "
   ]
  },
  {
   "cell_type": "code",
   "execution_count": null,
   "id": "19df8842-1c24-4426-acd9-0bc1e7ac2589",
   "metadata": {},
   "outputs": [],
   "source": [
    "series.reset_index(drop=True, inplace=True)\n",
    "series"
   ]
  },
  {
   "cell_type": "markdown",
   "id": "e2bd3ccd-fa46-4c65-89e6-aa99b4a2f623",
   "metadata": {},
   "source": [
    "### Math Functions\n",
    "Then, using a function in the [Series](https://pandas.pydata.org/pandas-docs/stable/reference/series.html) class, find the standard deviation of the values in that series."
   ]
  },
  {
   "cell_type": "code",
   "execution_count": null,
   "id": "afe6dc90-b287-4ccb-acec-f24853212da7",
   "metadata": {},
   "outputs": [],
   "source": [
    "import numpy as np\n",
    "\n",
    "temperatures = np.random.randint(0, 100, size=9)\n",
    "series2 = pd.Series(temperatures)\n",
    "print(series2)"
   ]
  },
  {
   "cell_type": "markdown",
   "id": "5c9e6287-365b-45da-9d50-d1143aaa4936",
   "metadata": {},
   "source": [
    "-n<N>: execute the given statement <N> times in a loop. If <N> is not provided, <N> is determined so as to get sufficient accuracy."
   ]
  },
  {
   "cell_type": "code",
   "execution_count": null,
   "id": "f7a781b6-5b40-45c2-ad07-9a948f45a40a",
   "metadata": {},
   "outputs": [],
   "source": [
    "%timeit -n1 series+series2"
   ]
  },
  {
   "cell_type": "markdown",
   "id": "5210644b-e676-4772-9d2a-daca40f89629",
   "metadata": {},
   "source": [
    "-q: Quiet, do not print result."
   ]
  },
  {
   "cell_type": "code",
   "execution_count": null,
   "id": "dbcf7e67-1cc6-45b4-8ea5-94dd831f886f",
   "metadata": {},
   "outputs": [],
   "source": [
    "%timeit -q series.add(series2)"
   ]
  },
  {
   "cell_type": "markdown",
   "id": "cdb55921-afac-40f0-9420-d415b7be5c35",
   "metadata": {},
   "source": [
    "-r R: number of repeats R, each consisting of N loops, and take the best result. Default: 7"
   ]
  },
  {
   "cell_type": "code",
   "execution_count": null,
   "id": "bfae5ec2-0017-4d62-889e-61274162b7a9",
   "metadata": {},
   "outputs": [],
   "source": [
    "%timeit -r2 series*series2"
   ]
  },
  {
   "cell_type": "markdown",
   "id": "0aab8546-cedc-4655-a417-5266a14bc34e",
   "metadata": {},
   "source": [
    "-p P: use a precision of P digits to display the timing result. Default: 3"
   ]
  },
  {
   "cell_type": "code",
   "execution_count": null,
   "id": "96a135d5-119f-4663-8577-26184de5722a",
   "metadata": {},
   "outputs": [],
   "source": [
    "%timeit -p5 series.mul(series2)"
   ]
  },
  {
   "cell_type": "code",
   "execution_count": null,
   "id": "56eb76ab-dac1-469d-8cd7-2f6e9c832a5b",
   "metadata": {},
   "outputs": [],
   "source": [
    "series.mean()"
   ]
  },
  {
   "cell_type": "code",
   "execution_count": null,
   "id": "efa816fc-a195-49d6-b905-5642fcb2f702",
   "metadata": {},
   "outputs": [],
   "source": [
    "series.std()"
   ]
  },
  {
   "cell_type": "code",
   "execution_count": null,
   "id": "aa727531-e52f-467e-9507-ab31f9f99ffe",
   "metadata": {},
   "outputs": [],
   "source": [
    "series.sum()"
   ]
  },
  {
   "cell_type": "code",
   "execution_count": null,
   "id": "ea21c11a-0f07-4500-a521-baeaac5fad21",
   "metadata": {},
   "outputs": [],
   "source": [
    "series.var()"
   ]
  },
  {
   "cell_type": "markdown",
   "id": "db6ade0a-32c4-4223-bf0d-4a45750f56d9",
   "metadata": {},
   "source": [
    "## Pandas DataFrame\n",
    "Now that we have a basic understanding of `Series`, let's dive into the [DataFrame](https://pandas.pydata.org/pandas-docs/stable/reference/api/pandas.DataFrame.html). If you picture `Series` as a *list* of data, you can think of `DataFrame` as a *table* of data.\n",
    "\n",
    "A `DataFrame` consists of one or more `Series` presented in a tabular format. Each `Series` in the `DataFrame` is a column."
   ]
  },
  {
   "cell_type": "markdown",
   "id": "00038ca4-f420-488c-8c81-71f75bba4d60",
   "metadata": {},
   "source": [
    "### Creating a DataFrame\n",
    "\n",
    "We can create a `DataFrame` using the `DataFrame` class in Pandas.\n",
    "\n",
    "Instead, let's create a `DataFrame` using a few series.\n",
    "\n",
    "In the code block below you'll see that we have two series:\n",
    "\n",
    "1. Day\n",
    "1. Temperature"
   ]
  },
  {
   "cell_type": "code",
   "execution_count": null,
   "id": "c08bdb20-3dc8-40c1-aeae-a57c6b23560d",
   "metadata": {},
   "outputs": [],
   "source": [
    "day = pd.Series(np.arange(1,11))\n",
    "\n",
    "df=pd.DataFrame({\n",
    "    'Day': day,\n",
    "    'Temp': series2\n",
    "})"
   ]
  },
  {
   "cell_type": "markdown",
   "id": "853651a2-4c6a-4fa3-b2f1-54a16cda94a1",
   "metadata": {},
   "source": [
    "We can now combine these series into a `DataFrame`, using a dictionary with keys as the column names and values as the series:"
   ]
  },
  {
   "cell_type": "code",
   "execution_count": null,
   "id": "51e9c908-c63f-4617-a2ac-793d46408254",
   "metadata": {},
   "outputs": [],
   "source": [
    "df"
   ]
  },
  {
   "cell_type": "code",
   "execution_count": null,
   "id": "8396dc5a-cbe3-4f58-8eb6-e2a664a03cb7",
   "metadata": {},
   "outputs": [],
   "source": [
    "df.describe()"
   ]
  },
  {
   "cell_type": "markdown",
   "id": "eb825dc7-bde5-47b5-8157-ba89c2e9c767",
   "metadata": {},
   "source": [
    "But a random `DataFrame` isn't particularly exciting. Instead, let's create a `DataFrame` using a csv file from our class documents. <br>\n",
    "Let's retrieve the data using read_csv."
   ]
  },
  {
   "cell_type": "code",
   "execution_count": null,
   "id": "23515a78-3f89-4a0c-8ba5-0c3f4cbc73aa",
   "metadata": {},
   "outputs": [],
   "source": [
    "pd.read_json(\"https://oudatalab.com/cs5293sp22/documents/tweets.json\", lines=True) #You have to read it line by line. "
   ]
  },
  {
   "cell_type": "code",
   "execution_count": null,
   "id": "f789dee1-a9ca-4820-a6a5-0a0ecd52b75f",
   "metadata": {},
   "outputs": [],
   "source": [
    "df = pd.read_csv(\"https://oudatalab.com/cs5293sp22/documents/salesjan2009.csv\")"
   ]
  },
  {
   "cell_type": "markdown",
   "id": "dbecf43d-8c11-4a70-b9ec-69a39736c6f7",
   "metadata": {},
   "source": [
    "We can get insight into the dataset using ```.info``` and ```.describe```."
   ]
  },
  {
   "cell_type": "code",
   "execution_count": null,
   "id": "c95074b2-a232-4361-be3e-cba4581414bf",
   "metadata": {},
   "outputs": [],
   "source": [
    "df.info()"
   ]
  },
  {
   "cell_type": "code",
   "execution_count": null,
   "id": "5091562a-e19d-4cd2-bd42-28c946d6ddba",
   "metadata": {},
   "outputs": [],
   "source": [
    "Columns with mixed types are stored with the object dtype."
   ]
  },
  {
   "cell_type": "code",
   "execution_count": null,
   "id": "a6270675-9893-4dc1-8fa6-06c808e09974",
   "metadata": {},
   "outputs": [],
   "source": [
    "df.describe()"
   ]
  },
  {
   "cell_type": "markdown",
   "id": "592f1793-ec47-4db2-bf80-0f39272dba9c",
   "metadata": {},
   "source": [
    "If we want to look at the data we could print the entire `DataFrame`, but that doesn't scale well for really large `DataFrames`. The `head` method is a way to just look at the first few rows of a `DataFrame`."
   ]
  },
  {
   "cell_type": "code",
   "execution_count": null,
   "id": "fecbcd26-4a39-47a1-a751-31fa7ca87047",
   "metadata": {},
   "outputs": [],
   "source": [
    "df.head()"
   ]
  },
  {
   "cell_type": "markdown",
   "id": "50f798f9-ded3-4748-aa21-defe7052c7c2",
   "metadata": {},
   "source": [
    "Conversely, the `tail` method returns the last few rows of a data frame."
   ]
  },
  {
   "cell_type": "code",
   "execution_count": null,
   "id": "2cfd65c3-7070-4189-b1c6-cea0560ef1d8",
   "metadata": {},
   "outputs": [],
   "source": [
    "df.tail() #choose the number of rows with an int"
   ]
  },
  {
   "cell_type": "markdown",
   "id": "0b4445b7-d07d-4cfc-8b28-0e363fbfe5d7",
   "metadata": {},
   "source": [
    "We can return a random sample of your `DataFrame`."
   ]
  },
  {
   "cell_type": "code",
   "execution_count": null,
   "id": "ff6b6564-13c5-4d2d-94be-4ee4e69413cf",
   "metadata": {},
   "outputs": [],
   "source": [
    "df.sample(n=5)"
   ]
  },
  {
   "cell_type": "markdown",
   "id": "23821106-14cc-452b-b865-92d4e31b6b57",
   "metadata": {},
   "source": [
    "We can check if the DF has missing values and what the count of those missing values are."
   ]
  },
  {
   "cell_type": "code",
   "execution_count": null,
   "id": "55922ce2-d35d-408d-af7d-c5c454918585",
   "metadata": {},
   "outputs": [],
   "source": [
    "df.isnull().sum()"
   ]
  },
  {
   "cell_type": "markdown",
   "id": "e08d0540-2340-4d34-b235-b249220f7782",
   "metadata": {},
   "source": [
    "### Accessing Values\n",
    "\n",
    "We saw that individual values in a  `Series` can be accessed using indexing similar to that seen in standard Python lists and tuples.\n",
    "Accessing values in `DataFrame` objects is a little more involved. <br>\n",
    "To access an entire column of data you can index the `DataFrame` by column name. For instance, to return the entire `Name` column as a `Series` you can run the code below:"
   ]
  },
  {
   "cell_type": "markdown",
   "id": "69b2dd9d-9b2f-49a9-a807-eedc2c674d76",
   "metadata": {},
   "source": [
    "To access an entire column of data you can index the `DataFrame` by column name. For instance, to return the entire `Name` column as a `Series` you can run the code below:"
   ]
  },
  {
   "cell_type": "markdown",
   "id": "1a5d84a9-83dc-4207-9e2a-7f61c862b5e5",
   "metadata": {},
   "source": [
    "### Accessing Values\n",
    "\n",
    "We saw that individual values in a  `Series` can be accessed using indexing similar to that seen in standard Python lists and tuples.\n",
    "Accessing values in `DataFrame` objects is a little more involved."
   ]
  },
  {
   "cell_type": "markdown",
   "id": "0123a0a8-f57a-48f2-be0e-a33b043587cd",
   "metadata": {},
   "source": [
    "#### Accessing Columns\n",
    "\n",
    "To access an entire column of data you can index the `DataFrame` by column name. For instance, to return the entire `Name` column as a `Series` you can run the code below:"
   ]
  },
  {
   "cell_type": "code",
   "execution_count": null,
   "id": "6b46f65c-7b25-4d6f-a65c-fb0e4e9da330",
   "metadata": {},
   "outputs": [],
   "source": [
    "df['Name']"
   ]
  },
  {
   "cell_type": "markdown",
   "id": "bea2e6cd-af60-4d1c-a78c-5c8c86aa8580",
   "metadata": {},
   "source": [
    "Sometimes you might also see columns of data referenced using the dot notation:"
   ]
  },
  {
   "cell_type": "code",
   "execution_count": null,
   "id": "294cd6f0-7930-4844-b872-685e62b285aa",
   "metadata": {},
   "outputs": [],
   "source": [
    "df.Name"
   ]
  },
  {
   "cell_type": "markdown",
   "id": "3b567234-8004-475a-b92a-31cee895bced",
   "metadata": {},
   "source": [
    "This is a neat trick, but it is problematic for a couple of reasons:\n",
    "\n",
    "1. You can only get a `Series` back.\n",
    "1. It is impossible to reference columns with spaces in the names with this notation (ex. 'City Name').\n",
    "1. It is confusing if a column has the same name as an inbuilt method of a `DataFrame`, such as `size`.\n",
    "\n",
    "We mention this notation because you'll likely see it. However, we don't advise using it."
   ]
  },
  {
   "cell_type": "markdown",
   "id": "f1857558-eacd-4007-89fe-a0299cb8bd81",
   "metadata": {},
   "source": [
    "In this case, you index the `DataFrame` using a list, where the list contains the name of the column that you want returned as a `DataFrame`:"
   ]
  },
  {
   "cell_type": "code",
   "execution_count": null,
   "id": "230d5a9b-d9e9-42a1-9ac5-7a38a88a885b",
   "metadata": {},
   "outputs": [],
   "source": [
    "df[['Name']]"
   ]
  },
  {
   "cell_type": "markdown",
   "id": "eb51a3b9-db54-40cb-9a73-9db865ccdb3f",
   "metadata": {},
   "source": [
    "Similarly, you can return more than one column in the resultant `DataFrame`:"
   ]
  },
  {
   "cell_type": "code",
   "execution_count": null,
   "id": "5fcc308a-de75-46b4-aa46-ba7df3b4a438",
   "metadata": {},
   "outputs": [],
   "source": [
    "df[['Name', 'City']]"
   ]
  },
  {
   "cell_type": "markdown",
   "id": "fbe47c9b-41af-424d-aa40-d08436d862ca",
   "metadata": {},
   "source": [
    "#### Accessing Rows\n",
    "\n",
    "What would happen if you try index to the 1st element?"
   ]
  },
  {
   "cell_type": "code",
   "execution_count": null,
   "id": "c4594f24-0475-4849-97d4-73e12ab35d35",
   "metadata": {},
   "outputs": [],
   "source": [
    "df[1]"
   ]
  },
  {
   "cell_type": "markdown",
   "id": "6479d8f9-9956-46e1-abff-68dc4b29c3a6",
   "metadata": {},
   "source": [
    "In order to access rows of data, you can't use standard indexing.\n",
    "It would seem natural to index using a numeric row value, but as you can see in the example, this yields a `KeyError`.\n",
    "This is because the default indexing is to look for column names, and numbers are valid column names.\n",
    "If you had a column named `1` in a `DataFrame` with at least two rows, Pandas wouldn't know if you wanted row `1` or column `1`.\n",
    "\n",
    "In order to index by row, you must use the `iloc` feature of the `DataFrame` object."
   ]
  },
  {
   "cell_type": "code",
   "execution_count": null,
   "id": "19f7b674-aede-4b04-a6e6-40710fb3115e",
   "metadata": {},
   "outputs": [],
   "source": [
    "df.iloc[1]"
   ]
  },
  {
   "cell_type": "markdown",
   "id": "8c5c7c27-5931-45d5-b903-d2ddb7448c8d",
   "metadata": {},
   "source": [
    "The code above returns the second row of data in the `DataFrame` as a `Series`.\n",
    "\n",
    "You can also return multiple rows using slices:"
   ]
  },
  {
   "cell_type": "code",
   "execution_count": null,
   "id": "c4ed2628-6827-4ac6-84a9-0db06f0945bd",
   "metadata": {},
   "outputs": [],
   "source": [
    "df.iloc[1:3]"
   ]
  },
  {
   "cell_type": "markdown",
   "id": "83e53c34-3edf-4545-b669-e549bc099105",
   "metadata": {},
   "source": [
    "If you want sparse rows that don't fall into an easily defined range, you can pass `iloc` a list of rows that you would like returned:"
   ]
  },
  {
   "cell_type": "code",
   "execution_count": null,
   "id": "c0c1fe25-593a-46d1-8bd4-4138ae327993",
   "metadata": {},
   "outputs": [],
   "source": [
    "df.iloc[[1, 3]]"
   ]
  },
  {
   "cell_type": "markdown",
   "id": "191fcfbb-701e-4999-bbb8-ff6b929ab1b4",
   "metadata": {},
   "source": [
    "##### Accessing Row/Column Intersections\n",
    "\n",
    "We've learned how to access columns by direct indexing on the `DataFrame`. We've learned how to access rows by using `iloc`. You can combine these two access methods using the `loc` functionality of the `DataFrame` object.\n",
    "\n",
    "Simply call `loc` and pass it two arguments:\n",
    "\n",
    "1. The row(s) you want to access\n",
    "1. The column(s) you want to access\n",
    "\n",
    "Using this, we access the 'Name' in the third row of the `DataFrame`:"
   ]
  },
  {
   "cell_type": "code",
   "execution_count": null,
   "id": "27605b7b-1ef4-4ad7-897b-e18ef7ae2900",
   "metadata": {},
   "outputs": [],
   "source": [
    "df.loc[2, 'Name']"
   ]
  },
  {
   "cell_type": "markdown",
   "id": "33511234-fc47-49d3-b121-564ece80eb56",
   "metadata": {},
   "source": [
    "We can access the 'Name' and 'City' columns in the third and fourth rows of the `DataFrame`:"
   ]
  },
  {
   "cell_type": "code",
   "execution_count": null,
   "id": "02f64c25-06c7-45f2-823e-0d4b6bf6dea0",
   "metadata": {},
   "outputs": [],
   "source": [
    "df.loc[[2,3], ['Name', 'City']]"
   ]
  },
  {
   "cell_type": "markdown",
   "id": "6b3cea88-f0d0-4595-bf2f-6457a4fb8733",
   "metadata": {},
   "source": [
    "#### Modifying Values\n",
    "\n",
    "There are many ways to modify values in a `DataFrame`. We'll look at a few of the more straightforward ways in this section."
   ]
  },
  {
   "cell_type": "markdown",
   "id": "764417fe-d571-415a-a03b-24807a05678d",
   "metadata": {},
   "source": [
    "##### Modifying Individual Values\n",
    "\n",
    "The easiest way to modify a single value in a `DataFrame` is to directly index it on the left-hand sign of an expression."
   ]
  },
  {
   "cell_type": "code",
   "execution_count": null,
   "id": "b9d06c30-b4ce-4cd9-aac7-8353b8cc54b8",
   "metadata": {},
   "outputs": [],
   "source": [
    "df.loc[6,'City']"
   ]
  },
  {
   "cell_type": "code",
   "execution_count": null,
   "id": "57e52716-fe63-453c-9225-c828451c3866",
   "metadata": {},
   "outputs": [],
   "source": [
    "df.loc[6, 'City'] = 'Norman'"
   ]
  },
  {
   "cell_type": "markdown",
   "id": "fc090f22-3f17-4ef3-9110-0f92d9000e26",
   "metadata": {},
   "source": [
    "##### Modifying an Entire Column\n",
    "\n",
    "Modifying a single value is a great skill to have, especially when working with small numbers of  **outliers**.\n",
    "\n",
    "When would you want to do this?\n",
    "\n",
    "Consider the 'Price' column from the Dataframe. It is integer-valued. For this we can do column-level modifications.\n",
    "\n",
    "In the example below we simply divide the price by 10."
   ]
  },
  {
   "cell_type": "code",
   "execution_count": null,
   "id": "13d1cd5b-b4e8-494f-8805-a3dcf2e08116",
   "metadata": {},
   "outputs": [],
   "source": [
    "df['Price'] /= 10\n",
    "df"
   ]
  },
  {
   "cell_type": "markdown",
   "id": "33ba6143-a688-4ca7-a4b9-bb00740f797a",
   "metadata": {},
   "source": [
    "Instead of overwriting the existing column, you may instead want to create a new column. This can be done by assigning to a new column name:"
   ]
  },
  {
   "cell_type": "code",
   "execution_count": null,
   "id": "dea7ed40-c654-44e1-af5c-29da79dcf6ed",
   "metadata": {},
   "outputs": [],
   "source": [
    "df['Price_Mod'] = df['Price'] / 10"
   ]
  },
  {
   "cell_type": "code",
   "execution_count": null,
   "id": "e9dbbde6-e532-47d6-94c5-f6f0151c051b",
   "metadata": {},
   "outputs": [],
   "source": [
    "df"
   ]
  },
  {
   "cell_type": "markdown",
   "id": "7e7dd3d1-5f14-495d-8dab-d5ee0f9b2868",
   "metadata": {},
   "source": [
    "If we want to replace a value in a particular column we could use `.replace`."
   ]
  },
  {
   "cell_type": "code",
   "execution_count": null,
   "id": "085f2b70-efc4-44a3-8fa5-9959298e4e59",
   "metadata": {},
   "outputs": [],
   "source": [
    "df.Product.replace('Product1', 'MyProduct')"
   ]
  },
  {
   "cell_type": "markdown",
   "id": "6af6acf5-5134-4569-bda3-990e068ef6c1",
   "metadata": {},
   "source": [
    "If we want to fill missing values in a particular column we could use `.fillna`.\n",
    "We will replace the null values from US Zip Column with 00000."
   ]
  },
  {
   "cell_type": "code",
   "execution_count": null,
   "id": "16355b1a-94a1-409f-a214-2fc39ceda962",
   "metadata": {},
   "outputs": [],
   "source": [
    "df['US Zip'].fillna(\"00000\")"
   ]
  },
  {
   "cell_type": "code",
   "execution_count": null,
   "id": "5098e025-ef27-4820-8543-16224950c56c",
   "metadata": {},
   "outputs": [],
   "source": [
    "df['Price'].unique()"
   ]
  },
  {
   "cell_type": "markdown",
   "id": "17beb1a7-323b-4c07-9087-801016d11ff1",
   "metadata": {},
   "source": [
    "### Queries and Groupby"
   ]
  },
  {
   "cell_type": "markdown",
   "id": "80b67bbb-a67a-4d52-903a-b7758240fefb",
   "metadata": {},
   "source": [
    "#### Query\n",
    "Query the columns of a DataFrame."
   ]
  },
  {
   "cell_type": "code",
   "execution_count": null,
   "id": "372516eb-68eb-44bb-af7e-c92b39175e71",
   "metadata": {},
   "outputs": [],
   "source": [
    "df[df.Account_Created >= df.Last_Login]"
   ]
  },
  {
   "cell_type": "code",
   "execution_count": null,
   "id": "abc3f9f6-785c-4ffc-a101-b259107fcf73",
   "metadata": {},
   "outputs": [],
   "source": [
    "df.query('Account_Created <= Last_Login')"
   ]
  },
  {
   "cell_type": "markdown",
   "id": "556efd4d-c282-4537-bd9d-d5e4f8e2bd94",
   "metadata": {},
   "source": [
    "#### Groupby\n",
    "In pandas, SQL’s GROUP BY operations are performed using the similarly named `groupby()` method.\n",
    "`groupby()` typically refers to a process where we’d like to split a dataset into groups, apply some function (typically aggregation) , and then combine the groups together.\n",
    "\n",
    "A common SQL operation would be getting the count of records in each group throughout a dataset.\n",
    "For instance, a query getting us the number of sales left by state:\n"
   ]
  },
  {
   "cell_type": "markdown",
   "id": "bc1d1b70-9693-451d-b07b-46fa7508910c",
   "metadata": {},
   "source": [
    "```\n",
    "SELECT state, count(*)\n",
    "FROM df\n",
    "GROUP BY state;\n",
    "```"
   ]
  },
  {
   "cell_type": "code",
   "execution_count": null,
   "id": "27a9a7d1-3abc-4149-ac7c-7448b86fd2f2",
   "metadata": {},
   "outputs": [],
   "source": [
    "df.groupby(\"State\").size()"
   ]
  },
  {
   "cell_type": "markdown",
   "id": "7d36bb4d-66e1-4d8b-81bd-b464e8acb23f",
   "metadata": {},
   "source": [
    "We used size() and not count(). This is because count() applies the function to each column, returning the number of NOT NULL records within each."
   ]
  },
  {
   "cell_type": "code",
   "execution_count": null,
   "id": "3cd18e04-f068-40cd-9f29-4fea7c136d9b",
   "metadata": {},
   "outputs": [],
   "source": [
    "df.groupby(\"State\").count()"
   ]
  },
  {
   "cell_type": "markdown",
   "id": "e7c827b5-d858-434f-b8c4-98949e1e9ffe",
   "metadata": {},
   "source": [
    "Alternatively, we could have applied the count() method to an individual column:"
   ]
  },
  {
   "cell_type": "code",
   "execution_count": null,
   "id": "42624ad7-b60c-469b-9d95-360672e54ca6",
   "metadata": {},
   "outputs": [],
   "source": [
    "df.groupby('State')['State'].count()"
   ]
  },
  {
   "cell_type": "markdown",
   "id": "efe4ed8d-5008-439c-91ec-8e41aaf36b7a",
   "metadata": {},
   "source": [
    "```\n",
    "SELECT state, count(*)\n",
    "FROM df\n",
    "GROUP BY state\n",
    "ORDER BY state DESC;\n",
    "```"
   ]
  },
  {
   "cell_type": "code",
   "execution_count": null,
   "id": "e6128179-6c4d-4ad4-b66a-1dd5f3149f4a",
   "metadata": {},
   "outputs": [],
   "source": [
    "df.groupby('State')['State'].count()\n",
    ".sort_values(ascending=False)"
   ]
  },
  {
   "cell_type": "code",
   "execution_count": null,
   "id": "a9b568b6-9acc-4a13-b3d6-b3874a3d2aa9",
   "metadata": {},
   "outputs": [],
   "source": [
    "df.groupby('State')['State'].count()\n",
    ".sort_values(ascending=False).head()\n"
   ]
  },
  {
   "cell_type": "markdown",
   "id": "60a7901f-6daf-42de-a367-3f120107ec2a",
   "metadata": {},
   "source": [
    "```\n",
    "SELECT MAX(price) as LargestPrice\n",
    "FROM df\n",
    "GROUP BY product\n",
    "ORDER BY product ASC;\n",
    "```"
   ]
  },
  {
   "cell_type": "code",
   "execution_count": null,
   "id": "1f8eb7d1-6333-4ed2-acc9-bf12514e1926",
   "metadata": {},
   "outputs": [],
   "source": [
    "df.groupby('Product')['Price'].max().\n",
    "sort_values(ascending=True)"
   ]
  },
  {
   "cell_type": "markdown",
   "id": "ed86f10f-006a-4221-ab09-0ce26bf6d7ca",
   "metadata": {},
   "source": [
    "### Visualizations\n",
    "Pandas provides several different functions to visualizing our data with the help of the .plot() function."
   ]
  },
  {
   "cell_type": "code",
   "execution_count": null,
   "id": "5caedfb8-f951-4050-b519-65669ea27d71",
   "metadata": {},
   "outputs": [],
   "source": [
    "df.plot(subplots=True, figsize=(8, 8));"
   ]
  },
  {
   "cell_type": "code",
   "execution_count": null,
   "id": "1f9278c7-ba1b-4a36-9669-f1dc5e19c089",
   "metadata": {},
   "outputs": [],
   "source": [
    "df['Price'].plot.hist()"
   ]
  },
  {
   "cell_type": "code",
   "execution_count": null,
   "id": "7112e172-d656-498a-a27c-5238302e58a5",
   "metadata": {},
   "outputs": [],
   "source": [
    "_ = df.hist(figsize=(8,8))"
   ]
  },
  {
   "cell_type": "code",
   "execution_count": null,
   "id": "1d748e38-d9f2-48b2-ac6e-33af67b14b8b",
   "metadata": {},
   "outputs": [],
   "source": [
    "df[['Latitude', 'Longitude']].plot.box()"
   ]
  },
  {
   "cell_type": "code",
   "execution_count": null,
   "id": "bd112912-d387-47a0-b863-be96dc59a2d9",
   "metadata": {},
   "outputs": [],
   "source": [
    "df.plot.scatter(x=\"Payment_Type\", y=\"Price\")"
   ]
  },
  {
   "cell_type": "code",
   "execution_count": null,
   "id": "f9ea8bc0-3795-4e31-861b-a6cda7abe928",
   "metadata": {},
   "outputs": [],
   "source": [
    "df.groupby('Product')['Price'].count().sort_values(ascending=True).plot(kind='bar')\n"
   ]
  },
  {
   "cell_type": "markdown",
   "id": "da512fe0-72ca-4439-be6d-79531588d622",
   "metadata": {},
   "source": [
    "#### Fill Between\n",
    "The fill_between function generates a shaded region between a min and max boundary that is useful for illustrating ranges.\n",
    "At its most basic level, fill_between can be used for error bars and show the error bound of the std dev"
   ]
  },
  {
   "cell_type": "code",
   "execution_count": null,
   "id": "d7fcc541-64b4-4d6a-922f-b4b707849af8",
   "metadata": {},
   "outputs": [],
   "source": [
    "import matplotlib.pyplot as plt\n",
    "\n",
    "x = np.arange(10)\n",
    "y = np.random.randint(10, size=10)\n",
    "\n",
    "plt.plot(x, y, '-o')\n",
    "plt.show()"
   ]
  },
  {
   "cell_type": "code",
   "execution_count": null,
   "id": "5495328d-4d9f-41ca-ac5c-48fe5baa9a10",
   "metadata": {},
   "outputs": [],
   "source": [
    "plt.plot(x, y, '-o')\n",
    "\n",
    "plt.fill_between(x, y, color='yellow',  alpha=0.5)\n",
    "plt.show()"
   ]
  },
  {
   "cell_type": "code",
   "execution_count": null,
   "id": "ff1e96da-9869-4342-a95a-51e81b734ea7",
   "metadata": {},
   "outputs": [],
   "source": []
  }
 ],
 "metadata": {
  "kernelspec": {
   "display_name": "Python 3",
   "language": "python",
   "name": "python3"
  },
  "language_info": {
   "codemirror_mode": {
    "name": "ipython",
    "version": 3
   },
   "file_extension": ".py",
   "mimetype": "text/x-python",
   "name": "python",
   "nbconvert_exporter": "python",
   "pygments_lexer": "ipython3",
   "version": "3.11.2"
  },
  "vscode": {
   "interpreter": {
    "hash": "08200f34fb7cbb4f11f987ae5b70e13537323676f9169757c215d50d8147bcc6"
   }
  }
 },
 "nbformat": 4,
 "nbformat_minor": 5
}
